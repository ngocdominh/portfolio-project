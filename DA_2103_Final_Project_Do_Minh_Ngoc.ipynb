{
  "nbformat": 4,
  "nbformat_minor": 0,
  "metadata": {
    "colab": {
      "name": "DA 2103 - Final Project - Do Minh Ngoc.ipynb",
      "provenance": [],
      "toc_visible": true,
      "authorship_tag": "ABX9TyNdmQeo8F3dX/6QRlYJCRJu",
      "include_colab_link": true
    },
    "kernelspec": {
      "name": "python3",
      "display_name": "Python 3"
    },
    "language_info": {
      "name": "python"
    }
  },
  "cells": [
    {
      "cell_type": "markdown",
      "metadata": {
        "id": "view-in-github",
        "colab_type": "text"
      },
      "source": [
        "<a href=\"https://colab.research.google.com/github/ngocdominh/portfolio-project/blob/main/DA_2103_Final_Project_Do_Minh_Ngoc.ipynb\" target=\"_parent\"><img src=\"https://colab.research.google.com/assets/colab-badge.svg\" alt=\"Open In Colab\"/></a>"
      ]
    },
    {
      "cell_type": "markdown",
      "source": [
        "This project is executed using the [IT Salary Survey for EU region (2018-2020)](https://www.kaggle.com/parulpandey/2020-it-salary-survey-for-eu-region) dataset.\n",
        "\n",
        "***OBJECTIVE***\n",
        "\n",
        "* Most cities of survey participants\n",
        "* Salary of participants in different cities, different seniority level, with different technologies, etc.\n",
        "* Correlation among age, experience, and salary\n",
        "* Influence of coronavirus outbreak (in 2020)"
      ],
      "metadata": {
        "id": "4ojQGvgh-bOk"
      }
    },
    {
      "cell_type": "markdown",
      "source": [
        "# I. Importing libraries and data"
      ],
      "metadata": {
        "id": "o3FEdu-N8vbh"
      }
    },
    {
      "cell_type": "code",
      "source": [
        "!pip install -U scipy"
      ],
      "metadata": {
        "colab": {
          "base_uri": "https://localhost:8080/"
        },
        "id": "dMHYAWztQyck",
        "outputId": "8eb941e8-53db-4e47-bb3e-e2e7cc32a8aa"
      },
      "execution_count": null,
      "outputs": [
        {
          "output_type": "stream",
          "name": "stdout",
          "text": [
            "Requirement already satisfied: scipy in /usr/local/lib/python3.7/dist-packages (1.4.1)\n",
            "Collecting scipy\n",
            "  Downloading scipy-1.7.3-cp37-cp37m-manylinux_2_12_x86_64.manylinux2010_x86_64.whl (38.1 MB)\n",
            "\u001b[K     |████████████████████████████████| 38.1 MB 1.4 MB/s \n",
            "\u001b[?25hRequirement already satisfied: numpy<1.23.0,>=1.16.5 in /usr/local/lib/python3.7/dist-packages (from scipy) (1.21.5)\n",
            "Installing collected packages: scipy\n",
            "  Attempting uninstall: scipy\n",
            "    Found existing installation: scipy 1.4.1\n",
            "    Uninstalling scipy-1.4.1:\n",
            "      Successfully uninstalled scipy-1.4.1\n",
            "\u001b[31mERROR: pip's dependency resolver does not currently take into account all the packages that are installed. This behaviour is the source of the following dependency conflicts.\n",
            "albumentations 0.1.12 requires imgaug<0.2.7,>=0.2.5, but you have imgaug 0.2.9 which is incompatible.\u001b[0m\n",
            "Successfully installed scipy-1.7.3\n"
          ]
        }
      ]
    },
    {
      "cell_type": "code",
      "execution_count": null,
      "metadata": {
        "id": "lzr20VxQ8DeK"
      },
      "outputs": [],
      "source": [
        "import pandas as pd\n",
        "import numpy as np\n",
        "import matplotlib.pyplot as plt\n",
        "import seaborn as sns\n",
        "%matplotlib inline"
      ]
    },
    {
      "cell_type": "code",
      "source": [
        "from google.colab import drive\n",
        "drive.mount('/content/gdrive')"
      ],
      "metadata": {
        "colab": {
          "base_uri": "https://localhost:8080/"
        },
        "id": "x-40SiCu80_3",
        "outputId": "d919b940-d77e-45f7-bddd-a5521d023277"
      },
      "execution_count": null,
      "outputs": [
        {
          "output_type": "stream",
          "name": "stdout",
          "text": [
            "Mounted at /content/gdrive\n"
          ]
        }
      ]
    },
    {
      "cell_type": "code",
      "source": [
        "sal_19 = pd.read_csv('/content/gdrive/MyDrive/Colab Notebooks/DA 2103 - Final Project/IT Salary Survey EU 2019.csv')\n",
        "sal_20 = pd.read_csv('/content/gdrive/MyDrive/Colab Notebooks/DA 2103 - Final Project/IT Salary Survey EU 2020.csv')"
      ],
      "metadata": {
        "id": "47Mdr3Mn9D8g"
      },
      "execution_count": null,
      "outputs": []
    },
    {
      "cell_type": "code",
      "source": [
        "sal_20.head()"
      ],
      "metadata": {
        "colab": {
          "base_uri": "https://localhost:8080/",
          "height": 635
        },
        "id": "PCOXRfQPtO3s",
        "outputId": "4a61918a-965a-4c3d-c6af-748d4a6e2f97"
      },
      "execution_count": null,
      "outputs": [
        {
          "output_type": "execute_result",
          "data": {
            "text/html": [
              "\n",
              "  <div id=\"df-6f6e4cf2-7757-43ab-b373-83b13645cb3b\">\n",
              "    <div class=\"colab-df-container\">\n",
              "      <div>\n",
              "<style scoped>\n",
              "    .dataframe tbody tr th:only-of-type {\n",
              "        vertical-align: middle;\n",
              "    }\n",
              "\n",
              "    .dataframe tbody tr th {\n",
              "        vertical-align: top;\n",
              "    }\n",
              "\n",
              "    .dataframe thead th {\n",
              "        text-align: right;\n",
              "    }\n",
              "</style>\n",
              "<table border=\"1\" class=\"dataframe\">\n",
              "  <thead>\n",
              "    <tr style=\"text-align: right;\">\n",
              "      <th></th>\n",
              "      <th>Timestamp</th>\n",
              "      <th>Age</th>\n",
              "      <th>Gender</th>\n",
              "      <th>City</th>\n",
              "      <th>Position</th>\n",
              "      <th>Total years of experience</th>\n",
              "      <th>Years of experience in Germany</th>\n",
              "      <th>Seniority level</th>\n",
              "      <th>Your main technology / programming language</th>\n",
              "      <th>Other technologies/programming languages you use often</th>\n",
              "      <th>Yearly brutto salary (without bonus and stocks) in EUR</th>\n",
              "      <th>Yearly bonus + stocks in EUR</th>\n",
              "      <th>Annual brutto salary (without bonus and stocks) one year ago. Only answer if staying in the same country</th>\n",
              "      <th>Annual bonus+stocks one year ago. Only answer if staying in same country</th>\n",
              "      <th>Number of vacation days</th>\n",
              "      <th>Employment status</th>\n",
              "      <th>Сontract duration</th>\n",
              "      <th>Main language at work</th>\n",
              "      <th>Company size</th>\n",
              "      <th>Company type</th>\n",
              "      <th>Have you lost your job due to the coronavirus outbreak?</th>\n",
              "      <th>Have you been forced to have a shorter working week (Kurzarbeit)? If yes, how many hours per week</th>\n",
              "      <th>Have you received additional monetary support from your employer due to Work From Home? If yes, how much in 2020 in EUR</th>\n",
              "    </tr>\n",
              "  </thead>\n",
              "  <tbody>\n",
              "    <tr>\n",
              "      <th>0</th>\n",
              "      <td>24/11/2020 11:14:15</td>\n",
              "      <td>26.0</td>\n",
              "      <td>Male</td>\n",
              "      <td>Munich</td>\n",
              "      <td>Software Engineer</td>\n",
              "      <td>5</td>\n",
              "      <td>3</td>\n",
              "      <td>Senior</td>\n",
              "      <td>TypeScript</td>\n",
              "      <td>Kotlin, Javascript / Typescript</td>\n",
              "      <td>80000.0</td>\n",
              "      <td>5000</td>\n",
              "      <td>75000.0</td>\n",
              "      <td>10000</td>\n",
              "      <td>30</td>\n",
              "      <td>Full-time employee</td>\n",
              "      <td>Unlimited contract</td>\n",
              "      <td>English</td>\n",
              "      <td>51-100</td>\n",
              "      <td>Product</td>\n",
              "      <td>No</td>\n",
              "      <td>NaN</td>\n",
              "      <td>NaN</td>\n",
              "    </tr>\n",
              "    <tr>\n",
              "      <th>1</th>\n",
              "      <td>24/11/2020 11:14:16</td>\n",
              "      <td>26.0</td>\n",
              "      <td>Male</td>\n",
              "      <td>Berlin</td>\n",
              "      <td>Backend Developer</td>\n",
              "      <td>7</td>\n",
              "      <td>4</td>\n",
              "      <td>Senior</td>\n",
              "      <td>Ruby</td>\n",
              "      <td>NaN</td>\n",
              "      <td>80000.0</td>\n",
              "      <td>NaN</td>\n",
              "      <td>82000.0</td>\n",
              "      <td>5000</td>\n",
              "      <td>28</td>\n",
              "      <td>Full-time employee</td>\n",
              "      <td>Unlimited contract</td>\n",
              "      <td>English</td>\n",
              "      <td>101-1000</td>\n",
              "      <td>Product</td>\n",
              "      <td>No</td>\n",
              "      <td>NaN</td>\n",
              "      <td>NaN</td>\n",
              "    </tr>\n",
              "    <tr>\n",
              "      <th>2</th>\n",
              "      <td>24/11/2020 11:14:21</td>\n",
              "      <td>29.0</td>\n",
              "      <td>Male</td>\n",
              "      <td>Berlin</td>\n",
              "      <td>Software Engineer</td>\n",
              "      <td>12</td>\n",
              "      <td>6</td>\n",
              "      <td>Lead</td>\n",
              "      <td>Javascript / Typescript</td>\n",
              "      <td>Javascript / Typescript, Docker</td>\n",
              "      <td>120000.0</td>\n",
              "      <td>120000</td>\n",
              "      <td>100000.0</td>\n",
              "      <td>100000</td>\n",
              "      <td>30</td>\n",
              "      <td>Self-employed (freelancer)</td>\n",
              "      <td>Temporary contract</td>\n",
              "      <td>English</td>\n",
              "      <td>101-1000</td>\n",
              "      <td>Product</td>\n",
              "      <td>Yes</td>\n",
              "      <td>NaN</td>\n",
              "      <td>NaN</td>\n",
              "    </tr>\n",
              "    <tr>\n",
              "      <th>3</th>\n",
              "      <td>24/11/2020 11:15:24</td>\n",
              "      <td>28.0</td>\n",
              "      <td>Male</td>\n",
              "      <td>Berlin</td>\n",
              "      <td>Frontend Developer</td>\n",
              "      <td>4</td>\n",
              "      <td>1</td>\n",
              "      <td>Junior</td>\n",
              "      <td>Javascript</td>\n",
              "      <td>NaN</td>\n",
              "      <td>54000.0</td>\n",
              "      <td>NaN</td>\n",
              "      <td>NaN</td>\n",
              "      <td>NaN</td>\n",
              "      <td>24</td>\n",
              "      <td>Full-time employee</td>\n",
              "      <td>Unlimited contract</td>\n",
              "      <td>English</td>\n",
              "      <td>51-100</td>\n",
              "      <td>Startup</td>\n",
              "      <td>No</td>\n",
              "      <td>NaN</td>\n",
              "      <td>NaN</td>\n",
              "    </tr>\n",
              "    <tr>\n",
              "      <th>4</th>\n",
              "      <td>24/11/2020 11:15:46</td>\n",
              "      <td>37.0</td>\n",
              "      <td>Male</td>\n",
              "      <td>Berlin</td>\n",
              "      <td>Backend Developer</td>\n",
              "      <td>17</td>\n",
              "      <td>6</td>\n",
              "      <td>Senior</td>\n",
              "      <td>C# .NET</td>\n",
              "      <td>.NET, SQL, AWS, Docker</td>\n",
              "      <td>62000.0</td>\n",
              "      <td>NaN</td>\n",
              "      <td>62000.0</td>\n",
              "      <td>NaN</td>\n",
              "      <td>29</td>\n",
              "      <td>Full-time employee</td>\n",
              "      <td>Unlimited contract</td>\n",
              "      <td>English</td>\n",
              "      <td>101-1000</td>\n",
              "      <td>Product</td>\n",
              "      <td>No</td>\n",
              "      <td>NaN</td>\n",
              "      <td>NaN</td>\n",
              "    </tr>\n",
              "  </tbody>\n",
              "</table>\n",
              "</div>\n",
              "      <button class=\"colab-df-convert\" onclick=\"convertToInteractive('df-6f6e4cf2-7757-43ab-b373-83b13645cb3b')\"\n",
              "              title=\"Convert this dataframe to an interactive table.\"\n",
              "              style=\"display:none;\">\n",
              "        \n",
              "  <svg xmlns=\"http://www.w3.org/2000/svg\" height=\"24px\"viewBox=\"0 0 24 24\"\n",
              "       width=\"24px\">\n",
              "    <path d=\"M0 0h24v24H0V0z\" fill=\"none\"/>\n",
              "    <path d=\"M18.56 5.44l.94 2.06.94-2.06 2.06-.94-2.06-.94-.94-2.06-.94 2.06-2.06.94zm-11 1L8.5 8.5l.94-2.06 2.06-.94-2.06-.94L8.5 2.5l-.94 2.06-2.06.94zm10 10l.94 2.06.94-2.06 2.06-.94-2.06-.94-.94-2.06-.94 2.06-2.06.94z\"/><path d=\"M17.41 7.96l-1.37-1.37c-.4-.4-.92-.59-1.43-.59-.52 0-1.04.2-1.43.59L10.3 9.45l-7.72 7.72c-.78.78-.78 2.05 0 2.83L4 21.41c.39.39.9.59 1.41.59.51 0 1.02-.2 1.41-.59l7.78-7.78 2.81-2.81c.8-.78.8-2.07 0-2.86zM5.41 20L4 18.59l7.72-7.72 1.47 1.35L5.41 20z\"/>\n",
              "  </svg>\n",
              "      </button>\n",
              "      \n",
              "  <style>\n",
              "    .colab-df-container {\n",
              "      display:flex;\n",
              "      flex-wrap:wrap;\n",
              "      gap: 12px;\n",
              "    }\n",
              "\n",
              "    .colab-df-convert {\n",
              "      background-color: #E8F0FE;\n",
              "      border: none;\n",
              "      border-radius: 50%;\n",
              "      cursor: pointer;\n",
              "      display: none;\n",
              "      fill: #1967D2;\n",
              "      height: 32px;\n",
              "      padding: 0 0 0 0;\n",
              "      width: 32px;\n",
              "    }\n",
              "\n",
              "    .colab-df-convert:hover {\n",
              "      background-color: #E2EBFA;\n",
              "      box-shadow: 0px 1px 2px rgba(60, 64, 67, 0.3), 0px 1px 3px 1px rgba(60, 64, 67, 0.15);\n",
              "      fill: #174EA6;\n",
              "    }\n",
              "\n",
              "    [theme=dark] .colab-df-convert {\n",
              "      background-color: #3B4455;\n",
              "      fill: #D2E3FC;\n",
              "    }\n",
              "\n",
              "    [theme=dark] .colab-df-convert:hover {\n",
              "      background-color: #434B5C;\n",
              "      box-shadow: 0px 1px 3px 1px rgba(0, 0, 0, 0.15);\n",
              "      filter: drop-shadow(0px 1px 2px rgba(0, 0, 0, 0.3));\n",
              "      fill: #FFFFFF;\n",
              "    }\n",
              "  </style>\n",
              "\n",
              "      <script>\n",
              "        const buttonEl =\n",
              "          document.querySelector('#df-6f6e4cf2-7757-43ab-b373-83b13645cb3b button.colab-df-convert');\n",
              "        buttonEl.style.display =\n",
              "          google.colab.kernel.accessAllowed ? 'block' : 'none';\n",
              "\n",
              "        async function convertToInteractive(key) {\n",
              "          const element = document.querySelector('#df-6f6e4cf2-7757-43ab-b373-83b13645cb3b');\n",
              "          const dataTable =\n",
              "            await google.colab.kernel.invokeFunction('convertToInteractive',\n",
              "                                                     [key], {});\n",
              "          if (!dataTable) return;\n",
              "\n",
              "          const docLinkHtml = 'Like what you see? Visit the ' +\n",
              "            '<a target=\"_blank\" href=https://colab.research.google.com/notebooks/data_table.ipynb>data table notebook</a>'\n",
              "            + ' to learn more about interactive tables.';\n",
              "          element.innerHTML = '';\n",
              "          dataTable['output_type'] = 'display_data';\n",
              "          await google.colab.output.renderOutput(dataTable, element);\n",
              "          const docLink = document.createElement('div');\n",
              "          docLink.innerHTML = docLinkHtml;\n",
              "          element.appendChild(docLink);\n",
              "        }\n",
              "      </script>\n",
              "    </div>\n",
              "  </div>\n",
              "  "
            ],
            "text/plain": [
              "             Timestamp  ...  Have you received additional monetary support from your employer due to Work From Home? If yes, how much in 2020 in EUR\n",
              "0  24/11/2020 11:14:15  ...                                                NaN                                                                      \n",
              "1  24/11/2020 11:14:16  ...                                                NaN                                                                      \n",
              "2  24/11/2020 11:14:21  ...                                                NaN                                                                      \n",
              "3  24/11/2020 11:15:24  ...                                                NaN                                                                      \n",
              "4  24/11/2020 11:15:46  ...                                                NaN                                                                      \n",
              "\n",
              "[5 rows x 23 columns]"
            ]
          },
          "metadata": {},
          "execution_count": 5
        }
      ]
    },
    {
      "cell_type": "code",
      "source": [
        "sal_20.info()"
      ],
      "metadata": {
        "colab": {
          "base_uri": "https://localhost:8080/"
        },
        "id": "6u79GBvwsqFV",
        "outputId": "932154f2-4772-47c4-e057-37d5d4ece4f8"
      },
      "execution_count": null,
      "outputs": [
        {
          "output_type": "stream",
          "name": "stdout",
          "text": [
            "<class 'pandas.core.frame.DataFrame'>\n",
            "RangeIndex: 1253 entries, 0 to 1252\n",
            "Data columns (total 23 columns):\n",
            " #   Column                                                                                                                   Non-Null Count  Dtype  \n",
            "---  ------                                                                                                                   --------------  -----  \n",
            " 0   Timestamp                                                                                                                1253 non-null   object \n",
            " 1   Age                                                                                                                      1226 non-null   float64\n",
            " 2   Gender                                                                                                                   1243 non-null   object \n",
            " 3   City                                                                                                                     1253 non-null   object \n",
            " 4   Position                                                                                                                 1247 non-null   object \n",
            " 5   Total years of experience                                                                                                1237 non-null   object \n",
            " 6   Years of experience in Germany                                                                                           1221 non-null   object \n",
            " 7   Seniority level                                                                                                          1241 non-null   object \n",
            " 8   Your main technology / programming language                                                                              1126 non-null   object \n",
            " 9   Other technologies/programming languages you use often                                                                   1096 non-null   object \n",
            " 10  Yearly brutto salary (without bonus and stocks) in EUR                                                                   1253 non-null   float64\n",
            " 11  Yearly bonus + stocks in EUR                                                                                             829 non-null    object \n",
            " 12  Annual brutto salary (without bonus and stocks) one year ago. Only answer if staying in the same country                 885 non-null    float64\n",
            " 13  Annual bonus+stocks one year ago. Only answer if staying in same country                                                 614 non-null    object \n",
            " 14  Number of vacation days                                                                                                  1185 non-null   object \n",
            " 15  Employment status                                                                                                        1236 non-null   object \n",
            " 16  Сontract duration                                                                                                        1224 non-null   object \n",
            " 17  Main language at work                                                                                                    1237 non-null   object \n",
            " 18  Company size                                                                                                             1235 non-null   object \n",
            " 19  Company type                                                                                                             1228 non-null   object \n",
            " 20  Have you lost your job due to the coronavirus outbreak?                                                                  1233 non-null   object \n",
            " 21  Have you been forced to have a shorter working week (Kurzarbeit)? If yes, how many hours per week                        373 non-null    float64\n",
            " 22  Have you received additional monetary support from your employer due to Work From Home? If yes, how much in 2020 in EUR  462 non-null    object \n",
            "dtypes: float64(4), object(19)\n",
            "memory usage: 225.3+ KB\n"
          ]
        }
      ]
    },
    {
      "cell_type": "markdown",
      "source": [
        "# II. Cleaning data & EDA"
      ],
      "metadata": {
        "id": "vrT_KO4g-swH"
      }
    },
    {
      "cell_type": "markdown",
      "source": [
        "## 2.1. Create new dataframes with some specific columns, convert data type, proceed null values"
      ],
      "metadata": {
        "id": "DyEvVdPFFfil"
      }
    },
    {
      "cell_type": "code",
      "source": [
        "# Rename columns\n",
        "\n",
        "sal_20.rename({'Position ': 'Position',\n",
        "               'Your main technology / programming language': 'Main technology',\n",
        "               'Yearly brutto salary (without bonus and stocks) in EUR': 'Yearly brutto salary',\n",
        "               'Have you lost your job due to the coronavirus outbreak?': 'Lost job due to cororavirus',\n",
        "               'Have you been forced to have a shorter working week (Kurzarbeit)? If yes, how many hours per week': 'Working hours remaining weekly'\n",
        "               }, axis=1, inplace=True)"
      ],
      "metadata": {
        "id": "VLHCb6_fwl-L"
      },
      "execution_count": null,
      "outputs": []
    },
    {
      "cell_type": "code",
      "source": [
        "# Remove unnecessary leading and trailing spaces\n",
        "\n",
        "sal_20 = sal_20.replace(r\"^ +| +$\", r\"\", regex=True)"
      ],
      "metadata": {
        "id": "7BmMCW6nm607"
      },
      "execution_count": null,
      "outputs": []
    },
    {
      "cell_type": "code",
      "source": [
        "sal_20.columns"
      ],
      "metadata": {
        "colab": {
          "base_uri": "https://localhost:8080/"
        },
        "id": "D6BgXYnc9zkp",
        "outputId": "168d671c-ef78-4a21-c010-01a9d865ed9a"
      },
      "execution_count": null,
      "outputs": [
        {
          "output_type": "execute_result",
          "data": {
            "text/plain": [
              "Index(['Timestamp', 'Age', 'Gender', 'City', 'Position',\n",
              "       'Total years of experience', 'Years of experience in Germany',\n",
              "       'Seniority level', 'Main technology',\n",
              "       'Other technologies/programming languages you use often',\n",
              "       'Yearly brutto salary', 'Yearly bonus + stocks in EUR',\n",
              "       'Annual brutto salary (without bonus and stocks) one year ago. Only answer if staying in the same country',\n",
              "       'Annual bonus+stocks one year ago. Only answer if staying in same country',\n",
              "       'Number of vacation days', 'Employment status', 'Сontract duration',\n",
              "       'Main language at work', 'Company size', 'Company type',\n",
              "       'Lost job due to cororavirus', 'Working hours remaining weekly',\n",
              "       'Have you received additional monetary support from your employer due to Work From Home? If yes, how much in 2020 in EUR'],\n",
              "      dtype='object')"
            ]
          },
          "metadata": {},
          "execution_count": 9
        }
      ]
    },
    {
      "cell_type": "code",
      "source": [
        "# Create a new dataframe\n",
        "\n",
        "df20 = sal_20[['Age', 'Gender', 'City', 'Position', 'Total years of experience', 'Seniority level', 'Main technology',\n",
        "        'Yearly brutto salary', 'Number of vacation days', 'Main language at work', 'Working hours remaining weekly']]\n",
        "df20.info()"
      ],
      "metadata": {
        "colab": {
          "base_uri": "https://localhost:8080/"
        },
        "id": "sjHwrOfd9nX1",
        "outputId": "f0144c21-fa89-4cab-f888-25353f09fc86"
      },
      "execution_count": null,
      "outputs": [
        {
          "output_type": "stream",
          "name": "stdout",
          "text": [
            "<class 'pandas.core.frame.DataFrame'>\n",
            "RangeIndex: 1253 entries, 0 to 1252\n",
            "Data columns (total 11 columns):\n",
            " #   Column                          Non-Null Count  Dtype  \n",
            "---  ------                          --------------  -----  \n",
            " 0   Age                             1226 non-null   float64\n",
            " 1   Gender                          1243 non-null   object \n",
            " 2   City                            1253 non-null   object \n",
            " 3   Position                        1247 non-null   object \n",
            " 4   Total years of experience       1237 non-null   object \n",
            " 5   Seniority level                 1241 non-null   object \n",
            " 6   Main technology                 1126 non-null   object \n",
            " 7   Yearly brutto salary            1253 non-null   float64\n",
            " 8   Number of vacation days         1185 non-null   object \n",
            " 9   Main language at work           1237 non-null   object \n",
            " 10  Working hours remaining weekly  373 non-null    float64\n",
            "dtypes: float64(3), object(8)\n",
            "memory usage: 107.8+ KB\n"
          ]
        }
      ]
    },
    {
      "cell_type": "code",
      "source": [
        "df20.describe()"
      ],
      "metadata": {
        "colab": {
          "base_uri": "https://localhost:8080/",
          "height": 300
        },
        "id": "gqZfVb_5wniH",
        "outputId": "f7f22889-f5c4-4bf2-8922-45b41ab2b214"
      },
      "execution_count": null,
      "outputs": [
        {
          "output_type": "execute_result",
          "data": {
            "text/html": [
              "\n",
              "  <div id=\"df-2f5045d6-f49f-4196-b6a7-e030606f14a9\">\n",
              "    <div class=\"colab-df-container\">\n",
              "      <div>\n",
              "<style scoped>\n",
              "    .dataframe tbody tr th:only-of-type {\n",
              "        vertical-align: middle;\n",
              "    }\n",
              "\n",
              "    .dataframe tbody tr th {\n",
              "        vertical-align: top;\n",
              "    }\n",
              "\n",
              "    .dataframe thead th {\n",
              "        text-align: right;\n",
              "    }\n",
              "</style>\n",
              "<table border=\"1\" class=\"dataframe\">\n",
              "  <thead>\n",
              "    <tr style=\"text-align: right;\">\n",
              "      <th></th>\n",
              "      <th>Age</th>\n",
              "      <th>Yearly brutto salary</th>\n",
              "      <th>Working hours remaining weekly</th>\n",
              "    </tr>\n",
              "  </thead>\n",
              "  <tbody>\n",
              "    <tr>\n",
              "      <th>count</th>\n",
              "      <td>1226.000000</td>\n",
              "      <td>1.253000e+03</td>\n",
              "      <td>373.000000</td>\n",
              "    </tr>\n",
              "    <tr>\n",
              "      <th>mean</th>\n",
              "      <td>32.509788</td>\n",
              "      <td>8.027904e+07</td>\n",
              "      <td>12.967828</td>\n",
              "    </tr>\n",
              "    <tr>\n",
              "      <th>std</th>\n",
              "      <td>5.663804</td>\n",
              "      <td>2.825061e+09</td>\n",
              "      <td>15.275174</td>\n",
              "    </tr>\n",
              "    <tr>\n",
              "      <th>min</th>\n",
              "      <td>20.000000</td>\n",
              "      <td>1.000100e+04</td>\n",
              "      <td>0.000000</td>\n",
              "    </tr>\n",
              "    <tr>\n",
              "      <th>25%</th>\n",
              "      <td>29.000000</td>\n",
              "      <td>5.880000e+04</td>\n",
              "      <td>0.000000</td>\n",
              "    </tr>\n",
              "    <tr>\n",
              "      <th>50%</th>\n",
              "      <td>32.000000</td>\n",
              "      <td>7.000000e+04</td>\n",
              "      <td>0.000000</td>\n",
              "    </tr>\n",
              "    <tr>\n",
              "      <th>75%</th>\n",
              "      <td>35.000000</td>\n",
              "      <td>8.000000e+04</td>\n",
              "      <td>30.000000</td>\n",
              "    </tr>\n",
              "    <tr>\n",
              "      <th>max</th>\n",
              "      <td>69.000000</td>\n",
              "      <td>1.000000e+11</td>\n",
              "      <td>40.000000</td>\n",
              "    </tr>\n",
              "  </tbody>\n",
              "</table>\n",
              "</div>\n",
              "      <button class=\"colab-df-convert\" onclick=\"convertToInteractive('df-2f5045d6-f49f-4196-b6a7-e030606f14a9')\"\n",
              "              title=\"Convert this dataframe to an interactive table.\"\n",
              "              style=\"display:none;\">\n",
              "        \n",
              "  <svg xmlns=\"http://www.w3.org/2000/svg\" height=\"24px\"viewBox=\"0 0 24 24\"\n",
              "       width=\"24px\">\n",
              "    <path d=\"M0 0h24v24H0V0z\" fill=\"none\"/>\n",
              "    <path d=\"M18.56 5.44l.94 2.06.94-2.06 2.06-.94-2.06-.94-.94-2.06-.94 2.06-2.06.94zm-11 1L8.5 8.5l.94-2.06 2.06-.94-2.06-.94L8.5 2.5l-.94 2.06-2.06.94zm10 10l.94 2.06.94-2.06 2.06-.94-2.06-.94-.94-2.06-.94 2.06-2.06.94z\"/><path d=\"M17.41 7.96l-1.37-1.37c-.4-.4-.92-.59-1.43-.59-.52 0-1.04.2-1.43.59L10.3 9.45l-7.72 7.72c-.78.78-.78 2.05 0 2.83L4 21.41c.39.39.9.59 1.41.59.51 0 1.02-.2 1.41-.59l7.78-7.78 2.81-2.81c.8-.78.8-2.07 0-2.86zM5.41 20L4 18.59l7.72-7.72 1.47 1.35L5.41 20z\"/>\n",
              "  </svg>\n",
              "      </button>\n",
              "      \n",
              "  <style>\n",
              "    .colab-df-container {\n",
              "      display:flex;\n",
              "      flex-wrap:wrap;\n",
              "      gap: 12px;\n",
              "    }\n",
              "\n",
              "    .colab-df-convert {\n",
              "      background-color: #E8F0FE;\n",
              "      border: none;\n",
              "      border-radius: 50%;\n",
              "      cursor: pointer;\n",
              "      display: none;\n",
              "      fill: #1967D2;\n",
              "      height: 32px;\n",
              "      padding: 0 0 0 0;\n",
              "      width: 32px;\n",
              "    }\n",
              "\n",
              "    .colab-df-convert:hover {\n",
              "      background-color: #E2EBFA;\n",
              "      box-shadow: 0px 1px 2px rgba(60, 64, 67, 0.3), 0px 1px 3px 1px rgba(60, 64, 67, 0.15);\n",
              "      fill: #174EA6;\n",
              "    }\n",
              "\n",
              "    [theme=dark] .colab-df-convert {\n",
              "      background-color: #3B4455;\n",
              "      fill: #D2E3FC;\n",
              "    }\n",
              "\n",
              "    [theme=dark] .colab-df-convert:hover {\n",
              "      background-color: #434B5C;\n",
              "      box-shadow: 0px 1px 3px 1px rgba(0, 0, 0, 0.15);\n",
              "      filter: drop-shadow(0px 1px 2px rgba(0, 0, 0, 0.3));\n",
              "      fill: #FFFFFF;\n",
              "    }\n",
              "  </style>\n",
              "\n",
              "      <script>\n",
              "        const buttonEl =\n",
              "          document.querySelector('#df-2f5045d6-f49f-4196-b6a7-e030606f14a9 button.colab-df-convert');\n",
              "        buttonEl.style.display =\n",
              "          google.colab.kernel.accessAllowed ? 'block' : 'none';\n",
              "\n",
              "        async function convertToInteractive(key) {\n",
              "          const element = document.querySelector('#df-2f5045d6-f49f-4196-b6a7-e030606f14a9');\n",
              "          const dataTable =\n",
              "            await google.colab.kernel.invokeFunction('convertToInteractive',\n",
              "                                                     [key], {});\n",
              "          if (!dataTable) return;\n",
              "\n",
              "          const docLinkHtml = 'Like what you see? Visit the ' +\n",
              "            '<a target=\"_blank\" href=https://colab.research.google.com/notebooks/data_table.ipynb>data table notebook</a>'\n",
              "            + ' to learn more about interactive tables.';\n",
              "          element.innerHTML = '';\n",
              "          dataTable['output_type'] = 'display_data';\n",
              "          await google.colab.output.renderOutput(dataTable, element);\n",
              "          const docLink = document.createElement('div');\n",
              "          docLink.innerHTML = docLinkHtml;\n",
              "          element.appendChild(docLink);\n",
              "        }\n",
              "      </script>\n",
              "    </div>\n",
              "  </div>\n",
              "  "
            ],
            "text/plain": [
              "               Age  Yearly brutto salary  Working hours remaining weekly\n",
              "count  1226.000000          1.253000e+03                      373.000000\n",
              "mean     32.509788          8.027904e+07                       12.967828\n",
              "std       5.663804          2.825061e+09                       15.275174\n",
              "min      20.000000          1.000100e+04                        0.000000\n",
              "25%      29.000000          5.880000e+04                        0.000000\n",
              "50%      32.000000          7.000000e+04                        0.000000\n",
              "75%      35.000000          8.000000e+04                       30.000000\n",
              "max      69.000000          1.000000e+11                       40.000000"
            ]
          },
          "metadata": {},
          "execution_count": 11
        }
      ]
    },
    {
      "cell_type": "code",
      "source": [
        "df20['Age'].mean()"
      ],
      "metadata": {
        "colab": {
          "base_uri": "https://localhost:8080/"
        },
        "id": "eOTpRlUX5COd",
        "outputId": "a82e3f20-1879-4d9b-e0df-9d1f51119a55"
      },
      "execution_count": null,
      "outputs": [
        {
          "output_type": "execute_result",
          "data": {
            "text/plain": [
              "32.50978792822186"
            ]
          },
          "metadata": {},
          "execution_count": 12
        }
      ]
    },
    {
      "cell_type": "code",
      "source": [
        "df20['Age'] = df20['Age'].fillna(32)"
      ],
      "metadata": {
        "colab": {
          "base_uri": "https://localhost:8080/"
        },
        "id": "LiTUKfg60H5_",
        "outputId": "c9d182c3-fcc8-4d12-8bb5-ec04b4eca7e4"
      },
      "execution_count": null,
      "outputs": [
        {
          "output_type": "stream",
          "name": "stderr",
          "text": [
            "/usr/local/lib/python3.7/dist-packages/ipykernel_launcher.py:1: SettingWithCopyWarning: \n",
            "A value is trying to be set on a copy of a slice from a DataFrame.\n",
            "Try using .loc[row_indexer,col_indexer] = value instead\n",
            "\n",
            "See the caveats in the documentation: https://pandas.pydata.org/pandas-docs/stable/user_guide/indexing.html#returning-a-view-versus-a-copy\n",
            "  \"\"\"Entry point for launching an IPython kernel.\n"
          ]
        }
      ]
    },
    {
      "cell_type": "code",
      "source": [
        "df20['Total years of experience'] = df20['Total years of experience'].replace('1,5', '1.5')\n",
        "df20['Total years of experience'] = df20['Total years of experience'].replace('1 (as QA Engineer) / 11 in total', '11')\n",
        "df20['Total years of experience'] = df20['Total years of experience'].replace('2,5', '2.5')\n",
        "df20['Total years of experience'] = df20['Total years of experience'].replace('15, thereof 8 as CTO', '15')\n",
        "df20['Total years of experience'] = df20['Total years of experience'].replace('6 (not as a data scientist, but as a lab scientist)', '6')\n",
        "df20['Total years of experience'] = df20['Total years of experience'].replace('383', '3')\n",
        "df20['Total years of experience'] = df20['Total years of experience'].replace('less than year', '1')\n",
        "df20['Total years of experience'] = df20['Total years of experience'].astype('float')\n",
        "df20['Total years of experience'] = df20['Total years of experience'].fillna(df20['Total years of experience'].mean())"
      ],
      "metadata": {
        "colab": {
          "base_uri": "https://localhost:8080/"
        },
        "id": "Sv06ijIgy5eQ",
        "outputId": "b7c578bc-9e56-4e6a-eb9b-2c2d1e60f6b6"
      },
      "execution_count": null,
      "outputs": [
        {
          "output_type": "stream",
          "name": "stderr",
          "text": [
            "/usr/local/lib/python3.7/dist-packages/ipykernel_launcher.py:1: SettingWithCopyWarning: \n",
            "A value is trying to be set on a copy of a slice from a DataFrame.\n",
            "Try using .loc[row_indexer,col_indexer] = value instead\n",
            "\n",
            "See the caveats in the documentation: https://pandas.pydata.org/pandas-docs/stable/user_guide/indexing.html#returning-a-view-versus-a-copy\n",
            "  \"\"\"Entry point for launching an IPython kernel.\n",
            "/usr/local/lib/python3.7/dist-packages/ipykernel_launcher.py:2: SettingWithCopyWarning: \n",
            "A value is trying to be set on a copy of a slice from a DataFrame.\n",
            "Try using .loc[row_indexer,col_indexer] = value instead\n",
            "\n",
            "See the caveats in the documentation: https://pandas.pydata.org/pandas-docs/stable/user_guide/indexing.html#returning-a-view-versus-a-copy\n",
            "  \n",
            "/usr/local/lib/python3.7/dist-packages/ipykernel_launcher.py:3: SettingWithCopyWarning: \n",
            "A value is trying to be set on a copy of a slice from a DataFrame.\n",
            "Try using .loc[row_indexer,col_indexer] = value instead\n",
            "\n",
            "See the caveats in the documentation: https://pandas.pydata.org/pandas-docs/stable/user_guide/indexing.html#returning-a-view-versus-a-copy\n",
            "  This is separate from the ipykernel package so we can avoid doing imports until\n",
            "/usr/local/lib/python3.7/dist-packages/ipykernel_launcher.py:4: SettingWithCopyWarning: \n",
            "A value is trying to be set on a copy of a slice from a DataFrame.\n",
            "Try using .loc[row_indexer,col_indexer] = value instead\n",
            "\n",
            "See the caveats in the documentation: https://pandas.pydata.org/pandas-docs/stable/user_guide/indexing.html#returning-a-view-versus-a-copy\n",
            "  after removing the cwd from sys.path.\n",
            "/usr/local/lib/python3.7/dist-packages/ipykernel_launcher.py:5: SettingWithCopyWarning: \n",
            "A value is trying to be set on a copy of a slice from a DataFrame.\n",
            "Try using .loc[row_indexer,col_indexer] = value instead\n",
            "\n",
            "See the caveats in the documentation: https://pandas.pydata.org/pandas-docs/stable/user_guide/indexing.html#returning-a-view-versus-a-copy\n",
            "  \"\"\"\n",
            "/usr/local/lib/python3.7/dist-packages/ipykernel_launcher.py:6: SettingWithCopyWarning: \n",
            "A value is trying to be set on a copy of a slice from a DataFrame.\n",
            "Try using .loc[row_indexer,col_indexer] = value instead\n",
            "\n",
            "See the caveats in the documentation: https://pandas.pydata.org/pandas-docs/stable/user_guide/indexing.html#returning-a-view-versus-a-copy\n",
            "  \n",
            "/usr/local/lib/python3.7/dist-packages/ipykernel_launcher.py:7: SettingWithCopyWarning: \n",
            "A value is trying to be set on a copy of a slice from a DataFrame.\n",
            "Try using .loc[row_indexer,col_indexer] = value instead\n",
            "\n",
            "See the caveats in the documentation: https://pandas.pydata.org/pandas-docs/stable/user_guide/indexing.html#returning-a-view-versus-a-copy\n",
            "  import sys\n",
            "/usr/local/lib/python3.7/dist-packages/ipykernel_launcher.py:8: SettingWithCopyWarning: \n",
            "A value is trying to be set on a copy of a slice from a DataFrame.\n",
            "Try using .loc[row_indexer,col_indexer] = value instead\n",
            "\n",
            "See the caveats in the documentation: https://pandas.pydata.org/pandas-docs/stable/user_guide/indexing.html#returning-a-view-versus-a-copy\n",
            "  \n",
            "/usr/local/lib/python3.7/dist-packages/ipykernel_launcher.py:9: SettingWithCopyWarning: \n",
            "A value is trying to be set on a copy of a slice from a DataFrame.\n",
            "Try using .loc[row_indexer,col_indexer] = value instead\n",
            "\n",
            "See the caveats in the documentation: https://pandas.pydata.org/pandas-docs/stable/user_guide/indexing.html#returning-a-view-versus-a-copy\n",
            "  if __name__ == '__main__':\n"
          ]
        }
      ]
    },
    {
      "cell_type": "code",
      "source": [
        "df20['Number of vacation days'].value_counts()"
      ],
      "metadata": {
        "colab": {
          "base_uri": "https://localhost:8080/"
        },
        "id": "cWQsfpM5NViR",
        "outputId": "af46c842-47a8-4041-af5a-b4cbde16c9e0"
      },
      "execution_count": null,
      "outputs": [
        {
          "output_type": "execute_result",
          "data": {
            "text/plain": [
              "30                                              488\n",
              "28                                              233\n",
              "27                                              102\n",
              "25                                               91\n",
              "26                                               71\n",
              "24                                               67\n",
              "29                                               24\n",
              "20                                               13\n",
              "21                                               10\n",
              "32                                                8\n",
              "31                                                8\n",
              "22                                                8\n",
              "unlimited                                         5\n",
              "35                                                5\n",
              "36                                                5\n",
              "40                                                4\n",
              "0                                                 4\n",
              "23                                                4\n",
              "45                                                3\n",
              "Unlimited                                         3\n",
              "14                                                3\n",
              "33                                                3\n",
              "15                                                2\n",
              "12                                                2\n",
              "23+                                               1\n",
              "34                                                1\n",
              "39                                                1\n",
              "37                                                1\n",
              "5                                                 1\n",
              "1                                                 1\n",
              "37.5                                              1\n",
              "24 labour days                                    1\n",
              "99                                                1\n",
              "50                                                1\n",
              "(no idea)                                         1\n",
              "~25                                               1\n",
              "60                                                1\n",
              "3                                                 1\n",
              "16                                                1\n",
              "38                                                1\n",
              "365                                               1\n",
              "30 in contract (but theoretically unlimited)      1\n",
              "10                                                1\n",
              "Name: Number of vacation days, dtype: int64"
            ]
          },
          "metadata": {},
          "execution_count": 15
        }
      ]
    },
    {
      "cell_type": "code",
      "source": [
        "df20[df20['Number of vacation days'] == '365']"
      ],
      "metadata": {
        "colab": {
          "base_uri": "https://localhost:8080/",
          "height": 194
        },
        "id": "itAWCXckOjrc",
        "outputId": "47de9521-f3ec-4b48-e5f3-241a180e98b4"
      },
      "execution_count": null,
      "outputs": [
        {
          "output_type": "execute_result",
          "data": {
            "text/html": [
              "\n",
              "  <div id=\"df-e2892597-4d94-43b2-b65c-550bc9231f4e\">\n",
              "    <div class=\"colab-df-container\">\n",
              "      <div>\n",
              "<style scoped>\n",
              "    .dataframe tbody tr th:only-of-type {\n",
              "        vertical-align: middle;\n",
              "    }\n",
              "\n",
              "    .dataframe tbody tr th {\n",
              "        vertical-align: top;\n",
              "    }\n",
              "\n",
              "    .dataframe thead th {\n",
              "        text-align: right;\n",
              "    }\n",
              "</style>\n",
              "<table border=\"1\" class=\"dataframe\">\n",
              "  <thead>\n",
              "    <tr style=\"text-align: right;\">\n",
              "      <th></th>\n",
              "      <th>Age</th>\n",
              "      <th>Gender</th>\n",
              "      <th>City</th>\n",
              "      <th>Position</th>\n",
              "      <th>Total years of experience</th>\n",
              "      <th>Seniority level</th>\n",
              "      <th>Main technology</th>\n",
              "      <th>Yearly brutto salary</th>\n",
              "      <th>Number of vacation days</th>\n",
              "      <th>Main language at work</th>\n",
              "      <th>Working hours remaining weekly</th>\n",
              "    </tr>\n",
              "  </thead>\n",
              "  <tbody>\n",
              "    <tr>\n",
              "      <th>235</th>\n",
              "      <td>32.0</td>\n",
              "      <td>Male</td>\n",
              "      <td>Berlin</td>\n",
              "      <td>Engineering Manager</td>\n",
              "      <td>9.0</td>\n",
              "      <td>Lead</td>\n",
              "      <td>NaN</td>\n",
              "      <td>95000.0</td>\n",
              "      <td>365</td>\n",
              "      <td>English</td>\n",
              "      <td>NaN</td>\n",
              "    </tr>\n",
              "  </tbody>\n",
              "</table>\n",
              "</div>\n",
              "      <button class=\"colab-df-convert\" onclick=\"convertToInteractive('df-e2892597-4d94-43b2-b65c-550bc9231f4e')\"\n",
              "              title=\"Convert this dataframe to an interactive table.\"\n",
              "              style=\"display:none;\">\n",
              "        \n",
              "  <svg xmlns=\"http://www.w3.org/2000/svg\" height=\"24px\"viewBox=\"0 0 24 24\"\n",
              "       width=\"24px\">\n",
              "    <path d=\"M0 0h24v24H0V0z\" fill=\"none\"/>\n",
              "    <path d=\"M18.56 5.44l.94 2.06.94-2.06 2.06-.94-2.06-.94-.94-2.06-.94 2.06-2.06.94zm-11 1L8.5 8.5l.94-2.06 2.06-.94-2.06-.94L8.5 2.5l-.94 2.06-2.06.94zm10 10l.94 2.06.94-2.06 2.06-.94-2.06-.94-.94-2.06-.94 2.06-2.06.94z\"/><path d=\"M17.41 7.96l-1.37-1.37c-.4-.4-.92-.59-1.43-.59-.52 0-1.04.2-1.43.59L10.3 9.45l-7.72 7.72c-.78.78-.78 2.05 0 2.83L4 21.41c.39.39.9.59 1.41.59.51 0 1.02-.2 1.41-.59l7.78-7.78 2.81-2.81c.8-.78.8-2.07 0-2.86zM5.41 20L4 18.59l7.72-7.72 1.47 1.35L5.41 20z\"/>\n",
              "  </svg>\n",
              "      </button>\n",
              "      \n",
              "  <style>\n",
              "    .colab-df-container {\n",
              "      display:flex;\n",
              "      flex-wrap:wrap;\n",
              "      gap: 12px;\n",
              "    }\n",
              "\n",
              "    .colab-df-convert {\n",
              "      background-color: #E8F0FE;\n",
              "      border: none;\n",
              "      border-radius: 50%;\n",
              "      cursor: pointer;\n",
              "      display: none;\n",
              "      fill: #1967D2;\n",
              "      height: 32px;\n",
              "      padding: 0 0 0 0;\n",
              "      width: 32px;\n",
              "    }\n",
              "\n",
              "    .colab-df-convert:hover {\n",
              "      background-color: #E2EBFA;\n",
              "      box-shadow: 0px 1px 2px rgba(60, 64, 67, 0.3), 0px 1px 3px 1px rgba(60, 64, 67, 0.15);\n",
              "      fill: #174EA6;\n",
              "    }\n",
              "\n",
              "    [theme=dark] .colab-df-convert {\n",
              "      background-color: #3B4455;\n",
              "      fill: #D2E3FC;\n",
              "    }\n",
              "\n",
              "    [theme=dark] .colab-df-convert:hover {\n",
              "      background-color: #434B5C;\n",
              "      box-shadow: 0px 1px 3px 1px rgba(0, 0, 0, 0.15);\n",
              "      filter: drop-shadow(0px 1px 2px rgba(0, 0, 0, 0.3));\n",
              "      fill: #FFFFFF;\n",
              "    }\n",
              "  </style>\n",
              "\n",
              "      <script>\n",
              "        const buttonEl =\n",
              "          document.querySelector('#df-e2892597-4d94-43b2-b65c-550bc9231f4e button.colab-df-convert');\n",
              "        buttonEl.style.display =\n",
              "          google.colab.kernel.accessAllowed ? 'block' : 'none';\n",
              "\n",
              "        async function convertToInteractive(key) {\n",
              "          const element = document.querySelector('#df-e2892597-4d94-43b2-b65c-550bc9231f4e');\n",
              "          const dataTable =\n",
              "            await google.colab.kernel.invokeFunction('convertToInteractive',\n",
              "                                                     [key], {});\n",
              "          if (!dataTable) return;\n",
              "\n",
              "          const docLinkHtml = 'Like what you see? Visit the ' +\n",
              "            '<a target=\"_blank\" href=https://colab.research.google.com/notebooks/data_table.ipynb>data table notebook</a>'\n",
              "            + ' to learn more about interactive tables.';\n",
              "          element.innerHTML = '';\n",
              "          dataTable['output_type'] = 'display_data';\n",
              "          await google.colab.output.renderOutput(dataTable, element);\n",
              "          const docLink = document.createElement('div');\n",
              "          docLink.innerHTML = docLinkHtml;\n",
              "          element.appendChild(docLink);\n",
              "        }\n",
              "      </script>\n",
              "    </div>\n",
              "  </div>\n",
              "  "
            ],
            "text/plain": [
              "      Age Gender  ... Main language at work Working hours remaining weekly\n",
              "235  32.0   Male  ...               English                            NaN\n",
              "\n",
              "[1 rows x 11 columns]"
            ]
          },
          "metadata": {},
          "execution_count": 16
        }
      ]
    },
    {
      "cell_type": "code",
      "source": [
        "df20['Number of vacation days'] = df20['Number of vacation days'].replace('unlimited', '30')\n",
        "df20['Number of vacation days'] = df20['Number of vacation days'].replace('Unlimited', '30')\n",
        "df20['Number of vacation days'] = df20['Number of vacation days'].replace('23+', '23')\n",
        "df20['Number of vacation days'] = df20['Number of vacation days'].replace('24 labour days', '24')\n",
        "df20['Number of vacation days'] = df20['Number of vacation days'].replace('(no idea)', '30')\n",
        "df20['Number of vacation days'] = df20['Number of vacation days'].replace('~25', '25')\n",
        "df20['Number of vacation days'] = df20['Number of vacation days'].replace('365', '30')\n",
        "df20['Number of vacation days'] = df20['Number of vacation days'].replace('30 in contract (but theoretically unlimited)', '30')\n",
        "df20['Number of vacation days'] = df20['Number of vacation days'].astype('float')\n",
        "df20['Number of vacation days'] = df20['Number of vacation days'].fillna(30)"
      ],
      "metadata": {
        "colab": {
          "base_uri": "https://localhost:8080/"
        },
        "id": "Xouyi6eSNlFn",
        "outputId": "37b6b785-d460-4ec4-d338-e94ce6b07be0"
      },
      "execution_count": null,
      "outputs": [
        {
          "output_type": "stream",
          "name": "stderr",
          "text": [
            "/usr/local/lib/python3.7/dist-packages/ipykernel_launcher.py:1: SettingWithCopyWarning: \n",
            "A value is trying to be set on a copy of a slice from a DataFrame.\n",
            "Try using .loc[row_indexer,col_indexer] = value instead\n",
            "\n",
            "See the caveats in the documentation: https://pandas.pydata.org/pandas-docs/stable/user_guide/indexing.html#returning-a-view-versus-a-copy\n",
            "  \"\"\"Entry point for launching an IPython kernel.\n",
            "/usr/local/lib/python3.7/dist-packages/ipykernel_launcher.py:2: SettingWithCopyWarning: \n",
            "A value is trying to be set on a copy of a slice from a DataFrame.\n",
            "Try using .loc[row_indexer,col_indexer] = value instead\n",
            "\n",
            "See the caveats in the documentation: https://pandas.pydata.org/pandas-docs/stable/user_guide/indexing.html#returning-a-view-versus-a-copy\n",
            "  \n",
            "/usr/local/lib/python3.7/dist-packages/ipykernel_launcher.py:3: SettingWithCopyWarning: \n",
            "A value is trying to be set on a copy of a slice from a DataFrame.\n",
            "Try using .loc[row_indexer,col_indexer] = value instead\n",
            "\n",
            "See the caveats in the documentation: https://pandas.pydata.org/pandas-docs/stable/user_guide/indexing.html#returning-a-view-versus-a-copy\n",
            "  This is separate from the ipykernel package so we can avoid doing imports until\n",
            "/usr/local/lib/python3.7/dist-packages/ipykernel_launcher.py:4: SettingWithCopyWarning: \n",
            "A value is trying to be set on a copy of a slice from a DataFrame.\n",
            "Try using .loc[row_indexer,col_indexer] = value instead\n",
            "\n",
            "See the caveats in the documentation: https://pandas.pydata.org/pandas-docs/stable/user_guide/indexing.html#returning-a-view-versus-a-copy\n",
            "  after removing the cwd from sys.path.\n",
            "/usr/local/lib/python3.7/dist-packages/ipykernel_launcher.py:5: SettingWithCopyWarning: \n",
            "A value is trying to be set on a copy of a slice from a DataFrame.\n",
            "Try using .loc[row_indexer,col_indexer] = value instead\n",
            "\n",
            "See the caveats in the documentation: https://pandas.pydata.org/pandas-docs/stable/user_guide/indexing.html#returning-a-view-versus-a-copy\n",
            "  \"\"\"\n",
            "/usr/local/lib/python3.7/dist-packages/ipykernel_launcher.py:6: SettingWithCopyWarning: \n",
            "A value is trying to be set on a copy of a slice from a DataFrame.\n",
            "Try using .loc[row_indexer,col_indexer] = value instead\n",
            "\n",
            "See the caveats in the documentation: https://pandas.pydata.org/pandas-docs/stable/user_guide/indexing.html#returning-a-view-versus-a-copy\n",
            "  \n",
            "/usr/local/lib/python3.7/dist-packages/ipykernel_launcher.py:7: SettingWithCopyWarning: \n",
            "A value is trying to be set on a copy of a slice from a DataFrame.\n",
            "Try using .loc[row_indexer,col_indexer] = value instead\n",
            "\n",
            "See the caveats in the documentation: https://pandas.pydata.org/pandas-docs/stable/user_guide/indexing.html#returning-a-view-versus-a-copy\n",
            "  import sys\n",
            "/usr/local/lib/python3.7/dist-packages/ipykernel_launcher.py:8: SettingWithCopyWarning: \n",
            "A value is trying to be set on a copy of a slice from a DataFrame.\n",
            "Try using .loc[row_indexer,col_indexer] = value instead\n",
            "\n",
            "See the caveats in the documentation: https://pandas.pydata.org/pandas-docs/stable/user_guide/indexing.html#returning-a-view-versus-a-copy\n",
            "  \n",
            "/usr/local/lib/python3.7/dist-packages/ipykernel_launcher.py:9: SettingWithCopyWarning: \n",
            "A value is trying to be set on a copy of a slice from a DataFrame.\n",
            "Try using .loc[row_indexer,col_indexer] = value instead\n",
            "\n",
            "See the caveats in the documentation: https://pandas.pydata.org/pandas-docs/stable/user_guide/indexing.html#returning-a-view-versus-a-copy\n",
            "  if __name__ == '__main__':\n",
            "/usr/local/lib/python3.7/dist-packages/ipykernel_launcher.py:10: SettingWithCopyWarning: \n",
            "A value is trying to be set on a copy of a slice from a DataFrame.\n",
            "Try using .loc[row_indexer,col_indexer] = value instead\n",
            "\n",
            "See the caveats in the documentation: https://pandas.pydata.org/pandas-docs/stable/user_guide/indexing.html#returning-a-view-versus-a-copy\n",
            "  # Remove the CWD from sys.path while we load stuff.\n"
          ]
        }
      ]
    },
    {
      "cell_type": "code",
      "source": [
        "df20.info()"
      ],
      "metadata": {
        "colab": {
          "base_uri": "https://localhost:8080/"
        },
        "id": "xuxOfOVC2JS_",
        "outputId": "6e04bccf-1c7c-4555-ff19-92f8db1839c4"
      },
      "execution_count": null,
      "outputs": [
        {
          "output_type": "stream",
          "name": "stdout",
          "text": [
            "<class 'pandas.core.frame.DataFrame'>\n",
            "RangeIndex: 1253 entries, 0 to 1252\n",
            "Data columns (total 11 columns):\n",
            " #   Column                          Non-Null Count  Dtype  \n",
            "---  ------                          --------------  -----  \n",
            " 0   Age                             1253 non-null   float64\n",
            " 1   Gender                          1243 non-null   object \n",
            " 2   City                            1253 non-null   object \n",
            " 3   Position                        1247 non-null   object \n",
            " 4   Total years of experience       1253 non-null   float64\n",
            " 5   Seniority level                 1241 non-null   object \n",
            " 6   Main technology                 1126 non-null   object \n",
            " 7   Yearly brutto salary            1253 non-null   float64\n",
            " 8   Number of vacation days         1253 non-null   float64\n",
            " 9   Main language at work           1237 non-null   object \n",
            " 10  Working hours remaining weekly  373 non-null    float64\n",
            "dtypes: float64(5), object(6)\n",
            "memory usage: 107.8+ KB\n"
          ]
        }
      ]
    },
    {
      "cell_type": "markdown",
      "source": [
        "Remove outliers"
      ],
      "metadata": {
        "id": "vaV8iirWRBDk"
      }
    },
    {
      "cell_type": "code",
      "source": [
        "q1 = df20['Yearly brutto salary'].quantile(0.25)\n",
        "q3 = df20['Yearly brutto salary'].quantile(0.75)\n",
        "iqr = q3 - q1\n",
        "\n",
        "upper_limit = q3 + 1.5 * iqr\n",
        "lower_limit = q1 - 1.5 * iqr"
      ],
      "metadata": {
        "id": "1MUI8-j6QvHy"
      },
      "execution_count": null,
      "outputs": []
    },
    {
      "cell_type": "code",
      "source": [
        "new_df20 = df20[(df20['Yearly brutto salary'] > lower_limit) & (df20['Yearly brutto salary'] < upper_limit)].reset_index()\n",
        "\n",
        "print('The number of outliers removed is:', df20.shape[0] - new_df20.shape[0])"
      ],
      "metadata": {
        "colab": {
          "base_uri": "https://localhost:8080/"
        },
        "id": "ZFu2QYmzSIuS",
        "outputId": "c8b37144-2129-4620-ab39-c9c65116adec"
      },
      "execution_count": null,
      "outputs": [
        {
          "output_type": "stream",
          "name": "stdout",
          "text": [
            "The number of outliers removed is: 82\n"
          ]
        }
      ]
    },
    {
      "cell_type": "code",
      "source": [
        "new_df20['Gender'] = new_df20['Gender'].fillna('NA')\n",
        "new_df20['Gender'].unique()"
      ],
      "metadata": {
        "colab": {
          "base_uri": "https://localhost:8080/"
        },
        "id": "3jw7Z4h1wE2U",
        "outputId": "e51917d8-0c7b-400a-adb2-265a96cb045d"
      },
      "execution_count": null,
      "outputs": [
        {
          "output_type": "execute_result",
          "data": {
            "text/plain": [
              "array(['Male', 'Female', 'NA'], dtype=object)"
            ]
          },
          "metadata": {},
          "execution_count": 21
        }
      ]
    },
    {
      "cell_type": "code",
      "source": [
        "# Let's assume that the normal number of working hours of each person is 40 hours/week\n",
        "\n",
        "new_df20['Working hours remaining weekly'] = new_df20['Working hours remaining weekly'].fillna(40)"
      ],
      "metadata": {
        "id": "0_nwasZPECTp"
      },
      "execution_count": null,
      "outputs": []
    },
    {
      "cell_type": "code",
      "source": [
        "new_df20.head()"
      ],
      "metadata": {
        "colab": {
          "base_uri": "https://localhost:8080/",
          "height": 409
        },
        "id": "1nXcbocdGAuA",
        "outputId": "52200943-69d0-4886-a1a3-7f214dbec20a"
      },
      "execution_count": null,
      "outputs": [
        {
          "output_type": "execute_result",
          "data": {
            "text/html": [
              "\n",
              "  <div id=\"df-7ccf6ac7-6e41-4446-97eb-00a85c8efbd7\">\n",
              "    <div class=\"colab-df-container\">\n",
              "      <div>\n",
              "<style scoped>\n",
              "    .dataframe tbody tr th:only-of-type {\n",
              "        vertical-align: middle;\n",
              "    }\n",
              "\n",
              "    .dataframe tbody tr th {\n",
              "        vertical-align: top;\n",
              "    }\n",
              "\n",
              "    .dataframe thead th {\n",
              "        text-align: right;\n",
              "    }\n",
              "</style>\n",
              "<table border=\"1\" class=\"dataframe\">\n",
              "  <thead>\n",
              "    <tr style=\"text-align: right;\">\n",
              "      <th></th>\n",
              "      <th>index</th>\n",
              "      <th>Age</th>\n",
              "      <th>Gender</th>\n",
              "      <th>City</th>\n",
              "      <th>Position</th>\n",
              "      <th>Total years of experience</th>\n",
              "      <th>Seniority level</th>\n",
              "      <th>Main technology</th>\n",
              "      <th>Yearly brutto salary</th>\n",
              "      <th>Number of vacation days</th>\n",
              "      <th>Main language at work</th>\n",
              "      <th>Working hours remaining weekly</th>\n",
              "    </tr>\n",
              "  </thead>\n",
              "  <tbody>\n",
              "    <tr>\n",
              "      <th>0</th>\n",
              "      <td>0</td>\n",
              "      <td>26.0</td>\n",
              "      <td>Male</td>\n",
              "      <td>Munich</td>\n",
              "      <td>Software Engineer</td>\n",
              "      <td>5.0</td>\n",
              "      <td>Senior</td>\n",
              "      <td>TypeScript</td>\n",
              "      <td>80000.0</td>\n",
              "      <td>30.0</td>\n",
              "      <td>English</td>\n",
              "      <td>40.0</td>\n",
              "    </tr>\n",
              "    <tr>\n",
              "      <th>1</th>\n",
              "      <td>1</td>\n",
              "      <td>26.0</td>\n",
              "      <td>Male</td>\n",
              "      <td>Berlin</td>\n",
              "      <td>Backend Developer</td>\n",
              "      <td>7.0</td>\n",
              "      <td>Senior</td>\n",
              "      <td>Ruby</td>\n",
              "      <td>80000.0</td>\n",
              "      <td>28.0</td>\n",
              "      <td>English</td>\n",
              "      <td>40.0</td>\n",
              "    </tr>\n",
              "    <tr>\n",
              "      <th>2</th>\n",
              "      <td>3</td>\n",
              "      <td>28.0</td>\n",
              "      <td>Male</td>\n",
              "      <td>Berlin</td>\n",
              "      <td>Frontend Developer</td>\n",
              "      <td>4.0</td>\n",
              "      <td>Junior</td>\n",
              "      <td>Javascript</td>\n",
              "      <td>54000.0</td>\n",
              "      <td>24.0</td>\n",
              "      <td>English</td>\n",
              "      <td>40.0</td>\n",
              "    </tr>\n",
              "    <tr>\n",
              "      <th>3</th>\n",
              "      <td>4</td>\n",
              "      <td>37.0</td>\n",
              "      <td>Male</td>\n",
              "      <td>Berlin</td>\n",
              "      <td>Backend Developer</td>\n",
              "      <td>17.0</td>\n",
              "      <td>Senior</td>\n",
              "      <td>C# .NET</td>\n",
              "      <td>62000.0</td>\n",
              "      <td>29.0</td>\n",
              "      <td>English</td>\n",
              "      <td>40.0</td>\n",
              "    </tr>\n",
              "    <tr>\n",
              "      <th>4</th>\n",
              "      <td>5</td>\n",
              "      <td>32.0</td>\n",
              "      <td>Male</td>\n",
              "      <td>Berlin</td>\n",
              "      <td>DevOps</td>\n",
              "      <td>5.0</td>\n",
              "      <td>Senior</td>\n",
              "      <td>AWS, GCP, Python,K8s</td>\n",
              "      <td>76000.0</td>\n",
              "      <td>30.0</td>\n",
              "      <td>English</td>\n",
              "      <td>40.0</td>\n",
              "    </tr>\n",
              "  </tbody>\n",
              "</table>\n",
              "</div>\n",
              "      <button class=\"colab-df-convert\" onclick=\"convertToInteractive('df-7ccf6ac7-6e41-4446-97eb-00a85c8efbd7')\"\n",
              "              title=\"Convert this dataframe to an interactive table.\"\n",
              "              style=\"display:none;\">\n",
              "        \n",
              "  <svg xmlns=\"http://www.w3.org/2000/svg\" height=\"24px\"viewBox=\"0 0 24 24\"\n",
              "       width=\"24px\">\n",
              "    <path d=\"M0 0h24v24H0V0z\" fill=\"none\"/>\n",
              "    <path d=\"M18.56 5.44l.94 2.06.94-2.06 2.06-.94-2.06-.94-.94-2.06-.94 2.06-2.06.94zm-11 1L8.5 8.5l.94-2.06 2.06-.94-2.06-.94L8.5 2.5l-.94 2.06-2.06.94zm10 10l.94 2.06.94-2.06 2.06-.94-2.06-.94-.94-2.06-.94 2.06-2.06.94z\"/><path d=\"M17.41 7.96l-1.37-1.37c-.4-.4-.92-.59-1.43-.59-.52 0-1.04.2-1.43.59L10.3 9.45l-7.72 7.72c-.78.78-.78 2.05 0 2.83L4 21.41c.39.39.9.59 1.41.59.51 0 1.02-.2 1.41-.59l7.78-7.78 2.81-2.81c.8-.78.8-2.07 0-2.86zM5.41 20L4 18.59l7.72-7.72 1.47 1.35L5.41 20z\"/>\n",
              "  </svg>\n",
              "      </button>\n",
              "      \n",
              "  <style>\n",
              "    .colab-df-container {\n",
              "      display:flex;\n",
              "      flex-wrap:wrap;\n",
              "      gap: 12px;\n",
              "    }\n",
              "\n",
              "    .colab-df-convert {\n",
              "      background-color: #E8F0FE;\n",
              "      border: none;\n",
              "      border-radius: 50%;\n",
              "      cursor: pointer;\n",
              "      display: none;\n",
              "      fill: #1967D2;\n",
              "      height: 32px;\n",
              "      padding: 0 0 0 0;\n",
              "      width: 32px;\n",
              "    }\n",
              "\n",
              "    .colab-df-convert:hover {\n",
              "      background-color: #E2EBFA;\n",
              "      box-shadow: 0px 1px 2px rgba(60, 64, 67, 0.3), 0px 1px 3px 1px rgba(60, 64, 67, 0.15);\n",
              "      fill: #174EA6;\n",
              "    }\n",
              "\n",
              "    [theme=dark] .colab-df-convert {\n",
              "      background-color: #3B4455;\n",
              "      fill: #D2E3FC;\n",
              "    }\n",
              "\n",
              "    [theme=dark] .colab-df-convert:hover {\n",
              "      background-color: #434B5C;\n",
              "      box-shadow: 0px 1px 3px 1px rgba(0, 0, 0, 0.15);\n",
              "      filter: drop-shadow(0px 1px 2px rgba(0, 0, 0, 0.3));\n",
              "      fill: #FFFFFF;\n",
              "    }\n",
              "  </style>\n",
              "\n",
              "      <script>\n",
              "        const buttonEl =\n",
              "          document.querySelector('#df-7ccf6ac7-6e41-4446-97eb-00a85c8efbd7 button.colab-df-convert');\n",
              "        buttonEl.style.display =\n",
              "          google.colab.kernel.accessAllowed ? 'block' : 'none';\n",
              "\n",
              "        async function convertToInteractive(key) {\n",
              "          const element = document.querySelector('#df-7ccf6ac7-6e41-4446-97eb-00a85c8efbd7');\n",
              "          const dataTable =\n",
              "            await google.colab.kernel.invokeFunction('convertToInteractive',\n",
              "                                                     [key], {});\n",
              "          if (!dataTable) return;\n",
              "\n",
              "          const docLinkHtml = 'Like what you see? Visit the ' +\n",
              "            '<a target=\"_blank\" href=https://colab.research.google.com/notebooks/data_table.ipynb>data table notebook</a>'\n",
              "            + ' to learn more about interactive tables.';\n",
              "          element.innerHTML = '';\n",
              "          dataTable['output_type'] = 'display_data';\n",
              "          await google.colab.output.renderOutput(dataTable, element);\n",
              "          const docLink = document.createElement('div');\n",
              "          docLink.innerHTML = docLinkHtml;\n",
              "          element.appendChild(docLink);\n",
              "        }\n",
              "      </script>\n",
              "    </div>\n",
              "  </div>\n",
              "  "
            ],
            "text/plain": [
              "   index   Age  ... Main language at work Working hours remaining weekly\n",
              "0      0  26.0  ...               English                           40.0\n",
              "1      1  26.0  ...               English                           40.0\n",
              "2      3  28.0  ...               English                           40.0\n",
              "3      4  37.0  ...               English                           40.0\n",
              "4      5  32.0  ...               English                           40.0\n",
              "\n",
              "[5 rows x 12 columns]"
            ]
          },
          "metadata": {},
          "execution_count": 23
        }
      ]
    },
    {
      "cell_type": "code",
      "source": [
        "new_df20['Main technology'] = new_df20['Main technology'].fillna('None')\n",
        "new_df20['Main technology']"
      ],
      "metadata": {
        "colab": {
          "base_uri": "https://localhost:8080/"
        },
        "id": "7uS9Ja4r93Vk",
        "outputId": "0368f103-b7fe-413f-e37f-63da721c1052"
      },
      "execution_count": null,
      "outputs": [
        {
          "output_type": "execute_result",
          "data": {
            "text/plain": [
              "0                 TypeScript\n",
              "1                       Ruby\n",
              "2                 Javascript\n",
              "3                    C# .NET\n",
              "4       AWS, GCP, Python,K8s\n",
              "                ...         \n",
              "1166                    Java\n",
              "1167       consumer analysis\n",
              "1168                     PHP\n",
              "1169              JavaScript\n",
              "1170                    yaml\n",
              "Name: Main technology, Length: 1171, dtype: object"
            ]
          },
          "metadata": {},
          "execution_count": 24
        }
      ]
    },
    {
      "cell_type": "code",
      "source": [
        "# In 'Main technology' column, some people fill in MORE THAN ONE expertises. The following codes will take THE ONLY FIRST technology of each row, make a new 'Main technology' column to replace the original one\n",
        "\n",
        "tech_list = new_df20['Main technology'].str.split(', |/|,').tolist()\n",
        "tech_list_1 = list(tech_list)\n",
        "main_tech = [item[0] for item in tech_list_1]\n",
        "df_main_tech = pd.DataFrame(main_tech)\n",
        "df_main_tech"
      ],
      "metadata": {
        "colab": {
          "base_uri": "https://localhost:8080/",
          "height": 423
        },
        "id": "KmT5y4qYJScp",
        "outputId": "73e83973-8833-4dbd-bfd6-77a97ebb9dbb"
      },
      "execution_count": null,
      "outputs": [
        {
          "output_type": "execute_result",
          "data": {
            "text/html": [
              "\n",
              "  <div id=\"df-37950c4e-00f8-442a-b481-a1f1a758f9b4\">\n",
              "    <div class=\"colab-df-container\">\n",
              "      <div>\n",
              "<style scoped>\n",
              "    .dataframe tbody tr th:only-of-type {\n",
              "        vertical-align: middle;\n",
              "    }\n",
              "\n",
              "    .dataframe tbody tr th {\n",
              "        vertical-align: top;\n",
              "    }\n",
              "\n",
              "    .dataframe thead th {\n",
              "        text-align: right;\n",
              "    }\n",
              "</style>\n",
              "<table border=\"1\" class=\"dataframe\">\n",
              "  <thead>\n",
              "    <tr style=\"text-align: right;\">\n",
              "      <th></th>\n",
              "      <th>0</th>\n",
              "    </tr>\n",
              "  </thead>\n",
              "  <tbody>\n",
              "    <tr>\n",
              "      <th>0</th>\n",
              "      <td>TypeScript</td>\n",
              "    </tr>\n",
              "    <tr>\n",
              "      <th>1</th>\n",
              "      <td>Ruby</td>\n",
              "    </tr>\n",
              "    <tr>\n",
              "      <th>2</th>\n",
              "      <td>Javascript</td>\n",
              "    </tr>\n",
              "    <tr>\n",
              "      <th>3</th>\n",
              "      <td>C# .NET</td>\n",
              "    </tr>\n",
              "    <tr>\n",
              "      <th>4</th>\n",
              "      <td>AWS</td>\n",
              "    </tr>\n",
              "    <tr>\n",
              "      <th>...</th>\n",
              "      <td>...</td>\n",
              "    </tr>\n",
              "    <tr>\n",
              "      <th>1166</th>\n",
              "      <td>Java</td>\n",
              "    </tr>\n",
              "    <tr>\n",
              "      <th>1167</th>\n",
              "      <td>consumer analysis</td>\n",
              "    </tr>\n",
              "    <tr>\n",
              "      <th>1168</th>\n",
              "      <td>PHP</td>\n",
              "    </tr>\n",
              "    <tr>\n",
              "      <th>1169</th>\n",
              "      <td>JavaScript</td>\n",
              "    </tr>\n",
              "    <tr>\n",
              "      <th>1170</th>\n",
              "      <td>yaml</td>\n",
              "    </tr>\n",
              "  </tbody>\n",
              "</table>\n",
              "<p>1171 rows × 1 columns</p>\n",
              "</div>\n",
              "      <button class=\"colab-df-convert\" onclick=\"convertToInteractive('df-37950c4e-00f8-442a-b481-a1f1a758f9b4')\"\n",
              "              title=\"Convert this dataframe to an interactive table.\"\n",
              "              style=\"display:none;\">\n",
              "        \n",
              "  <svg xmlns=\"http://www.w3.org/2000/svg\" height=\"24px\"viewBox=\"0 0 24 24\"\n",
              "       width=\"24px\">\n",
              "    <path d=\"M0 0h24v24H0V0z\" fill=\"none\"/>\n",
              "    <path d=\"M18.56 5.44l.94 2.06.94-2.06 2.06-.94-2.06-.94-.94-2.06-.94 2.06-2.06.94zm-11 1L8.5 8.5l.94-2.06 2.06-.94-2.06-.94L8.5 2.5l-.94 2.06-2.06.94zm10 10l.94 2.06.94-2.06 2.06-.94-2.06-.94-.94-2.06-.94 2.06-2.06.94z\"/><path d=\"M17.41 7.96l-1.37-1.37c-.4-.4-.92-.59-1.43-.59-.52 0-1.04.2-1.43.59L10.3 9.45l-7.72 7.72c-.78.78-.78 2.05 0 2.83L4 21.41c.39.39.9.59 1.41.59.51 0 1.02-.2 1.41-.59l7.78-7.78 2.81-2.81c.8-.78.8-2.07 0-2.86zM5.41 20L4 18.59l7.72-7.72 1.47 1.35L5.41 20z\"/>\n",
              "  </svg>\n",
              "      </button>\n",
              "      \n",
              "  <style>\n",
              "    .colab-df-container {\n",
              "      display:flex;\n",
              "      flex-wrap:wrap;\n",
              "      gap: 12px;\n",
              "    }\n",
              "\n",
              "    .colab-df-convert {\n",
              "      background-color: #E8F0FE;\n",
              "      border: none;\n",
              "      border-radius: 50%;\n",
              "      cursor: pointer;\n",
              "      display: none;\n",
              "      fill: #1967D2;\n",
              "      height: 32px;\n",
              "      padding: 0 0 0 0;\n",
              "      width: 32px;\n",
              "    }\n",
              "\n",
              "    .colab-df-convert:hover {\n",
              "      background-color: #E2EBFA;\n",
              "      box-shadow: 0px 1px 2px rgba(60, 64, 67, 0.3), 0px 1px 3px 1px rgba(60, 64, 67, 0.15);\n",
              "      fill: #174EA6;\n",
              "    }\n",
              "\n",
              "    [theme=dark] .colab-df-convert {\n",
              "      background-color: #3B4455;\n",
              "      fill: #D2E3FC;\n",
              "    }\n",
              "\n",
              "    [theme=dark] .colab-df-convert:hover {\n",
              "      background-color: #434B5C;\n",
              "      box-shadow: 0px 1px 3px 1px rgba(0, 0, 0, 0.15);\n",
              "      filter: drop-shadow(0px 1px 2px rgba(0, 0, 0, 0.3));\n",
              "      fill: #FFFFFF;\n",
              "    }\n",
              "  </style>\n",
              "\n",
              "      <script>\n",
              "        const buttonEl =\n",
              "          document.querySelector('#df-37950c4e-00f8-442a-b481-a1f1a758f9b4 button.colab-df-convert');\n",
              "        buttonEl.style.display =\n",
              "          google.colab.kernel.accessAllowed ? 'block' : 'none';\n",
              "\n",
              "        async function convertToInteractive(key) {\n",
              "          const element = document.querySelector('#df-37950c4e-00f8-442a-b481-a1f1a758f9b4');\n",
              "          const dataTable =\n",
              "            await google.colab.kernel.invokeFunction('convertToInteractive',\n",
              "                                                     [key], {});\n",
              "          if (!dataTable) return;\n",
              "\n",
              "          const docLinkHtml = 'Like what you see? Visit the ' +\n",
              "            '<a target=\"_blank\" href=https://colab.research.google.com/notebooks/data_table.ipynb>data table notebook</a>'\n",
              "            + ' to learn more about interactive tables.';\n",
              "          element.innerHTML = '';\n",
              "          dataTable['output_type'] = 'display_data';\n",
              "          await google.colab.output.renderOutput(dataTable, element);\n",
              "          const docLink = document.createElement('div');\n",
              "          docLink.innerHTML = docLinkHtml;\n",
              "          element.appendChild(docLink);\n",
              "        }\n",
              "      </script>\n",
              "    </div>\n",
              "  </div>\n",
              "  "
            ],
            "text/plain": [
              "                      0\n",
              "0            TypeScript\n",
              "1                  Ruby\n",
              "2            Javascript\n",
              "3               C# .NET\n",
              "4                   AWS\n",
              "...                 ...\n",
              "1166               Java\n",
              "1167  consumer analysis\n",
              "1168                PHP\n",
              "1169         JavaScript\n",
              "1170               yaml\n",
              "\n",
              "[1171 rows x 1 columns]"
            ]
          },
          "metadata": {},
          "execution_count": 25
        }
      ]
    },
    {
      "cell_type": "code",
      "source": [
        "new_df20 = new_df20.drop(['index', 'Main technology'], axis=1)"
      ],
      "metadata": {
        "id": "ll-pzsSgFyen"
      },
      "execution_count": null,
      "outputs": []
    },
    {
      "cell_type": "code",
      "source": [
        "new_df20 = pd.concat([new_df20, df_main_tech], axis=1)"
      ],
      "metadata": {
        "id": "TdNqAwq_H7wK"
      },
      "execution_count": null,
      "outputs": []
    },
    {
      "cell_type": "code",
      "source": [
        "new_df20.rename({0:'Main technology'}, axis=1, inplace=True)\n",
        "new_df20['Main technology'] = new_df20['Main technology'].str.capitalize()"
      ],
      "metadata": {
        "id": "n9I2ObKaEJoY"
      },
      "execution_count": null,
      "outputs": []
    },
    {
      "cell_type": "code",
      "source": [
        "new_df20 = new_df20.replace(r\"^ +| +$\", r\"\", regex=True)"
      ],
      "metadata": {
        "id": "tKYway3sOpTL"
      },
      "execution_count": null,
      "outputs": []
    },
    {
      "cell_type": "code",
      "source": [
        "new_df20['Main technology'] = new_df20['Main technology'].replace('Php', 'PHP')\n",
        "new_df20['Main technology'] = new_df20['Main technology'].replace('Pythin', 'Python')\n",
        "new_df20['Main technology'] = new_df20['Main technology'].replace('Pyrhon', 'Python')"
      ],
      "metadata": {
        "id": "5d3oOznoELlp"
      },
      "execution_count": null,
      "outputs": []
    },
    {
      "cell_type": "code",
      "source": [
        "new_df20['Main technology'].value_counts()"
      ],
      "metadata": {
        "colab": {
          "base_uri": "https://localhost:8080/"
        },
        "id": "W12SVbnbSsHY",
        "outputId": "c53669f6-6df8-427d-903b-4e2539ad041f"
      },
      "execution_count": null,
      "outputs": [
        {
          "output_type": "execute_result",
          "data": {
            "text/plain": [
              "Python                 207\n",
              "Java                   202\n",
              "None                   124\n",
              "Javascript              89\n",
              "PHP                     69\n",
              "                      ... \n",
              "Computer networking      1\n",
              "Salesforce               1\n",
              "Objective-c              1\n",
              "Erlang                   1\n",
              "Consumer analysis        1\n",
              "Name: Main technology, Length: 122, dtype: int64"
            ]
          },
          "metadata": {},
          "execution_count": 31
        }
      ]
    },
    {
      "cell_type": "markdown",
      "source": [
        "## 2.2. Exploratory Data Analysis"
      ],
      "metadata": {
        "id": "4eViEQZf1hkz"
      }
    },
    {
      "cell_type": "markdown",
      "source": [
        "Exploring some demographic information"
      ],
      "metadata": {
        "id": "DRvA3dFl4fe2"
      }
    },
    {
      "cell_type": "code",
      "source": [
        "sns.set_style('whitegrid')"
      ],
      "metadata": {
        "id": "7CTVclnXE9ja"
      },
      "execution_count": null,
      "outputs": []
    },
    {
      "cell_type": "code",
      "source": [
        "sns.pairplot(new_df20)"
      ],
      "metadata": {
        "colab": {
          "base_uri": "https://localhost:8080/",
          "height": 896
        },
        "id": "0ZX2r4kdEMwf",
        "outputId": "fa2f5a04-042c-4892-cd4b-64900d5126a8"
      },
      "execution_count": null,
      "outputs": [
        {
          "output_type": "execute_result",
          "data": {
            "text/plain": [
              "<seaborn.axisgrid.PairGrid at 0x7f7c63546c90>"
            ]
          },
          "metadata": {},
          "execution_count": 33
        },
        {
          "output_type": "display_data",
          "data": {
            "image/png": "[encoded data removed]",
            "text/plain": [
              "<Figure size 900x900 with 30 Axes>"
            ]
          },
          "metadata": {}
        }
      ]
    },
    {
      "cell_type": "code",
      "source": [
        "new_df20['Age'].describe()"
      ],
      "metadata": {
        "colab": {
          "base_uri": "https://localhost:8080/"
        },
        "id": "gY0ipo1y1mHi",
        "outputId": "dbd298d0-4a87-410d-c80e-fec9440741de"
      },
      "execution_count": null,
      "outputs": [
        {
          "output_type": "execute_result",
          "data": {
            "text/plain": [
              "count    1171.000000\n",
              "mean       32.574722\n",
              "std         5.588313\n",
              "min        21.000000\n",
              "25%        29.000000\n",
              "50%        32.000000\n",
              "75%        35.000000\n",
              "max        69.000000\n",
              "Name: Age, dtype: float64"
            ]
          },
          "metadata": {},
          "execution_count": 34
        }
      ]
    },
    {
      "cell_type": "code",
      "source": [
        "sns.displot(data=new_df20, x='Age', bins=30, aspect=1.5).set(title='AGE DISTRIBUTION')\n",
        "\n",
        "# Most of participants are between 25 and 40 years old"
      ],
      "metadata": {
        "colab": {
          "base_uri": "https://localhost:8080/",
          "height": 403
        },
        "id": "j7PrNL1n4rDk",
        "outputId": "e5edfecb-f88f-4a7d-e281-d08315a89196"
      },
      "execution_count": null,
      "outputs": [
        {
          "output_type": "execute_result",
          "data": {
            "text/plain": [
              "<seaborn.axisgrid.FacetGrid at 0x7f7c60184290>"
            ]
          },
          "metadata": {},
          "execution_count": 35
        },
        {
          "output_type": "display_data",
          "data": {
            "image/png": "[encoded data removed]",
            "text/plain": [
              "<Figure size 540x360 with 1 Axes>"
            ]
          },
          "metadata": {}
        }
      ]
    },
    {
      "cell_type": "code",
      "source": [
        "sns.countplot(data=new_df20, x='Gender').set(title='COUNT OF GENDERS')\n",
        "\n",
        "# The ratio of female to male participants is approximately 1/5"
      ],
      "metadata": {
        "colab": {
          "base_uri": "https://localhost:8080/",
          "height": 313
        },
        "id": "_NJvunFQ3GSi",
        "outputId": "99918349-db50-4a6c-bb57-ba7759683648"
      },
      "execution_count": null,
      "outputs": [
        {
          "output_type": "execute_result",
          "data": {
            "text/plain": [
              "[Text(0.5, 1.0, 'COUNT OF GENDERS')]"
            ]
          },
          "metadata": {},
          "execution_count": 96
        },
        {
          "output_type": "display_data",
          "data": {
            "image/png": "[encoded data removed]",
            "text/plain": [
              "<Figure size 432x288 with 1 Axes>"
            ]
          },
          "metadata": {}
        }
      ]
    },
    {
      "cell_type": "code",
      "source": [
        "import plotly.express as px"
      ],
      "metadata": {
        "id": "u0k1mERV7LYJ"
      },
      "execution_count": null,
      "outputs": []
    },
    {
      "cell_type": "code",
      "source": [
        "px.histogram(new_df20, 'City', color='Gender').update_xaxes(categoryorder='total descending')\n",
        "\n",
        "# The majority of participants come from Germany"
      ],
      "metadata": {
        "colab": {
          "base_uri": "https://localhost:8080/",
          "height": 542
        },
        "id": "Hw29YdGY9dLl",
        "outputId": "78cd4934-4d3b-4542-f368-52ee6ac67538"
      },
      "execution_count": null,
      "outputs": [
        {
          "output_type": "display_data",
          "data": {
            "text/html": [
              "<html>\n",
              "<head><meta charset=\"utf-8\" /></head>\n",
              "<body>\n",
              "    <div>            <script src=\"https://cdnjs.cloudflare.com/ajax/libs/mathjax/2.7.5/MathJax.js?config=TeX-AMS-MML_SVG\"></script><script type=\"text/javascript\">if (window.MathJax) {MathJax.Hub.Config({SVG: {font: \"STIX-Web\"}});}</script>                <script type=\"text/javascript\">window.PlotlyConfig = {MathJaxConfig: 'local'};</script>\n",
              "        <script src=\"https://cdn.plot.ly/plotly-2.8.3.min.js\"></script>                <div id=\"224610d8-a033-472e-a2bf-ffe5dea7f7b5\" class=\"plotly-graph-div\" style=\"height:525px; width:100%;\"></div>            <script type=\"text/javascript\">                                    window.PLOTLYENV=window.PLOTLYENV || {};                                    if (document.getElementById(\"224610d8-a033-472e-a2bf-ffe5dea7f7b5\")) {                    Plotly.newPlot(                        \"224610d8-a033-472e-a2bf-ffe5dea7f7b5\",                        [{\"alignmentgroup\":\"True\",\"bingroup\":\"x\",\"hovertemplate\":\"Gender=Male<br>City=%{x}<br>count=%{y}<extra></extra>\",\"legendgroup\":\"Male\",\"marker\":{\"color\":\"#636efa\",\"pattern\":{\"shape\":\"\"}},\"name\":\"Male\",\"offsetgroup\":\"Male\",\"orientation\":\"v\",\"showlegend\":true,\"x\":[\"Munich\",\"Berlin\",\"Berlin\",\"Berlin\",\"Berlin\",\"Berlin\",\"Berlin\",\"Berlin\",\"Berlin\",\"Berlin\",\"Berlin\",\"Berlin\",\"Wolfsburg\",\"Hamburg\",\"Berlin\",\"Berlin\",\"Berlin\",\"Berlin\",\"Berlin\",\"Berlin\",\"Berlin\",\"Berlin\",\"Berlin\",\"Berlin\",\"Berlin\",\"Berlin\",\"Berlin\",\"Berlin\",\"Berlin\",\"Berlin\",\"Berlin\",\"Berlin\",\"Berlin\",\"Berlin\",\"Berlin\",\"Berlin\",\"Berlin\",\"Berlin\",\"Berlin\",\"Berlin\",\"Berlin\",\"Berlin\",\"Berlin\",\"Berlin\",\"Berlin\",\"Munich\",\"Munich\",\"Berlin\",\"Munich\",\"Munich\",\"Munich\",\"Munich\",\"Munich\",\"Stuttgart\",\"Berlin\",\"Schleswig-Holstein\",\"London\",\"Berlin\",\"Konstanz area\",\"Munich\",\"Berlin\",\"Munich\",\"Berlin\",\"Berlin\",\"Munich\",\"Frankfurt\",\"Berlin\",\"Berlin\",\"Berlin\",\"Berlin\",\"Berlin\",\"Berlin\",\"Berlin\",\"Berlin\",\"Berlin\",\"Berlin\",\"Munich\",\"Munich\",\"Berlin\",\"Munich\",\"Berlin\",\"Munich\",\"Munich\",\"Berlin\",\"Munich\",\"Berlin\",\"Munich\",\"Munich\",\"Munich\",\"Frankfurt\",\"Berlin\",\"Berlin\",\"Berlin\",\"Berlin\",\"Munich\",\"Cologne\",\"Munich\",\"Munich\",\"Berlin\",\"Berlin\",\"Munich\",\"Berlin\",\"Munich\",\"Berlin\",\"Munich\",\"Berlin\",\"Munich\",\"Berlin\",\"Berlin\",\"Berlin\",\"Munich\",\"Berlin\",\"Berlin\",\"Berlin\",\"Berlin\",\"Berlin\",\"Berlin\",\"Hamburg\",\"M\\u00fcnster\",\"Berlin\",\"Frankfurt\",\"Berlin\",\"Berlin\",\"Berlin\",\"Munich\",\"Cologne\",\"Munich\",\"Berlin\",\"Vienna\",\"Berlin\",\"Frankfurt\",\"Berlin\",\"Berlin\",\"Moldova\",\"Munich\",\"Munich\",\"Berlin\",\"Berlin\",\"Berlin\",\"Munich\",\"Munich\",\"Berlin\",\"Berlin\",\"Berlin\",\"Berlin\",\"Berlin\",\"Berlin\",\"Munich\",\"Rosenheim\",\"Berlin\",\"Munich\",\"Munich\",\"Berlin\",\"Mannheim\",\"Munich\",\"Berlin\",\"Munich\",\"Munich\",\"Frankfurt\",\"Munich\",\"Berlin\",\"Rosenheim\",\"Berlin\",\"Berlin\",\"Berlin\",\"Berlin\",\"Berlin\",\"Berlin\",\"Munich\",\"Munich\",\"Berlin\",\"Berlin\",\"Berlin\",\"Berlin\",\"Berlin\",\"Berlin\",\"Berlin\",\"Stuttgart\",\"Boeblingen\",\"Berlin\",\"Berlin\",\"Boeblingen\",\"Stuttgart\",\"Berlin\",\"Berlin\",\"D\\u00fcsseldorf\",\"Munich\",\"Ingolstadt\",\"Stuttgart\",\"Munich\",\"Berlin\",\"Stuttgart\",\"Berlin\",\"Munich\",\"Munich\",\"Munich\",\"Munich\",\"Berlin\",\"Berlin\",\"Frankfurt\",\"Munich\",\"Stuttgart\",\"Berlin\",\"D\\u00fcsseldorf\",\"Munich\",\"Munich\",\"Munich\",\"N\\u00fcrnberg\",\"Berlin\",\"Frankfurt\",\"Berlin\",\"Berlin\",\"Berlin\",\"Munich\",\"Ansbach\",\"Munich\",\"Berlin\",\"Berlin\",\"Leipzig\",\"Berlin\",\"Berlin\",\"Mannheim\",\"Munich\",\"Munich\",\"Munich\",\"Berlin\",\"Berlin\",\"Munich\",\"Berlin\",\"Hamburg\",\"Berlin\",\"Berlin\",\"Berlin\",\"Munich\",\"Berlin\",\"Berlin\",\"Berlin\",\"Stuttgart\",\"Berlin\",\"Berlin\",\"Munich\",\"Berlin\",\"Berlin\",\"Berlin\",\"Munich\",\"Berlin\",\"Berlin\",\"Berlin\",\"Berlin\",\"Berlin\",\"Berlin\",\"Berlin\",\"Berlin\",\"Berlin\",\"Berlin\",\"Stuttgart\",\"Munich\",\"Frankfurt\",\"Berlin\",\"Berlin\",\"Tuttlingen\",\"Stuttgart\",\"Munich\",\"Frankfurt\",\"Berlin\",\"N\\u00fcrnberg\",\"Bonn\",\"Hamburg\",\"Munich\",\"Berlin\",\"Munich\",\"Munich\",\"Berlin\",\"Hamburg\",\"Berlin\",\"Munich\",\"Hamburg\",\"Hamburg\",\"Munich\",\"Munich\",\"Frankfurt\",\"Munich\",\"Berlin\",\"Munich\",\"Munich\",\"Koblenz\",\"Berlin\",\"Hamburg\",\"Munich\",\"Heidelberg\",\"Berlin\",\"Karlsruhe\",\"Stuttgart\",\"Berlin\",\"Berlin\",\"K\\u00f6ln\",\"Frankfurt\",\"Munich\",\"Berlin\",\"Berlin\",\"Berlin\",\"Munich\",\"Munich\",\"D\\u00fcsseldorf\",\"Berlin\",\"Karlsruhe\",\"Berlin\",\"Munich\",\"Berlin\",\"Berlin\",\"Berlin\",\"Berlin\",\"Berlin\",\"Cologne\",\"Hamburg\",\"Berlin\",\"Munich\",\"Hamburg\",\"Dusseldorf\",\"Berlin\",\"Berlin\",\"Berlin\",\"Hamburg\",\"Hamburg\",\"Berlin\",\"Berlin\",\"Stuttgart\",\"Berlin\",\"Berlin\",\"Helsinki\",\"Berlin\",\"Munich\",\"Frankfurt\",\"W\\u00fcrzburg\",\"Berlin\",\"Berlin\",\"Berlin\",\"Munich\",\"Berlin\",\"Munich\",\"Berlin\",\"Berlin\",\"Berlin\",\"Den Haag\",\"London\",\"Berlin\",\"Amsterdam\",\"Berlin\",\"Berlin\",\"Munich\",\"Berlin\",\"Berlin\",\"Berlin\",\"Hamburg\",\"Berlin\",\"Berlin\",\"Berlin\",\"Tallinn\",\"Utrecht\",\"Frankfurt\",\"Berlin\",\"Stockholm\",\"Berlin\",\"Moscow\",\"Braunschweig\",\"Dresden\",\"Kyiv\",\"Berlin\",\"Hamburg\",\"Berlin\",\"Stuttgart\",\"Stuttgart\",\"Berlin\",\"Munich\",\"Frankfurt\",\"Berlin\",\"Warsaw\",\"Tallinn\",\"Berlin\",\"Tallinn\",\"Munich\",\"Berlin\",\"Berlin\",\"Munich\",\"Berlin\",\"Berlin\",\"Berlin\",\"Berlin\",\"Berlin\",\"Berlin\",\"Berlin\",\"Munich\",\"Berlin\",\"Munich\",\"L\\u00fcbeck\",\"Berlin\",\"Berlin\",\"Hamburg\",\"Cologne\",\"Berlin\",\"Munich\",\"Munich\",\"Berlin\",\"Nuremberg\",\"Munich\",\"Berlin\",\"N\\u00fcrnberg\",\"Berlin\",\"Berlin\",\"Bodensee\",\"Munich\",\"Frankfurt\",\"Berlin\",\"Berlin\",\"Berlin\",\"Berlin\",\"Berlin\",\"Berlin\",\"Berlin\",\"Leipzig\",\"Berlin\",\"Berlin\",\"Munich\",\"Berlin\",\"Munich\",\"Berlin\",\"Berlin\",\"Berlin\",\"Berlin\",\"Berlin\",\"Berlin\",\"Berlin\",\"Milan\",\"Berlin\",\"Munich\",\"Berlin\",\"Berlin\",\"Munich\",\"Berlin\",\"Munich\",\"Berlin\",\"Berlin\",\"Hamburg\",\"Berlin\",\"Berlin\",\"Berlin\",\"Berlin\",\"Berlin\",\"Rome\",\"Berlin\",\"Berlin\",\"Berlin\",\"Berlin\",\"Berlin\",\"Berlin\",\"Berlin\",\"Berlin\",\"Berlin\",\"Berlin\",\"Berlin\",\"Berlin\",\"Berlin\",\"Berlin\",\"Berlin\",\"Cologne\",\"Berlin\",\"Hamburg\",\"Stuttgart\",\"Berlin\",\"Berlin\",\"Berlin\",\"Berlin\",\"Berlin\",\"Berlin\",\"Hamburg\",\"Berlin\",\"Berlin\",\"Berlin\",\"Berlin\",\"Berlin\",\"Munich\",\"Berlin\",\"Berlin\",\"Berlin\",\"Berlin\",\"Berlin\",\"Berlin\",\"Berlin\",\"Amsterdam\",\"Wroclaw\",\"Berlin\",\"Berlin\",\"Karlsruhe\",\"Berlin\",\"Frankfurt\",\"Berlin\",\"Berlin\",\"Berlin\",\"Munich\",\"Berlin\",\"Wolfsburg\",\"Boeblingen\",\"Berlin\",\"Berlin\",\"Berlin\",\"Berlin\",\"Berlin\",\"Munich\",\"Berlin\",\"Munich\",\"Frankfurt\",\"Paris\",\"Cologne\",\"Berlin\",\"Berlin\",\"Berlin\",\"Dublin\",\"Berlin\",\"Stockholm\",\"Paderborn\",\"Berlin\",\"Berlin\",\"Amsterdam\",\"Berlin\",\"Berlin\",\"Berlin\",\"Berlin\",\"Cologne\",\"Munich\",\"Cologne\",\"Munich\",\"Hamburg\",\"Munich\",\"Berlin\",\"Berlin\",\"Berlin\",\"Berlin\",\"Munich\",\"Berlin\",\"Berlin\",\"Berlin\",\"Berlin\",\"Frankfurt\",\"Karlsruhe\",\"Berlin\",\"Konstanz\",\"Berlin\",\"Berlin\",\"Stuttgart\",\"Berlin\",\"Munich\",\"D\\u00fcsseldorf\",\"D\\u00fcsseldorf\",\"Berlin\",\"Berlin\",\"Stuttgart\",\"Berlin\",\"Stuttgart\",\"Berlin\",\"Stuttgart\",\"Frankfurt\",\"D\\u00fcsseldorf\",\"Berlin\",\"Munich\",\"Paris\",\"Berlin\",\"London\",\"B\\u00f6lingen\",\"Berlin\",\"Kyiv\",\"Berlin\",\"Dusseldorf\",\"Munich\",\"Berlin\",\"Berlin\",\"Berlin\",\"Munich\",\"Munich\",\"Munich\",\"Munich\",\"Berlin\",\"Berlin\",\"Berlin\",\"Berlin\",\"Berlin\",\"Berlin\",\"Berlin\",\"Berlin\",\"Berlin\",\"Berlin\",\"Berlin\",\"Berlin\",\"Heidelberg\",\"Cologne\",\"Berlin\",\"Berlin\",\"Amsterdam\",\"Berlin\",\"Berlin\",\"Prague\",\"Hannover\",\"Berlin\",\"Berlin\",\"Berlin\",\"Frankfurt\",\"Berlin\",\"Berlin\",\"Berlin\",\"Munich\",\"Berlin\",\"Berlin\",\"Berlin\",\"Berlin\",\"Helsinki\",\"Berlin\",\"Berlin\",\"Berlin\",\"Berlin\",\"Prague\",\"D\\u00fcsseldorf\",\"Berlin\",\"Berlin\",\"Siegen\",\"Berlin\",\"Berlin\",\"Berlin\",\"Berlin\",\"Berlin\",\"Berlin\",\"Berlin\",\"Minsk\",\"Berlin\",\"Berlin\",\"Munich\",\"Berlin\",\"Munich\",\"Nuremberg\",\"Berlin\",\"Berlin\",\"Munich\",\"Berlin\",\"Berlin\",\"Berlin\",\"Marseille\",\"Friedrichshafen\",\"Berlin\",\"Stuttgart\",\"Berlin\",\"Berlin\",\"Berlin\",\"Berlin\",\"Berlin\",\"Berlin\",\"Berlin\",\"Berlin\",\"Berlin\",\"Hannover\",\"Berlin\",\"Berlin\",\"Walldorf\",\"Hamburg\",\"Hamburg\",\"Frankfurt\",\"Eindhoven\",\"France\",\"Berlin\",\"Frankfurt\",\"Warsaw, Poland\",\"Berlin\",\"Berlin\",\"Munich\",\"Munich\",\"Munich\",\"Amsterdam\",\"Berlin\",\"Berlin\",\"Munich\",\"Berlin\",\"Munich\",\"Berlin\",\"Munich\",\"Frankfurt\",\"Berlin\",\"Berlin\",\"Munich\",\"Munich\",\"Munich\",\"Frankfurt\",\"Munich\",\"Milan\",\"Berlin\",\"Berlin\",\"Berlin\",\"Berlin\",\"Heilbronn\",\"Frankfurt\",\"Berlin\",\"Berlin\",\"Berlin\",\"Berlin\",\"Berlin\",\"Munich\",\"D\\u00fcsseldorf\",\"Munich\",\"London\",\"Berlin\",\"Berlin\",\"Munich\",\"Dortmund\",\"Berlin\",\"Berlin\",\"Berlin\",\"Berlin\",\"Berlin\",\"Frankfurt\",\"Berlin\",\"Berlin\",\"City in Russia\",\"Berlin\",\"Berlin\",\"Berlin\",\"Berlin\",\"Munich\",\"Berlin\",\"Nuremberg\",\"N\\u00fcrnberg\",\"Amsterdam\",\"Stuttgart\",\"Stuttgart\",\"Frankfurt\",\"Berlin\",\"Cracow\",\"Berlin\",\"Berlin\",\"Berlin\",\"Zurich\",\"Dublin\",\"Madrid\",\"Rome\",\"Berlin\",\"Berlin\",\"Barcelona\",\"Sofia\",\"Frankfurt\",\"Munich\",\"Bonn\",\"Berlin\",\"Berlin\",\"Helsinki\",\"Luttich\",\"Milano\",\"Berlin\",\"Bielefeld\",\"Berlin\",\"Hamburg\",\"Berlin\",\"Munich\",\"Berlin\",\"Berlin\",\"Berlin\",\"Berlin\",\"Hamburg\",\"NJ, USA\",\"Berlin\",\"Munich\",\"Berlin\",\"Frankfurt\",\"Madrid\",\"Berlin\",\"Cologne\",\"warsaw\",\"Berlin\",\"Munich\",\"Berlin\",\"Berlin\",\"Wolfsburg\",\"Mannheim\",\"Berlin\",\"Cologne\",\"Munich\",\"Berlin\",\"Berlin\",\"Karlsruhe\",\"Frankfurt\",\"Hildesheim\",\"Berlin\",\"Vienna\",\"Berlin\",\"Munich\",\"Helsinki\",\"Berlin\",\"Hamburg\",\"Berlin\",\"Munich\",\"Munich\",\"Siegen\",\"Munich\",\"Murnau am Staffelsee\",\"Munich\",\"Z\\u00fcrich\",\"Innsbruck\",\"Berlin\",\"Stockholm\",\"Berlin\",\"Berlin\",\"Berlin\",\"Berlin\",\"Brussels\",\"Munich\",\"Berlin\",\"Berlin\",\"Heidelberg\",\"Heidelberg\",\"Zurich\",\"Berlin\",\"Berlin\",\"Berlin\",\"Munich\",\"Hamburg\",\"Munich\",\"Berlin\",\"Munich\",\"Munich\",\"Berlin\",\"Berlin\",\"Berlin\",\"Bonn\",\"Berlin\",\"Cologne\",\"Berlin\",\"Berlin\",\"Hamburg\",\"Munich\",\"Berlin\",\"Berlin\",\"Prefer not to say\",\"Munich\",\"Munich\",\"Berlin\",\"Berlin\",\"Berlin\",\"Berlin\",\"Moscow\",\"Hamburg\",\"Hamburg\",\"Stuttgart\",\"Munich\",\"Munich\",\"Cologne\",\"Berlin\",\"Hamburg\",\"Dusseldurf\",\"Berlin\",\"Frankfurt\",\"Hamburg\",\"Fr\",\"Berlin\",\"Berlin\",\"Frankfurt\",\"Berlin\",\"Berlin\",\"Stuttgart\",\"Berlin\",\"Hamburg\",\"Munich\",\"Berlin\",\"Munich\",\"Berlin\",\"Cologne\",\"Munich\",\"Munich\",\"Munich\",\"Munich\",\"Darmstadt\",\"Darmstadt\",\"Munich\",\"Frankfurt\",\"Munich\",\"Frankfurt\",\"Munich\",\"Munich\",\"Berlin\",\"Munich\",\"Darmstadt\",\"Duesseldorf\",\"Berlin\",\"Munich\",\"Berlin\",\"Berlin\",\"Berlin\",\"Cologne\",\"Hamburg\",\"Berlin\",\"Munich\",\"Munich\",\"Berlin\",\"Berlin\",\"Berlin\",\"Berlin\",\"Brussels\",\"Stockholm\",\"Berlin\",\"Copenhagen\",\"Berlin\",\"Munich\",\"Berlin\",\"Munich\",\"Berlin\",\"Berlin\",\"Berlin\",\"Berlin\",\"Berlin\",\"Berlin\",\"Berlin\",\"Berlin\",\"Berlin\",\"Stuttgart\",\"Berlin\",\"Berlin\",\"Munich\",\"Berlin\",\"Munich\",\"Sevilla\",\"Berlin\",\"Berlin\",\"Berlin\",\"Berlin\",\"Aachen\",\"Munich\",\"Munich\",\"Stuttgart\",\"Berlin\",\"Amsterdam\",\"Berlin\",\"Regensburg\",\"Munich\",\"Berlin\",\"Berlin\",\"Krakow\",\"Ingolstadt\",\"Berlin\",\"Berlin\",\"Berlin\",\"Stuttgart\",\"Berlin\",\"Munich\",\"Munich\",\"Berlin\",\"Berlin\",\"Berlin\",\"Prague\",\"Munich\",\"Munich\",\"Munich\",\"Munich\",\"Ingolstadt\",\"Munich\",\"Berlin\",\"Munich\",\"Berlin\",\"Munich\",\"Berlin\",\"Karlsruhe\",\"Stuttgart\",\"Berlin\",\"Berlin\",\"Frankfurt\",\"Munich\",\"Berlin\",\"Munich\",\"Berlin\",\"Berlin\",\"Zurich\",\"Berlin\",\"Berlin\",\"Munich\",\"Saarbr\\u00fccken\",\"Berlin\"],\"xaxis\":\"x\",\"yaxis\":\"y\",\"type\":\"histogram\"},{\"alignmentgroup\":\"True\",\"bingroup\":\"x\",\"hovertemplate\":\"Gender=Female<br>City=%{x}<br>count=%{y}<extra></extra>\",\"legendgroup\":\"Female\",\"marker\":{\"color\":\"#EF553B\",\"pattern\":{\"shape\":\"\"}},\"name\":\"Female\",\"offsetgroup\":\"Female\",\"orientation\":\"v\",\"showlegend\":true,\"x\":[\"Hamburg\",\"Berlin\",\"Berlin\",\"Berlin\",\"Berlin\",\"Berlin\",\"Berlin\",\"Berlin\",\"Berlin\",\"Munich\",\"Berlin\",\"Berlin\",\"Berlin\",\"Hamburg\",\"Berlin\",\"Munich\",\"Munich\",\"Munich\",\"Berlin\",\"Kempten\",\"Munich\",\"Munich\",\"Berlin\",\"Munich\",\"Erlangen\",\"Munich\",\"Berlin\",\"Berlin\",\"Berlin\",\"Berlin\",\"Berlin\",\"Munich\",\"Munich\",\"Berlin\",\"Stuttgart\",\"Berlin\",\"Stuttgart\",\"Stuttgart\",\"Frankfurt\",\"Berlin\",\"Stuttgart\",\"Berlin\",\"Munich\",\"Frankfurt\",\"Berlin\",\"Berlin\",\"Munich\",\"Berlin\",\"Berlin\",\"Munich\",\"Mannheim\",\"Cologne\",\"Berlin\",\"Berlin\",\"Berlin\",\"Berlin\",\"Munich\",\"Frankfurt\",\"Berlin\",\"Berlin\",\"Berlin\",\"Berlin\",\"Munich\",\"Munich\",\"Berlin\",\"Berlin\",\"Stuttgart\",\"Berlin\",\"Berlin\",\"Berlin\",\"Berlin\",\"Berlin\",\"Berlin\",\"Munich\",\"Berlin\",\"Munich\",\"Berlin\",\"Berlin\",\"Berlin\",\"Berlin\",\"Berlin\",\"Berlin\",\"Amsterdam\",\"Berlin\",\"Berlin\",\"Berlin\",\"Berlin\",\"Berlin\",\"Frankfurt\",\"Berlin\",\"Berlin\",\"Berlin\",\"Berlin\",\"Munich\",\"Berlin\",\"Berlin\",\"Munich\",\"Munich\",\"Cologne\",\"Berlin\",\"Munich\",\"Ulm\",\"Dusseldorf\",\"Munich\",\"Frankfurt\",\"Berlin\",\"Berlin\",\"Karlsruhe\",\"Berlin\",\"Prague\",\"Berlin\",\"Berlin\",\"Munich\",\"D\\u00fcsseldorf\",\"Berlin\",\"Berlin\",\"Berlin\",\"Moscow\",\"Berlin\",\"Munich\",\"Regensburg\",\"Berlin\",\"Berlin\",\"Berlin\",\"Berlin\",\"Berlin\",\"Berlin\",\"Berlin\",\"Berlin\",\"Berlin\",\"Berlin\",\"Stuttgart\",\"Berlin\",\"Munich\",\"Cologne\",\"Jena\",\"D\\u00fcsseldorf\",\"Stockholm\",\"Brunswick\",\"Berlin\",\"Munich\",\"Berlin\",\"Munich\",\"Berlin\",\"Munich\",\"Berlin\",\"Heidelberg\",\"Munich\",\"Hannover\",\"Berlin\",\"Berlin\",\"Prague\",\"Hildesheim\",\"Berlin\",\"Berlin\",\"Berlin\",\"Munich\",\"Berlin\",\"Berlin\",\"Berlin\",\"Berlin\",\"Berlin\",\"Amsterdam\",\"Berlin\",\"Berlin\",\"Berlin\",\"Berlin\",\"Cambridge\",\"Hamburg\",\"Berlin\",\"Berlin\",\"Berlin\",\"Berlin\",\"Berlin\",\"Hamburg\",\"Hamburg\",\"Berlin\",\"Berlin\",\"Berlin\",\"Munich\",\"Munich\",\"Berlin\",\"Munich\",\"Berlin\",\"Munich\"],\"xaxis\":\"x\",\"yaxis\":\"y\",\"type\":\"histogram\"},{\"alignmentgroup\":\"True\",\"bingroup\":\"x\",\"hovertemplate\":\"Gender=NA<br>City=%{x}<br>count=%{y}<extra></extra>\",\"legendgroup\":\"NA\",\"marker\":{\"color\":\"#00cc96\",\"pattern\":{\"shape\":\"\"}},\"name\":\"NA\",\"offsetgroup\":\"NA\",\"orientation\":\"v\",\"showlegend\":true,\"x\":[\"Berlin\",\"Munich\",\"Berlin\",\"Frankfurt\",\"Berlin\",\"Berlin\",\"Berlin\",\"Munich\"],\"xaxis\":\"x\",\"yaxis\":\"y\",\"type\":\"histogram\"}],                        {\"template\":{\"data\":{\"bar\":[{\"error_x\":{\"color\":\"#2a3f5f\"},\"error_y\":{\"color\":\"#2a3f5f\"},\"marker\":{\"line\":{\"color\":\"#E5ECF6\",\"width\":0.5},\"pattern\":{\"fillmode\":\"overlay\",\"size\":10,\"solidity\":0.2}},\"type\":\"bar\"}],\"barpolar\":[{\"marker\":{\"line\":{\"color\":\"#E5ECF6\",\"width\":0.5},\"pattern\":{\"fillmode\":\"overlay\",\"size\":10,\"solidity\":0.2}},\"type\":\"barpolar\"}],\"carpet\":[{\"aaxis\":{\"endlinecolor\":\"#2a3f5f\",\"gridcolor\":\"white\",\"linecolor\":\"white\",\"minorgridcolor\":\"white\",\"startlinecolor\":\"#2a3f5f\"},\"baxis\":{\"endlinecolor\":\"#2a3f5f\",\"gridcolor\":\"white\",\"linecolor\":\"white\",\"minorgridcolor\":\"white\",\"startlinecolor\":\"#2a3f5f\"},\"type\":\"carpet\"}],\"choropleth\":[{\"colorbar\":{\"outlinewidth\":0,\"ticks\":\"\"},\"type\":\"choropleth\"}],\"contour\":[{\"colorbar\":{\"outlinewidth\":0,\"ticks\":\"\"},\"colorscale\":[[0.0,\"#0d0887\"],[0.1111111111111111,\"#46039f\"],[0.2222222222222222,\"#7201a8\"],[0.3333333333333333,\"#9c179e\"],[0.4444444444444444,\"#bd3786\"],[0.5555555555555556,\"#d8576b\"],[0.6666666666666666,\"#ed7953\"],[0.7777777777777778,\"#fb9f3a\"],[0.8888888888888888,\"#fdca26\"],[1.0,\"#f0f921\"]],\"type\":\"contour\"}],\"contourcarpet\":[{\"colorbar\":{\"outlinewidth\":0,\"ticks\":\"\"},\"type\":\"contourcarpet\"}],\"heatmap\":[{\"colorbar\":{\"outlinewidth\":0,\"ticks\":\"\"},\"colorscale\":[[0.0,\"#0d0887\"],[0.1111111111111111,\"#46039f\"],[0.2222222222222222,\"#7201a8\"],[0.3333333333333333,\"#9c179e\"],[0.4444444444444444,\"#bd3786\"],[0.5555555555555556,\"#d8576b\"],[0.6666666666666666,\"#ed7953\"],[0.7777777777777778,\"#fb9f3a\"],[0.8888888888888888,\"#fdca26\"],[1.0,\"#f0f921\"]],\"type\":\"heatmap\"}],\"heatmapgl\":[{\"colorbar\":{\"outlinewidth\":0,\"ticks\":\"\"},\"colorscale\":[[0.0,\"#0d0887\"],[0.1111111111111111,\"#46039f\"],[0.2222222222222222,\"#7201a8\"],[0.3333333333333333,\"#9c179e\"],[0.4444444444444444,\"#bd3786\"],[0.5555555555555556,\"#d8576b\"],[0.6666666666666666,\"#ed7953\"],[0.7777777777777778,\"#fb9f3a\"],[0.8888888888888888,\"#fdca26\"],[1.0,\"#f0f921\"]],\"type\":\"heatmapgl\"}],\"histogram\":[{\"marker\":{\"pattern\":{\"fillmode\":\"overlay\",\"size\":10,\"solidity\":0.2}},\"type\":\"histogram\"}],\"histogram2d\":[{\"colorbar\":{\"outlinewidth\":0,\"ticks\":\"\"},\"colorscale\":[[0.0,\"#0d0887\"],[0.1111111111111111,\"#46039f\"],[0.2222222222222222,\"#7201a8\"],[0.3333333333333333,\"#9c179e\"],[0.4444444444444444,\"#bd3786\"],[0.5555555555555556,\"#d8576b\"],[0.6666666666666666,\"#ed7953\"],[0.7777777777777778,\"#fb9f3a\"],[0.8888888888888888,\"#fdca26\"],[1.0,\"#f0f921\"]],\"type\":\"histogram2d\"}],\"histogram2dcontour\":[{\"colorbar\":{\"outlinewidth\":0,\"ticks\":\"\"},\"colorscale\":[[0.0,\"#0d0887\"],[0.1111111111111111,\"#46039f\"],[0.2222222222222222,\"#7201a8\"],[0.3333333333333333,\"#9c179e\"],[0.4444444444444444,\"#bd3786\"],[0.5555555555555556,\"#d8576b\"],[0.6666666666666666,\"#ed7953\"],[0.7777777777777778,\"#fb9f3a\"],[0.8888888888888888,\"#fdca26\"],[1.0,\"#f0f921\"]],\"type\":\"histogram2dcontour\"}],\"mesh3d\":[{\"colorbar\":{\"outlinewidth\":0,\"ticks\":\"\"},\"type\":\"mesh3d\"}],\"parcoords\":[{\"line\":{\"colorbar\":{\"outlinewidth\":0,\"ticks\":\"\"}},\"type\":\"parcoords\"}],\"pie\":[{\"automargin\":true,\"type\":\"pie\"}],\"scatter\":[{\"marker\":{\"colorbar\":{\"outlinewidth\":0,\"ticks\":\"\"}},\"type\":\"scatter\"}],\"scatter3d\":[{\"line\":{\"colorbar\":{\"outlinewidth\":0,\"ticks\":\"\"}},\"marker\":{\"colorbar\":{\"outlinewidth\":0,\"ticks\":\"\"}},\"type\":\"scatter3d\"}],\"scattercarpet\":[{\"marker\":{\"colorbar\":{\"outlinewidth\":0,\"ticks\":\"\"}},\"type\":\"scattercarpet\"}],\"scattergeo\":[{\"marker\":{\"colorbar\":{\"outlinewidth\":0,\"ticks\":\"\"}},\"type\":\"scattergeo\"}],\"scattergl\":[{\"marker\":{\"colorbar\":{\"outlinewidth\":0,\"ticks\":\"\"}},\"type\":\"scattergl\"}],\"scattermapbox\":[{\"marker\":{\"colorbar\":{\"outlinewidth\":0,\"ticks\":\"\"}},\"type\":\"scattermapbox\"}],\"scatterpolar\":[{\"marker\":{\"colorbar\":{\"outlinewidth\":0,\"ticks\":\"\"}},\"type\":\"scatterpolar\"}],\"scatterpolargl\":[{\"marker\":{\"colorbar\":{\"outlinewidth\":0,\"ticks\":\"\"}},\"type\":\"scatterpolargl\"}],\"scatterternary\":[{\"marker\":{\"colorbar\":{\"outlinewidth\":0,\"ticks\":\"\"}},\"type\":\"scatterternary\"}],\"surface\":[{\"colorbar\":{\"outlinewidth\":0,\"ticks\":\"\"},\"colorscale\":[[0.0,\"#0d0887\"],[0.1111111111111111,\"#46039f\"],[0.2222222222222222,\"#7201a8\"],[0.3333333333333333,\"#9c179e\"],[0.4444444444444444,\"#bd3786\"],[0.5555555555555556,\"#d8576b\"],[0.6666666666666666,\"#ed7953\"],[0.7777777777777778,\"#fb9f3a\"],[0.8888888888888888,\"#fdca26\"],[1.0,\"#f0f921\"]],\"type\":\"surface\"}],\"table\":[{\"cells\":{\"fill\":{\"color\":\"#EBF0F8\"},\"line\":{\"color\":\"white\"}},\"header\":{\"fill\":{\"color\":\"#C8D4E3\"},\"line\":{\"color\":\"white\"}},\"type\":\"table\"}]},\"layout\":{\"annotationdefaults\":{\"arrowcolor\":\"#2a3f5f\",\"arrowhead\":0,\"arrowwidth\":1},\"autotypenumbers\":\"strict\",\"coloraxis\":{\"colorbar\":{\"outlinewidth\":0,\"ticks\":\"\"}},\"colorscale\":{\"diverging\":[[0,\"#8e0152\"],[0.1,\"#c51b7d\"],[0.2,\"#de77ae\"],[0.3,\"#f1b6da\"],[0.4,\"#fde0ef\"],[0.5,\"#f7f7f7\"],[0.6,\"#e6f5d0\"],[0.7,\"#b8e186\"],[0.8,\"#7fbc41\"],[0.9,\"#4d9221\"],[1,\"#276419\"]],\"sequential\":[[0.0,\"#0d0887\"],[0.1111111111111111,\"#46039f\"],[0.2222222222222222,\"#7201a8\"],[0.3333333333333333,\"#9c179e\"],[0.4444444444444444,\"#bd3786\"],[0.5555555555555556,\"#d8576b\"],[0.6666666666666666,\"#ed7953\"],[0.7777777777777778,\"#fb9f3a\"],[0.8888888888888888,\"#fdca26\"],[1.0,\"#f0f921\"]],\"sequentialminus\":[[0.0,\"#0d0887\"],[0.1111111111111111,\"#46039f\"],[0.2222222222222222,\"#7201a8\"],[0.3333333333333333,\"#9c179e\"],[0.4444444444444444,\"#bd3786\"],[0.5555555555555556,\"#d8576b\"],[0.6666666666666666,\"#ed7953\"],[0.7777777777777778,\"#fb9f3a\"],[0.8888888888888888,\"#fdca26\"],[1.0,\"#f0f921\"]]},\"colorway\":[\"#636efa\",\"#EF553B\",\"#00cc96\",\"#ab63fa\",\"#FFA15A\",\"#19d3f3\",\"#FF6692\",\"#B6E880\",\"#FF97FF\",\"#FECB52\"],\"font\":{\"color\":\"#2a3f5f\"},\"geo\":{\"bgcolor\":\"white\",\"lakecolor\":\"white\",\"landcolor\":\"#E5ECF6\",\"showlakes\":true,\"showland\":true,\"subunitcolor\":\"white\"},\"hoverlabel\":{\"align\":\"left\"},\"hovermode\":\"closest\",\"mapbox\":{\"style\":\"light\"},\"paper_bgcolor\":\"white\",\"plot_bgcolor\":\"#E5ECF6\",\"polar\":{\"angularaxis\":{\"gridcolor\":\"white\",\"linecolor\":\"white\",\"ticks\":\"\"},\"bgcolor\":\"#E5ECF6\",\"radialaxis\":{\"gridcolor\":\"white\",\"linecolor\":\"white\",\"ticks\":\"\"}},\"scene\":{\"xaxis\":{\"backgroundcolor\":\"#E5ECF6\",\"gridcolor\":\"white\",\"gridwidth\":2,\"linecolor\":\"white\",\"showbackground\":true,\"ticks\":\"\",\"zerolinecolor\":\"white\"},\"yaxis\":{\"backgroundcolor\":\"#E5ECF6\",\"gridcolor\":\"white\",\"gridwidth\":2,\"linecolor\":\"white\",\"showbackground\":true,\"ticks\":\"\",\"zerolinecolor\":\"white\"},\"zaxis\":{\"backgroundcolor\":\"#E5ECF6\",\"gridcolor\":\"white\",\"gridwidth\":2,\"linecolor\":\"white\",\"showbackground\":true,\"ticks\":\"\",\"zerolinecolor\":\"white\"}},\"shapedefaults\":{\"line\":{\"color\":\"#2a3f5f\"}},\"ternary\":{\"aaxis\":{\"gridcolor\":\"white\",\"linecolor\":\"white\",\"ticks\":\"\"},\"baxis\":{\"gridcolor\":\"white\",\"linecolor\":\"white\",\"ticks\":\"\"},\"bgcolor\":\"#E5ECF6\",\"caxis\":{\"gridcolor\":\"white\",\"linecolor\":\"white\",\"ticks\":\"\"}},\"title\":{\"x\":0.05},\"xaxis\":{\"automargin\":true,\"gridcolor\":\"white\",\"linecolor\":\"white\",\"ticks\":\"\",\"title\":{\"standoff\":15},\"zerolinecolor\":\"white\",\"zerolinewidth\":2},\"yaxis\":{\"automargin\":true,\"gridcolor\":\"white\",\"linecolor\":\"white\",\"ticks\":\"\",\"title\":{\"standoff\":15},\"zerolinecolor\":\"white\",\"zerolinewidth\":2}}},\"xaxis\":{\"anchor\":\"y\",\"domain\":[0.0,1.0],\"title\":{\"text\":\"City\"},\"categoryorder\":\"total descending\"},\"yaxis\":{\"anchor\":\"x\",\"domain\":[0.0,1.0],\"title\":{\"text\":\"count\"}},\"legend\":{\"title\":{\"text\":\"Gender\"},\"tracegroupgap\":0},\"margin\":{\"t\":60},\"barmode\":\"relative\"},                        {\"responsive\": true}                    ).then(function(){\n",
              "                            \n",
              "var gd = document.getElementById('224610d8-a033-472e-a2bf-ffe5dea7f7b5');\n",
              "var x = new MutationObserver(function (mutations, observer) {{\n",
              "        var display = window.getComputedStyle(gd).display;\n",
              "        if (!display || display === 'none') {{\n",
              "            console.log([gd, 'removed!']);\n",
              "            Plotly.purge(gd);\n",
              "            observer.disconnect();\n",
              "        }}\n",
              "}});\n",
              "\n",
              "// Listen for the removal of the full notebook cells\n",
              "var notebookContainer = gd.closest('#notebook-container');\n",
              "if (notebookContainer) {{\n",
              "    x.observe(notebookContainer, {childList: true});\n",
              "}}\n",
              "\n",
              "// Listen for the clearing of the current output cell\n",
              "var outputEl = gd.closest('.output');\n",
              "if (outputEl) {{\n",
              "    x.observe(outputEl, {childList: true});\n",
              "}}\n",
              "\n",
              "                        })                };                            </script>        </div>\n",
              "</body>\n",
              "</html>"
            ]
          },
          "metadata": {}
        }
      ]
    },
    {
      "cell_type": "markdown",
      "source": [
        "Exploring work-relevant information"
      ],
      "metadata": {
        "id": "_tFuphVe5cth"
      }
    },
    {
      "cell_type": "code",
      "source": [
        "new_df20.head()"
      ],
      "metadata": {
        "colab": {
          "base_uri": "https://localhost:8080/",
          "height": 371
        },
        "id": "Qe_iYXjV0v_J",
        "outputId": "9fa14b8e-fe90-41fb-bfad-2f53fc5b1373"
      },
      "execution_count": null,
      "outputs": [
        {
          "output_type": "execute_result",
          "data": {
            "text/html": [
              "\n",
              "  <div id=\"df-f71b866f-4b1a-4f4d-8256-91cc88093cc1\">\n",
              "    <div class=\"colab-df-container\">\n",
              "      <div>\n",
              "<style scoped>\n",
              "    .dataframe tbody tr th:only-of-type {\n",
              "        vertical-align: middle;\n",
              "    }\n",
              "\n",
              "    .dataframe tbody tr th {\n",
              "        vertical-align: top;\n",
              "    }\n",
              "\n",
              "    .dataframe thead th {\n",
              "        text-align: right;\n",
              "    }\n",
              "</style>\n",
              "<table border=\"1\" class=\"dataframe\">\n",
              "  <thead>\n",
              "    <tr style=\"text-align: right;\">\n",
              "      <th></th>\n",
              "      <th>Age</th>\n",
              "      <th>Gender</th>\n",
              "      <th>City</th>\n",
              "      <th>Position</th>\n",
              "      <th>Total years of experience</th>\n",
              "      <th>Seniority level</th>\n",
              "      <th>Yearly brutto salary</th>\n",
              "      <th>Number of vacation days</th>\n",
              "      <th>Main language at work</th>\n",
              "      <th>Working hours remaining weekly</th>\n",
              "      <th>Main technology</th>\n",
              "    </tr>\n",
              "  </thead>\n",
              "  <tbody>\n",
              "    <tr>\n",
              "      <th>0</th>\n",
              "      <td>26.0</td>\n",
              "      <td>Male</td>\n",
              "      <td>Munich</td>\n",
              "      <td>Software Engineer</td>\n",
              "      <td>5.0</td>\n",
              "      <td>Senior</td>\n",
              "      <td>80000.0</td>\n",
              "      <td>30.0</td>\n",
              "      <td>English</td>\n",
              "      <td>40.0</td>\n",
              "      <td>Typescript</td>\n",
              "    </tr>\n",
              "    <tr>\n",
              "      <th>1</th>\n",
              "      <td>26.0</td>\n",
              "      <td>Male</td>\n",
              "      <td>Berlin</td>\n",
              "      <td>Backend Developer</td>\n",
              "      <td>7.0</td>\n",
              "      <td>Senior</td>\n",
              "      <td>80000.0</td>\n",
              "      <td>28.0</td>\n",
              "      <td>English</td>\n",
              "      <td>40.0</td>\n",
              "      <td>Ruby</td>\n",
              "    </tr>\n",
              "    <tr>\n",
              "      <th>2</th>\n",
              "      <td>28.0</td>\n",
              "      <td>Male</td>\n",
              "      <td>Berlin</td>\n",
              "      <td>Frontend Developer</td>\n",
              "      <td>4.0</td>\n",
              "      <td>Junior</td>\n",
              "      <td>54000.0</td>\n",
              "      <td>24.0</td>\n",
              "      <td>English</td>\n",
              "      <td>40.0</td>\n",
              "      <td>Javascript</td>\n",
              "    </tr>\n",
              "    <tr>\n",
              "      <th>3</th>\n",
              "      <td>37.0</td>\n",
              "      <td>Male</td>\n",
              "      <td>Berlin</td>\n",
              "      <td>Backend Developer</td>\n",
              "      <td>17.0</td>\n",
              "      <td>Senior</td>\n",
              "      <td>62000.0</td>\n",
              "      <td>29.0</td>\n",
              "      <td>English</td>\n",
              "      <td>40.0</td>\n",
              "      <td>C# .net</td>\n",
              "    </tr>\n",
              "    <tr>\n",
              "      <th>4</th>\n",
              "      <td>32.0</td>\n",
              "      <td>Male</td>\n",
              "      <td>Berlin</td>\n",
              "      <td>DevOps</td>\n",
              "      <td>5.0</td>\n",
              "      <td>Senior</td>\n",
              "      <td>76000.0</td>\n",
              "      <td>30.0</td>\n",
              "      <td>English</td>\n",
              "      <td>40.0</td>\n",
              "      <td>Aws</td>\n",
              "    </tr>\n",
              "  </tbody>\n",
              "</table>\n",
              "</div>\n",
              "      <button class=\"colab-df-convert\" onclick=\"convertToInteractive('df-f71b866f-4b1a-4f4d-8256-91cc88093cc1')\"\n",
              "              title=\"Convert this dataframe to an interactive table.\"\n",
              "              style=\"display:none;\">\n",
              "        \n",
              "  <svg xmlns=\"http://www.w3.org/2000/svg\" height=\"24px\"viewBox=\"0 0 24 24\"\n",
              "       width=\"24px\">\n",
              "    <path d=\"M0 0h24v24H0V0z\" fill=\"none\"/>\n",
              "    <path d=\"M18.56 5.44l.94 2.06.94-2.06 2.06-.94-2.06-.94-.94-2.06-.94 2.06-2.06.94zm-11 1L8.5 8.5l.94-2.06 2.06-.94-2.06-.94L8.5 2.5l-.94 2.06-2.06.94zm10 10l.94 2.06.94-2.06 2.06-.94-2.06-.94-.94-2.06-.94 2.06-2.06.94z\"/><path d=\"M17.41 7.96l-1.37-1.37c-.4-.4-.92-.59-1.43-.59-.52 0-1.04.2-1.43.59L10.3 9.45l-7.72 7.72c-.78.78-.78 2.05 0 2.83L4 21.41c.39.39.9.59 1.41.59.51 0 1.02-.2 1.41-.59l7.78-7.78 2.81-2.81c.8-.78.8-2.07 0-2.86zM5.41 20L4 18.59l7.72-7.72 1.47 1.35L5.41 20z\"/>\n",
              "  </svg>\n",
              "      </button>\n",
              "      \n",
              "  <style>\n",
              "    .colab-df-container {\n",
              "      display:flex;\n",
              "      flex-wrap:wrap;\n",
              "      gap: 12px;\n",
              "    }\n",
              "\n",
              "    .colab-df-convert {\n",
              "      background-color: #E8F0FE;\n",
              "      border: none;\n",
              "      border-radius: 50%;\n",
              "      cursor: pointer;\n",
              "      display: none;\n",
              "      fill: #1967D2;\n",
              "      height: 32px;\n",
              "      padding: 0 0 0 0;\n",
              "      width: 32px;\n",
              "    }\n",
              "\n",
              "    .colab-df-convert:hover {\n",
              "      background-color: #E2EBFA;\n",
              "      box-shadow: 0px 1px 2px rgba(60, 64, 67, 0.3), 0px 1px 3px 1px rgba(60, 64, 67, 0.15);\n",
              "      fill: #174EA6;\n",
              "    }\n",
              "\n",
              "    [theme=dark] .colab-df-convert {\n",
              "      background-color: #3B4455;\n",
              "      fill: #D2E3FC;\n",
              "    }\n",
              "\n",
              "    [theme=dark] .colab-df-convert:hover {\n",
              "      background-color: #434B5C;\n",
              "      box-shadow: 0px 1px 3px 1px rgba(0, 0, 0, 0.15);\n",
              "      filter: drop-shadow(0px 1px 2px rgba(0, 0, 0, 0.3));\n",
              "      fill: #FFFFFF;\n",
              "    }\n",
              "  </style>\n",
              "\n",
              "      <script>\n",
              "        const buttonEl =\n",
              "          document.querySelector('#df-f71b866f-4b1a-4f4d-8256-91cc88093cc1 button.colab-df-convert');\n",
              "        buttonEl.style.display =\n",
              "          google.colab.kernel.accessAllowed ? 'block' : 'none';\n",
              "\n",
              "        async function convertToInteractive(key) {\n",
              "          const element = document.querySelector('#df-f71b866f-4b1a-4f4d-8256-91cc88093cc1');\n",
              "          const dataTable =\n",
              "            await google.colab.kernel.invokeFunction('convertToInteractive',\n",
              "                                                     [key], {});\n",
              "          if (!dataTable) return;\n",
              "\n",
              "          const docLinkHtml = 'Like what you see? Visit the ' +\n",
              "            '<a target=\"_blank\" href=https://colab.research.google.com/notebooks/data_table.ipynb>data table notebook</a>'\n",
              "            + ' to learn more about interactive tables.';\n",
              "          element.innerHTML = '';\n",
              "          dataTable['output_type'] = 'display_data';\n",
              "          await google.colab.output.renderOutput(dataTable, element);\n",
              "          const docLink = document.createElement('div');\n",
              "          docLink.innerHTML = docLinkHtml;\n",
              "          element.appendChild(docLink);\n",
              "        }\n",
              "      </script>\n",
              "    </div>\n",
              "  </div>\n",
              "  "
            ],
            "text/plain": [
              "    Age Gender  ... Working hours remaining weekly Main technology\n",
              "0  26.0   Male  ...                           40.0      Typescript\n",
              "1  26.0   Male  ...                           40.0            Ruby\n",
              "2  28.0   Male  ...                           40.0      Javascript\n",
              "3  37.0   Male  ...                           40.0         C# .net\n",
              "4  32.0   Male  ...                           40.0             Aws\n",
              "\n",
              "[5 rows x 11 columns]"
            ]
          },
          "metadata": {},
          "execution_count": 39
        }
      ]
    },
    {
      "cell_type": "code",
      "source": [
        "sns.jointplot(data=new_df20, x='Total years of experience', y='Yearly brutto salary', kind='hex')"
      ],
      "metadata": {
        "colab": {
          "base_uri": "https://localhost:8080/",
          "height": 459
        },
        "id": "eVFONxoZ0QFL",
        "outputId": "0e9f2a18-1c06-4f8d-f173-f04ea88904c4"
      },
      "execution_count": null,
      "outputs": [
        {
          "output_type": "execute_result",
          "data": {
            "text/plain": [
              "<seaborn.axisgrid.JointGrid at 0x7f7c5acc4b90>"
            ]
          },
          "metadata": {},
          "execution_count": 40
        },
        {
          "output_type": "display_data",
          "data": {
            "image/png": "[encoded data removed]",
            "text/plain": [
              "<Figure size 432x432 with 3 Axes>"
            ]
          },
          "metadata": {}
        }
      ]
    },
    {
      "cell_type": "code",
      "source": [
        "sns.displot(new_df20['Total years of experience'], aspect=1.5).set(title='YEARS OF EXPERIENCE DISTRIBUTION')\n",
        "\n",
        "# Most of participants have from 5 to 15 years of experience"
      ],
      "metadata": {
        "colab": {
          "base_uri": "https://localhost:8080/",
          "height": 403
        },
        "id": "hj2qp62rBQoY",
        "outputId": "0147cb11-bf36-41c1-c778-770e725988e5"
      },
      "execution_count": null,
      "outputs": [
        {
          "output_type": "execute_result",
          "data": {
            "text/plain": [
              "<seaborn.axisgrid.FacetGrid at 0x7f7c5ab2fdd0>"
            ]
          },
          "metadata": {},
          "execution_count": 41
        },
        {
          "output_type": "display_data",
          "data": {
            "image/png": "[encoded data removed]",
            "text/plain": [
              "<Figure size 540x360 with 1 Axes>"
            ]
          },
          "metadata": {}
        }
      ]
    },
    {
      "cell_type": "code",
      "source": [
        "sns.displot(new_df20['Yearly brutto salary'], bins=30, aspect=1.5).set(title='BRUTTO SALARY DISTRIBUTION')"
      ],
      "metadata": {
        "colab": {
          "base_uri": "https://localhost:8080/",
          "height": 403
        },
        "id": "Y3eb727rIeXD",
        "outputId": "641d9788-83d8-4652-b541-8d1890e9f56e"
      },
      "execution_count": null,
      "outputs": [
        {
          "output_type": "execute_result",
          "data": {
            "text/plain": [
              "<seaborn.axisgrid.FacetGrid at 0x7f7c5aaa9c10>"
            ]
          },
          "metadata": {},
          "execution_count": 42
        },
        {
          "output_type": "display_data",
          "data": {
            "image/png": "[encoded data removed]",
            "text/plain": [
              "<Figure size 540x360 with 1 Axes>"
            ]
          },
          "metadata": {}
        }
      ]
    },
    {
      "cell_type": "code",
      "source": [
        "sns.boxplot(data=new_df20, x='Gender', y='Total years of experience')"
      ],
      "metadata": {
        "colab": {
          "base_uri": "https://localhost:8080/",
          "height": 297
        },
        "id": "4GhY0Jls_ov3",
        "outputId": "bf4a9db2-2dc2-4467-cad1-0e6563960560"
      },
      "execution_count": null,
      "outputs": [
        {
          "output_type": "execute_result",
          "data": {
            "text/plain": [
              "<matplotlib.axes._subplots.AxesSubplot at 0x7f7c5a941490>"
            ]
          },
          "metadata": {},
          "execution_count": 43
        },
        {
          "output_type": "display_data",
          "data": {
            "image/png": "[encoded data removed]",
            "text/plain": [
              "<Figure size 432x288 with 1 Axes>"
            ]
          },
          "metadata": {}
        }
      ]
    },
    {
      "cell_type": "code",
      "source": [
        "sns.displot(new_df20['Number of vacation days'], bins=40)"
      ],
      "metadata": {
        "colab": {
          "base_uri": "https://localhost:8080/",
          "height": 387
        },
        "id": "yarQHqXEj8mF",
        "outputId": "8e837b09-92e0-427f-d574-b458d3e0e131"
      },
      "execution_count": null,
      "outputs": [
        {
          "output_type": "execute_result",
          "data": {
            "text/plain": [
              "<seaborn.axisgrid.FacetGrid at 0x7f7c5a987b50>"
            ]
          },
          "metadata": {},
          "execution_count": 44
        },
        {
          "output_type": "display_data",
          "data": {
            "image/png": "[encoded data removed]",
            "text/plain": [
              "<Figure size 360x360 with 1 Axes>"
            ]
          },
          "metadata": {}
        }
      ]
    },
    {
      "cell_type": "code",
      "source": [
        "sns.heatmap(new_df20[['Age', 'Total years of experience', 'Yearly brutto salary']].corr(), annot=True, lw=1, cmap='coolwarm')"
      ],
      "metadata": {
        "colab": {
          "base_uri": "https://localhost:8080/",
          "height": 401
        },
        "id": "b874DwWlKAyF",
        "outputId": "02f2a5fd-4c59-4500-f08e-0cef7711f806"
      },
      "execution_count": null,
      "outputs": [
        {
          "output_type": "execute_result",
          "data": {
            "text/plain": [
              "<matplotlib.axes._subplots.AxesSubplot at 0x7f7c5a79f6d0>"
            ]
          },
          "metadata": {},
          "execution_count": 45
        },
        {
          "output_type": "display_data",
          "data": {
            "image/png": "[encoded data removed]",
            "text/plain": [
              "<Figure size 432x288 with 2 Axes>"
            ]
          },
          "metadata": {}
        }
      ]
    },
    {
      "cell_type": "code",
      "source": [
        "sns.heatmap(new_df20[['Age', 'Total years of experience', 'Yearly brutto salary', 'Number of vacation days', 'Working hours remaining weekly']].corr(), annot=True, lw=1, cmap='coolwarm')\n",
        "\n",
        "# Correlation coefficient between Age and Total years of experience is relatively high, which is understandable\n",
        "# Correlation coefficient between Age and Yearly brutto salary, however, is quite small"
      ],
      "metadata": {
        "colab": {
          "base_uri": "https://localhost:8080/",
          "height": 441
        },
        "id": "l4t4kIdFB1DP",
        "outputId": "53048ff8-fca0-4611-aba3-d5cb0df63262"
      },
      "execution_count": null,
      "outputs": [
        {
          "output_type": "execute_result",
          "data": {
            "text/plain": [
              "<matplotlib.axes._subplots.AxesSubplot at 0x7f7c5a6f0cd0>"
            ]
          },
          "metadata": {},
          "execution_count": 46
        },
        {
          "output_type": "display_data",
          "data": {
            "image/png": "[encoded data removed]",
            "text/plain": [
              "<Figure size 432x288 with 2 Axes>"
            ]
          },
          "metadata": {}
        }
      ]
    },
    {
      "cell_type": "code",
      "source": [
        "new_df20['Main language at work'].groupby(new_df20['Main language at work']).count().sort_values(ascending=False).head().plot.barh(title='MOST USED LANGUAGES AT WORK').invert_yaxis()\n",
        "\n",
        "# Main languages at work of participants are English and German, which completely makes sense because most of them work in Germany"
      ],
      "metadata": {
        "colab": {
          "base_uri": "https://localhost:8080/",
          "height": 281
        },
        "id": "DTHo8Q5BD0cv",
        "outputId": "5bfd24b1-fc1e-4dc4-ba12-cf5aac1fcf07"
      },
      "execution_count": null,
      "outputs": [
        {
          "output_type": "display_data",
          "data": {
            "image/png": "[encoded data removed]",
            "text/plain": [
              "<Figure size 432x288 with 1 Axes>"
            ]
          },
          "metadata": {}
        }
      ]
    },
    {
      "cell_type": "code",
      "source": [
        "new_df20[['Total years of experience', 'Yearly brutto salary']].groupby(new_df20['Gender']).mean().sort_values(by='Yearly brutto salary', ascending=False)"
      ],
      "metadata": {
        "colab": {
          "base_uri": "https://localhost:8080/",
          "height": 175
        },
        "id": "hRp3cTwvGOSf",
        "outputId": "f41a2a46-7e86-48d8-a1ac-6076d54deb67"
      },
      "execution_count": null,
      "outputs": [
        {
          "output_type": "execute_result",
          "data": {
            "text/html": [
              "\n",
              "  <div id=\"df-d3cbced9-fd26-4d7b-9065-c19944475cf0\">\n",
              "    <div class=\"colab-df-container\">\n",
              "      <div>\n",
              "<style scoped>\n",
              "    .dataframe tbody tr th:only-of-type {\n",
              "        vertical-align: middle;\n",
              "    }\n",
              "\n",
              "    .dataframe tbody tr th {\n",
              "        vertical-align: top;\n",
              "    }\n",
              "\n",
              "    .dataframe thead th {\n",
              "        text-align: right;\n",
              "    }\n",
              "</style>\n",
              "<table border=\"1\" class=\"dataframe\">\n",
              "  <thead>\n",
              "    <tr style=\"text-align: right;\">\n",
              "      <th></th>\n",
              "      <th>Total years of experience</th>\n",
              "      <th>Yearly brutto salary</th>\n",
              "    </tr>\n",
              "    <tr>\n",
              "      <th>Gender</th>\n",
              "      <th></th>\n",
              "      <th></th>\n",
              "    </tr>\n",
              "  </thead>\n",
              "  <tbody>\n",
              "    <tr>\n",
              "      <th>NA</th>\n",
              "      <td>8.125344</td>\n",
              "      <td>71201.375000</td>\n",
              "    </tr>\n",
              "    <tr>\n",
              "      <th>Male</th>\n",
              "      <td>9.173627</td>\n",
              "      <td>70807.562505</td>\n",
              "    </tr>\n",
              "    <tr>\n",
              "      <th>Female</th>\n",
              "      <td>6.452706</td>\n",
              "      <td>59910.027027</td>\n",
              "    </tr>\n",
              "  </tbody>\n",
              "</table>\n",
              "</div>\n",
              "      <button class=\"colab-df-convert\" onclick=\"convertToInteractive('df-d3cbced9-fd26-4d7b-9065-c19944475cf0')\"\n",
              "              title=\"Convert this dataframe to an interactive table.\"\n",
              "              style=\"display:none;\">\n",
              "        \n",
              "  <svg xmlns=\"http://www.w3.org/2000/svg\" height=\"24px\"viewBox=\"0 0 24 24\"\n",
              "       width=\"24px\">\n",
              "    <path d=\"M0 0h24v24H0V0z\" fill=\"none\"/>\n",
              "    <path d=\"M18.56 5.44l.94 2.06.94-2.06 2.06-.94-2.06-.94-.94-2.06-.94 2.06-2.06.94zm-11 1L8.5 8.5l.94-2.06 2.06-.94-2.06-.94L8.5 2.5l-.94 2.06-2.06.94zm10 10l.94 2.06.94-2.06 2.06-.94-2.06-.94-.94-2.06-.94 2.06-2.06.94z\"/><path d=\"M17.41 7.96l-1.37-1.37c-.4-.4-.92-.59-1.43-.59-.52 0-1.04.2-1.43.59L10.3 9.45l-7.72 7.72c-.78.78-.78 2.05 0 2.83L4 21.41c.39.39.9.59 1.41.59.51 0 1.02-.2 1.41-.59l7.78-7.78 2.81-2.81c.8-.78.8-2.07 0-2.86zM5.41 20L4 18.59l7.72-7.72 1.47 1.35L5.41 20z\"/>\n",
              "  </svg>\n",
              "      </button>\n",
              "      \n",
              "  <style>\n",
              "    .colab-df-container {\n",
              "      display:flex;\n",
              "      flex-wrap:wrap;\n",
              "      gap: 12px;\n",
              "    }\n",
              "\n",
              "    .colab-df-convert {\n",
              "      background-color: #E8F0FE;\n",
              "      border: none;\n",
              "      border-radius: 50%;\n",
              "      cursor: pointer;\n",
              "      display: none;\n",
              "      fill: #1967D2;\n",
              "      height: 32px;\n",
              "      padding: 0 0 0 0;\n",
              "      width: 32px;\n",
              "    }\n",
              "\n",
              "    .colab-df-convert:hover {\n",
              "      background-color: #E2EBFA;\n",
              "      box-shadow: 0px 1px 2px rgba(60, 64, 67, 0.3), 0px 1px 3px 1px rgba(60, 64, 67, 0.15);\n",
              "      fill: #174EA6;\n",
              "    }\n",
              "\n",
              "    [theme=dark] .colab-df-convert {\n",
              "      background-color: #3B4455;\n",
              "      fill: #D2E3FC;\n",
              "    }\n",
              "\n",
              "    [theme=dark] .colab-df-convert:hover {\n",
              "      background-color: #434B5C;\n",
              "      box-shadow: 0px 1px 3px 1px rgba(0, 0, 0, 0.15);\n",
              "      filter: drop-shadow(0px 1px 2px rgba(0, 0, 0, 0.3));\n",
              "      fill: #FFFFFF;\n",
              "    }\n",
              "  </style>\n",
              "\n",
              "      <script>\n",
              "        const buttonEl =\n",
              "          document.querySelector('#df-d3cbced9-fd26-4d7b-9065-c19944475cf0 button.colab-df-convert');\n",
              "        buttonEl.style.display =\n",
              "          google.colab.kernel.accessAllowed ? 'block' : 'none';\n",
              "\n",
              "        async function convertToInteractive(key) {\n",
              "          const element = document.querySelector('#df-d3cbced9-fd26-4d7b-9065-c19944475cf0');\n",
              "          const dataTable =\n",
              "            await google.colab.kernel.invokeFunction('convertToInteractive',\n",
              "                                                     [key], {});\n",
              "          if (!dataTable) return;\n",
              "\n",
              "          const docLinkHtml = 'Like what you see? Visit the ' +\n",
              "            '<a target=\"_blank\" href=https://colab.research.google.com/notebooks/data_table.ipynb>data table notebook</a>'\n",
              "            + ' to learn more about interactive tables.';\n",
              "          element.innerHTML = '';\n",
              "          dataTable['output_type'] = 'display_data';\n",
              "          await google.colab.output.renderOutput(dataTable, element);\n",
              "          const docLink = document.createElement('div');\n",
              "          docLink.innerHTML = docLinkHtml;\n",
              "          element.appendChild(docLink);\n",
              "        }\n",
              "      </script>\n",
              "    </div>\n",
              "  </div>\n",
              "  "
            ],
            "text/plain": [
              "        Total years of experience  Yearly brutto salary\n",
              "Gender                                                 \n",
              "NA                       8.125344          71201.375000\n",
              "Male                     9.173627          70807.562505\n",
              "Female                   6.452706          59910.027027"
            ]
          },
          "metadata": {},
          "execution_count": 48
        }
      ]
    },
    {
      "cell_type": "code",
      "source": [
        "new_df20['City'].groupby(new_df20['City']).count().sort_values(ascending=False).head()"
      ],
      "metadata": {
        "colab": {
          "base_uri": "https://localhost:8080/"
        },
        "id": "Dl9GT_CSKzXO",
        "outputId": "eb86c881-b787-4471-87c1-eeaf4a116855"
      },
      "execution_count": null,
      "outputs": [
        {
          "output_type": "execute_result",
          "data": {
            "text/plain": [
              "City\n",
              "Berlin       650\n",
              "Munich       220\n",
              "Frankfurt     41\n",
              "Hamburg       37\n",
              "Stuttgart     33\n",
              "Name: City, dtype: int64"
            ]
          },
          "metadata": {},
          "execution_count": 49
        }
      ]
    },
    {
      "cell_type": "code",
      "source": [
        "new_df20['City'].groupby(new_df20['City']).count().sort_values(ascending=False).head(10).plot.barh(title='CITY DISTRIBUTION OF RESPONDENTS').invert_yaxis()"
      ],
      "metadata": {
        "colab": {
          "base_uri": "https://localhost:8080/",
          "height": 281
        },
        "id": "A2hwc8TCKzKt",
        "outputId": "46d50527-4d9f-46d2-8b50-7ea235bce1fa"
      },
      "execution_count": null,
      "outputs": [
        {
          "output_type": "display_data",
          "data": {
            "image/png": "[encoded data removed]",
            "text/plain": [
              "<Figure size 432x288 with 1 Axes>"
            ]
          },
          "metadata": {}
        }
      ]
    },
    {
      "cell_type": "code",
      "source": [
        "ber_mun = new_df20[new_df20['City'].isin(['Berlin', 'Munich'])]\n",
        "ber_mun.describe()"
      ],
      "metadata": {
        "colab": {
          "base_uri": "https://localhost:8080/",
          "height": 361
        },
        "id": "wqXlnDziNIvN",
        "outputId": "814918b8-0908-4b11-861a-aaa7a1f4d75b"
      },
      "execution_count": null,
      "outputs": [
        {
          "output_type": "execute_result",
          "data": {
            "text/html": [
              "\n",
              "  <div id=\"df-3e8c705f-a690-4cec-8990-b22b71a3adf0\">\n",
              "    <div class=\"colab-df-container\">\n",
              "      <div>\n",
              "<style scoped>\n",
              "    .dataframe tbody tr th:only-of-type {\n",
              "        vertical-align: middle;\n",
              "    }\n",
              "\n",
              "    .dataframe tbody tr th {\n",
              "        vertical-align: top;\n",
              "    }\n",
              "\n",
              "    .dataframe thead th {\n",
              "        text-align: right;\n",
              "    }\n",
              "</style>\n",
              "<table border=\"1\" class=\"dataframe\">\n",
              "  <thead>\n",
              "    <tr style=\"text-align: right;\">\n",
              "      <th></th>\n",
              "      <th>Age</th>\n",
              "      <th>Total years of experience</th>\n",
              "      <th>Yearly brutto salary</th>\n",
              "      <th>Number of vacation days</th>\n",
              "      <th>Working hours remaining weekly</th>\n",
              "    </tr>\n",
              "  </thead>\n",
              "  <tbody>\n",
              "    <tr>\n",
              "      <th>count</th>\n",
              "      <td>870.000000</td>\n",
              "      <td>870.000000</td>\n",
              "      <td>870.000000</td>\n",
              "      <td>870.000000</td>\n",
              "      <td>870.000000</td>\n",
              "    </tr>\n",
              "    <tr>\n",
              "      <th>mean</th>\n",
              "      <td>32.566667</td>\n",
              "      <td>8.933055</td>\n",
              "      <td>71076.791954</td>\n",
              "      <td>28.274713</td>\n",
              "      <td>32.333333</td>\n",
              "    </tr>\n",
              "    <tr>\n",
              "      <th>std</th>\n",
              "      <td>5.350503</td>\n",
              "      <td>5.036636</td>\n",
              "      <td>14683.505211</td>\n",
              "      <td>3.031735</td>\n",
              "      <td>14.507223</td>\n",
              "    </tr>\n",
              "    <tr>\n",
              "      <th>min</th>\n",
              "      <td>22.000000</td>\n",
              "      <td>0.000000</td>\n",
              "      <td>28800.000000</td>\n",
              "      <td>3.000000</td>\n",
              "      <td>0.000000</td>\n",
              "    </tr>\n",
              "    <tr>\n",
              "      <th>25%</th>\n",
              "      <td>29.000000</td>\n",
              "      <td>5.000000</td>\n",
              "      <td>60000.000000</td>\n",
              "      <td>27.000000</td>\n",
              "      <td>32.000000</td>\n",
              "    </tr>\n",
              "    <tr>\n",
              "      <th>50%</th>\n",
              "      <td>32.000000</td>\n",
              "      <td>8.000000</td>\n",
              "      <td>70000.000000</td>\n",
              "      <td>28.000000</td>\n",
              "      <td>40.000000</td>\n",
              "    </tr>\n",
              "    <tr>\n",
              "      <th>75%</th>\n",
              "      <td>35.000000</td>\n",
              "      <td>12.000000</td>\n",
              "      <td>80000.000000</td>\n",
              "      <td>30.000000</td>\n",
              "      <td>40.000000</td>\n",
              "    </tr>\n",
              "    <tr>\n",
              "      <th>max</th>\n",
              "      <td>66.000000</td>\n",
              "      <td>40.000000</td>\n",
              "      <td>111111.000000</td>\n",
              "      <td>60.000000</td>\n",
              "      <td>40.000000</td>\n",
              "    </tr>\n",
              "  </tbody>\n",
              "</table>\n",
              "</div>\n",
              "      <button class=\"colab-df-convert\" onclick=\"convertToInteractive('df-3e8c705f-a690-4cec-8990-b22b71a3adf0')\"\n",
              "              title=\"Convert this dataframe to an interactive table.\"\n",
              "              style=\"display:none;\">\n",
              "        \n",
              "  <svg xmlns=\"http://www.w3.org/2000/svg\" height=\"24px\"viewBox=\"0 0 24 24\"\n",
              "       width=\"24px\">\n",
              "    <path d=\"M0 0h24v24H0V0z\" fill=\"none\"/>\n",
              "    <path d=\"M18.56 5.44l.94 2.06.94-2.06 2.06-.94-2.06-.94-.94-2.06-.94 2.06-2.06.94zm-11 1L8.5 8.5l.94-2.06 2.06-.94-2.06-.94L8.5 2.5l-.94 2.06-2.06.94zm10 10l.94 2.06.94-2.06 2.06-.94-2.06-.94-.94-2.06-.94 2.06-2.06.94z\"/><path d=\"M17.41 7.96l-1.37-1.37c-.4-.4-.92-.59-1.43-.59-.52 0-1.04.2-1.43.59L10.3 9.45l-7.72 7.72c-.78.78-.78 2.05 0 2.83L4 21.41c.39.39.9.59 1.41.59.51 0 1.02-.2 1.41-.59l7.78-7.78 2.81-2.81c.8-.78.8-2.07 0-2.86zM5.41 20L4 18.59l7.72-7.72 1.47 1.35L5.41 20z\"/>\n",
              "  </svg>\n",
              "      </button>\n",
              "      \n",
              "  <style>\n",
              "    .colab-df-container {\n",
              "      display:flex;\n",
              "      flex-wrap:wrap;\n",
              "      gap: 12px;\n",
              "    }\n",
              "\n",
              "    .colab-df-convert {\n",
              "      background-color: #E8F0FE;\n",
              "      border: none;\n",
              "      border-radius: 50%;\n",
              "      cursor: pointer;\n",
              "      display: none;\n",
              "      fill: #1967D2;\n",
              "      height: 32px;\n",
              "      padding: 0 0 0 0;\n",
              "      width: 32px;\n",
              "    }\n",
              "\n",
              "    .colab-df-convert:hover {\n",
              "      background-color: #E2EBFA;\n",
              "      box-shadow: 0px 1px 2px rgba(60, 64, 67, 0.3), 0px 1px 3px 1px rgba(60, 64, 67, 0.15);\n",
              "      fill: #174EA6;\n",
              "    }\n",
              "\n",
              "    [theme=dark] .colab-df-convert {\n",
              "      background-color: #3B4455;\n",
              "      fill: #D2E3FC;\n",
              "    }\n",
              "\n",
              "    [theme=dark] .colab-df-convert:hover {\n",
              "      background-color: #434B5C;\n",
              "      box-shadow: 0px 1px 3px 1px rgba(0, 0, 0, 0.15);\n",
              "      filter: drop-shadow(0px 1px 2px rgba(0, 0, 0, 0.3));\n",
              "      fill: #FFFFFF;\n",
              "    }\n",
              "  </style>\n",
              "\n",
              "      <script>\n",
              "        const buttonEl =\n",
              "          document.querySelector('#df-3e8c705f-a690-4cec-8990-b22b71a3adf0 button.colab-df-convert');\n",
              "        buttonEl.style.display =\n",
              "          google.colab.kernel.accessAllowed ? 'block' : 'none';\n",
              "\n",
              "        async function convertToInteractive(key) {\n",
              "          const element = document.querySelector('#df-3e8c705f-a690-4cec-8990-b22b71a3adf0');\n",
              "          const dataTable =\n",
              "            await google.colab.kernel.invokeFunction('convertToInteractive',\n",
              "                                                     [key], {});\n",
              "          if (!dataTable) return;\n",
              "\n",
              "          const docLinkHtml = 'Like what you see? Visit the ' +\n",
              "            '<a target=\"_blank\" href=https://colab.research.google.com/notebooks/data_table.ipynb>data table notebook</a>'\n",
              "            + ' to learn more about interactive tables.';\n",
              "          element.innerHTML = '';\n",
              "          dataTable['output_type'] = 'display_data';\n",
              "          await google.colab.output.renderOutput(dataTable, element);\n",
              "          const docLink = document.createElement('div');\n",
              "          docLink.innerHTML = docLinkHtml;\n",
              "          element.appendChild(docLink);\n",
              "        }\n",
              "      </script>\n",
              "    </div>\n",
              "  </div>\n",
              "  "
            ],
            "text/plain": [
              "              Age  ...  Working hours remaining weekly\n",
              "count  870.000000  ...                      870.000000\n",
              "mean    32.566667  ...                       32.333333\n",
              "std      5.350503  ...                       14.507223\n",
              "min     22.000000  ...                        0.000000\n",
              "25%     29.000000  ...                       32.000000\n",
              "50%     32.000000  ...                       40.000000\n",
              "75%     35.000000  ...                       40.000000\n",
              "max     66.000000  ...                       40.000000\n",
              "\n",
              "[8 rows x 5 columns]"
            ]
          },
          "metadata": {},
          "execution_count": 51
        }
      ]
    },
    {
      "cell_type": "code",
      "source": [
        "sns.boxplot(data=ber_mun, x='City', y='Yearly brutto salary')"
      ],
      "metadata": {
        "colab": {
          "base_uri": "https://localhost:8080/",
          "height": 297
        },
        "id": "VnX1IaIIQuj7",
        "outputId": "7033ae3a-f888-41cf-ac69-010514bbcb88"
      },
      "execution_count": null,
      "outputs": [
        {
          "output_type": "execute_result",
          "data": {
            "text/plain": [
              "<matplotlib.axes._subplots.AxesSubplot at 0x7f7c5a4ff590>"
            ]
          },
          "metadata": {},
          "execution_count": 52
        },
        {
          "output_type": "display_data",
          "data": {
            "image/png": "[encoded data removed]",
            "text/plain": [
              "<Figure size 432x288 with 1 Axes>"
            ]
          },
          "metadata": {}
        }
      ]
    },
    {
      "cell_type": "code",
      "source": [
        "g = sns.FacetGrid(ber_mun, row='City', col='Gender')\n",
        "g.map(plt.hist, 'Yearly brutto salary', bins=20)"
      ],
      "metadata": {
        "colab": {
          "base_uri": "https://localhost:8080/",
          "height": 459
        },
        "id": "MznWFF8ORMw1",
        "outputId": "e30023ab-83e1-476d-f3f6-f3fcc8108fec"
      },
      "execution_count": null,
      "outputs": [
        {
          "output_type": "execute_result",
          "data": {
            "text/plain": [
              "<seaborn.axisgrid.FacetGrid at 0x7f7c5a472550>"
            ]
          },
          "metadata": {},
          "execution_count": 53
        },
        {
          "output_type": "display_data",
          "data": {
            "image/png": "[encoded data removed]",
            "text/plain": [
              "<Figure size 648x432 with 6 Axes>"
            ]
          },
          "metadata": {}
        }
      ]
    },
    {
      "cell_type": "code",
      "source": [
        "new_df20['Seniority level'].groupby(new_df20['Seniority level']).count().sort_values(ascending=False).head()"
      ],
      "metadata": {
        "colab": {
          "base_uri": "https://localhost:8080/"
        },
        "id": "6WA5EPdIN9z8",
        "outputId": "325d5df5-dd02-4611-c33c-b147189f873b"
      },
      "execution_count": null,
      "outputs": [
        {
          "output_type": "execute_result",
          "data": {
            "text/plain": [
              "Seniority level\n",
              "Senior    547\n",
              "Middle    349\n",
              "Lead      146\n",
              "Junior     70\n",
              "Head       35\n",
              "Name: Seniority level, dtype: int64"
            ]
          },
          "metadata": {},
          "execution_count": 54
        }
      ]
    },
    {
      "cell_type": "code",
      "source": [
        "new_df20['Seniority level'].groupby(new_df20['Seniority level']).count().sort_values(ascending=False).head().plot.barh(title='SENIORITY LEVELS OF RESPONDENTS').invert_yaxis()"
      ],
      "metadata": {
        "colab": {
          "base_uri": "https://localhost:8080/",
          "height": 281
        },
        "id": "N2mx7hheOrMv",
        "outputId": "55813c68-18b2-4a81-9480-6c9a3f1ea772"
      },
      "execution_count": null,
      "outputs": [
        {
          "output_type": "display_data",
          "data": {
            "image/png": "[encoded data removed]",
            "text/plain": [
              "<Figure size 432x288 with 1 Axes>"
            ]
          },
          "metadata": {}
        }
      ]
    },
    {
      "cell_type": "code",
      "source": [
        "most_5_levels = new_df20[new_df20['Seniority level'].isin(['Senior', 'Middle', 'Lead', 'Junior', 'Head'])]\n",
        "most_5_levels[['Seniority level', 'Total years of experience', 'Yearly brutto salary', 'Working hours remaining weekly']].groupby(most_5_levels['Seniority level']).mean().sort_values(by='Yearly brutto salary', ascending=False)"
      ],
      "metadata": {
        "colab": {
          "base_uri": "https://localhost:8080/",
          "height": 237
        },
        "id": "DCcq_Ct1ce6D",
        "outputId": "3f26876d-0cf3-4f55-9369-660ea40c9e54"
      },
      "execution_count": null,
      "outputs": [
        {
          "output_type": "execute_result",
          "data": {
            "text/html": [
              "\n",
              "  <div id=\"df-2daa6d99-1b0b-460f-b88b-77457433e9c7\">\n",
              "    <div class=\"colab-df-container\">\n",
              "      <div>\n",
              "<style scoped>\n",
              "    .dataframe tbody tr th:only-of-type {\n",
              "        vertical-align: middle;\n",
              "    }\n",
              "\n",
              "    .dataframe tbody tr th {\n",
              "        vertical-align: top;\n",
              "    }\n",
              "\n",
              "    .dataframe thead th {\n",
              "        text-align: right;\n",
              "    }\n",
              "</style>\n",
              "<table border=\"1\" class=\"dataframe\">\n",
              "  <thead>\n",
              "    <tr style=\"text-align: right;\">\n",
              "      <th></th>\n",
              "      <th>Total years of experience</th>\n",
              "      <th>Yearly brutto salary</th>\n",
              "      <th>Working hours remaining weekly</th>\n",
              "    </tr>\n",
              "    <tr>\n",
              "      <th>Seniority level</th>\n",
              "      <th></th>\n",
              "      <th></th>\n",
              "      <th></th>\n",
              "    </tr>\n",
              "  </thead>\n",
              "  <tbody>\n",
              "    <tr>\n",
              "      <th>Head</th>\n",
              "      <td>12.314286</td>\n",
              "      <td>88128.571429</td>\n",
              "      <td>34.485714</td>\n",
              "    </tr>\n",
              "    <tr>\n",
              "      <th>Lead</th>\n",
              "      <td>12.015425</td>\n",
              "      <td>83534.041096</td>\n",
              "      <td>29.931507</td>\n",
              "    </tr>\n",
              "    <tr>\n",
              "      <th>Senior</th>\n",
              "      <td>10.103757</td>\n",
              "      <td>72216.879342</td>\n",
              "      <td>31.931444</td>\n",
              "    </tr>\n",
              "    <tr>\n",
              "      <th>Middle</th>\n",
              "      <td>6.038686</td>\n",
              "      <td>59832.575931</td>\n",
              "      <td>32.522923</td>\n",
              "    </tr>\n",
              "    <tr>\n",
              "      <th>Junior</th>\n",
              "      <td>2.754286</td>\n",
              "      <td>49950.000000</td>\n",
              "      <td>34.028571</td>\n",
              "    </tr>\n",
              "  </tbody>\n",
              "</table>\n",
              "</div>\n",
              "      <button class=\"colab-df-convert\" onclick=\"convertToInteractive('df-2daa6d99-1b0b-460f-b88b-77457433e9c7')\"\n",
              "              title=\"Convert this dataframe to an interactive table.\"\n",
              "              style=\"display:none;\">\n",
              "        \n",
              "  <svg xmlns=\"http://www.w3.org/2000/svg\" height=\"24px\"viewBox=\"0 0 24 24\"\n",
              "       width=\"24px\">\n",
              "    <path d=\"M0 0h24v24H0V0z\" fill=\"none\"/>\n",
              "    <path d=\"M18.56 5.44l.94 2.06.94-2.06 2.06-.94-2.06-.94-.94-2.06-.94 2.06-2.06.94zm-11 1L8.5 8.5l.94-2.06 2.06-.94-2.06-.94L8.5 2.5l-.94 2.06-2.06.94zm10 10l.94 2.06.94-2.06 2.06-.94-2.06-.94-.94-2.06-.94 2.06-2.06.94z\"/><path d=\"M17.41 7.96l-1.37-1.37c-.4-.4-.92-.59-1.43-.59-.52 0-1.04.2-1.43.59L10.3 9.45l-7.72 7.72c-.78.78-.78 2.05 0 2.83L4 21.41c.39.39.9.59 1.41.59.51 0 1.02-.2 1.41-.59l7.78-7.78 2.81-2.81c.8-.78.8-2.07 0-2.86zM5.41 20L4 18.59l7.72-7.72 1.47 1.35L5.41 20z\"/>\n",
              "  </svg>\n",
              "      </button>\n",
              "      \n",
              "  <style>\n",
              "    .colab-df-container {\n",
              "      display:flex;\n",
              "      flex-wrap:wrap;\n",
              "      gap: 12px;\n",
              "    }\n",
              "\n",
              "    .colab-df-convert {\n",
              "      background-color: #E8F0FE;\n",
              "      border: none;\n",
              "      border-radius: 50%;\n",
              "      cursor: pointer;\n",
              "      display: none;\n",
              "      fill: #1967D2;\n",
              "      height: 32px;\n",
              "      padding: 0 0 0 0;\n",
              "      width: 32px;\n",
              "    }\n",
              "\n",
              "    .colab-df-convert:hover {\n",
              "      background-color: #E2EBFA;\n",
              "      box-shadow: 0px 1px 2px rgba(60, 64, 67, 0.3), 0px 1px 3px 1px rgba(60, 64, 67, 0.15);\n",
              "      fill: #174EA6;\n",
              "    }\n",
              "\n",
              "    [theme=dark] .colab-df-convert {\n",
              "      background-color: #3B4455;\n",
              "      fill: #D2E3FC;\n",
              "    }\n",
              "\n",
              "    [theme=dark] .colab-df-convert:hover {\n",
              "      background-color: #434B5C;\n",
              "      box-shadow: 0px 1px 3px 1px rgba(0, 0, 0, 0.15);\n",
              "      filter: drop-shadow(0px 1px 2px rgba(0, 0, 0, 0.3));\n",
              "      fill: #FFFFFF;\n",
              "    }\n",
              "  </style>\n",
              "\n",
              "      <script>\n",
              "        const buttonEl =\n",
              "          document.querySelector('#df-2daa6d99-1b0b-460f-b88b-77457433e9c7 button.colab-df-convert');\n",
              "        buttonEl.style.display =\n",
              "          google.colab.kernel.accessAllowed ? 'block' : 'none';\n",
              "\n",
              "        async function convertToInteractive(key) {\n",
              "          const element = document.querySelector('#df-2daa6d99-1b0b-460f-b88b-77457433e9c7');\n",
              "          const dataTable =\n",
              "            await google.colab.kernel.invokeFunction('convertToInteractive',\n",
              "                                                     [key], {});\n",
              "          if (!dataTable) return;\n",
              "\n",
              "          const docLinkHtml = 'Like what you see? Visit the ' +\n",
              "            '<a target=\"_blank\" href=https://colab.research.google.com/notebooks/data_table.ipynb>data table notebook</a>'\n",
              "            + ' to learn more about interactive tables.';\n",
              "          element.innerHTML = '';\n",
              "          dataTable['output_type'] = 'display_data';\n",
              "          await google.colab.output.renderOutput(dataTable, element);\n",
              "          const docLink = document.createElement('div');\n",
              "          docLink.innerHTML = docLinkHtml;\n",
              "          element.appendChild(docLink);\n",
              "        }\n",
              "      </script>\n",
              "    </div>\n",
              "  </div>\n",
              "  "
            ],
            "text/plain": [
              "                 Total years of experience  ...  Working hours remaining weekly\n",
              "Seniority level                             ...                                \n",
              "Head                             12.314286  ...                       34.485714\n",
              "Lead                             12.015425  ...                       29.931507\n",
              "Senior                           10.103757  ...                       31.931444\n",
              "Middle                            6.038686  ...                       32.522923\n",
              "Junior                            2.754286  ...                       34.028571\n",
              "\n",
              "[5 rows x 3 columns]"
            ]
          },
          "metadata": {},
          "execution_count": 56
        }
      ]
    },
    {
      "cell_type": "code",
      "source": [
        "sns.boxplot(data=most_5_levels, x='Seniority level', y='Yearly brutto salary', order=['Junior', 'Middle', 'Senior', 'Lead', 'Head'])"
      ],
      "metadata": {
        "colab": {
          "base_uri": "https://localhost:8080/",
          "height": 297
        },
        "id": "cDq5x7MzHFcM",
        "outputId": "c524ce1a-0952-4a2f-f630-3e5fca4814f8"
      },
      "execution_count": null,
      "outputs": [
        {
          "output_type": "execute_result",
          "data": {
            "text/plain": [
              "<matplotlib.axes._subplots.AxesSubplot at 0x7f7c5a079d10>"
            ]
          },
          "metadata": {},
          "execution_count": 57
        },
        {
          "output_type": "display_data",
          "data": {
            "image/png": "[encoded data removed]",
            "text/plain": [
              "<Figure size 432x288 with 1 Axes>"
            ]
          },
          "metadata": {}
        }
      ]
    },
    {
      "cell_type": "code",
      "source": [
        "most_5_levels[['Seniority level', 'Gender', 'Total years of experience', 'Yearly brutto salary']].groupby(['Gender', 'Seniority level']).mean().sort_values(by=['Gender', 'Total years of experience', 'Seniority level'], ascending=False)"
      ],
      "metadata": {
        "colab": {
          "base_uri": "https://localhost:8080/",
          "height": 488
        },
        "id": "G2PvkMf2RzKU",
        "outputId": "91efac4f-3054-4dc1-a445-6d7a351fd9d2"
      },
      "execution_count": null,
      "outputs": [
        {
          "output_type": "execute_result",
          "data": {
            "text/html": [
              "\n",
              "  <div id=\"df-f2ce0321-ffbe-4c59-873d-c9098b683333\">\n",
              "    <div class=\"colab-df-container\">\n",
              "      <div>\n",
              "<style scoped>\n",
              "    .dataframe tbody tr th:only-of-type {\n",
              "        vertical-align: middle;\n",
              "    }\n",
              "\n",
              "    .dataframe tbody tr th {\n",
              "        vertical-align: top;\n",
              "    }\n",
              "\n",
              "    .dataframe thead th {\n",
              "        text-align: right;\n",
              "    }\n",
              "</style>\n",
              "<table border=\"1\" class=\"dataframe\">\n",
              "  <thead>\n",
              "    <tr style=\"text-align: right;\">\n",
              "      <th></th>\n",
              "      <th></th>\n",
              "      <th>Total years of experience</th>\n",
              "      <th>Yearly brutto salary</th>\n",
              "    </tr>\n",
              "    <tr>\n",
              "      <th>Gender</th>\n",
              "      <th>Seniority level</th>\n",
              "      <th></th>\n",
              "      <th></th>\n",
              "    </tr>\n",
              "  </thead>\n",
              "  <tbody>\n",
              "    <tr>\n",
              "      <th rowspan=\"3\" valign=\"top\">NA</th>\n",
              "      <th>Senior</th>\n",
              "      <td>11.500000</td>\n",
              "      <td>68500.000000</td>\n",
              "    </tr>\n",
              "    <tr>\n",
              "      <th>Lead</th>\n",
              "      <td>8.750687</td>\n",
              "      <td>90000.000000</td>\n",
              "    </tr>\n",
              "    <tr>\n",
              "      <th>Middle</th>\n",
              "      <td>3.500000</td>\n",
              "      <td>65750.000000</td>\n",
              "    </tr>\n",
              "    <tr>\n",
              "      <th rowspan=\"5\" valign=\"top\">Male</th>\n",
              "      <th>Head</th>\n",
              "      <td>12.470588</td>\n",
              "      <td>88514.705882</td>\n",
              "    </tr>\n",
              "    <tr>\n",
              "      <th>Lead</th>\n",
              "      <td>12.202216</td>\n",
              "      <td>84436.544118</td>\n",
              "    </tr>\n",
              "    <tr>\n",
              "      <th>Senior</th>\n",
              "      <td>10.364485</td>\n",
              "      <td>72867.624230</td>\n",
              "    </tr>\n",
              "    <tr>\n",
              "      <th>Middle</th>\n",
              "      <td>6.056426</td>\n",
              "      <td>61032.739300</td>\n",
              "    </tr>\n",
              "    <tr>\n",
              "      <th>Junior</th>\n",
              "      <td>2.836170</td>\n",
              "      <td>49468.085106</td>\n",
              "    </tr>\n",
              "    <tr>\n",
              "      <th rowspan=\"5\" valign=\"top\">Female</th>\n",
              "      <th>Lead</th>\n",
              "      <td>9.555556</td>\n",
              "      <td>69177.777778</td>\n",
              "    </tr>\n",
              "    <tr>\n",
              "      <th>Senior</th>\n",
              "      <td>7.866391</td>\n",
              "      <td>66881.034483</td>\n",
              "    </tr>\n",
              "    <tr>\n",
              "      <th>Head</th>\n",
              "      <td>7.000000</td>\n",
              "      <td>75000.000000</td>\n",
              "    </tr>\n",
              "    <tr>\n",
              "      <th>Middle</th>\n",
              "      <td>6.044444</td>\n",
              "      <td>56273.944444</td>\n",
              "    </tr>\n",
              "    <tr>\n",
              "      <th>Junior</th>\n",
              "      <td>2.586957</td>\n",
              "      <td>50934.782609</td>\n",
              "    </tr>\n",
              "  </tbody>\n",
              "</table>\n",
              "</div>\n",
              "      <button class=\"colab-df-convert\" onclick=\"convertToInteractive('df-f2ce0321-ffbe-4c59-873d-c9098b683333')\"\n",
              "              title=\"Convert this dataframe to an interactive table.\"\n",
              "              style=\"display:none;\">\n",
              "        \n",
              "  <svg xmlns=\"http://www.w3.org/2000/svg\" height=\"24px\"viewBox=\"0 0 24 24\"\n",
              "       width=\"24px\">\n",
              "    <path d=\"M0 0h24v24H0V0z\" fill=\"none\"/>\n",
              "    <path d=\"M18.56 5.44l.94 2.06.94-2.06 2.06-.94-2.06-.94-.94-2.06-.94 2.06-2.06.94zm-11 1L8.5 8.5l.94-2.06 2.06-.94-2.06-.94L8.5 2.5l-.94 2.06-2.06.94zm10 10l.94 2.06.94-2.06 2.06-.94-2.06-.94-.94-2.06-.94 2.06-2.06.94z\"/><path d=\"M17.41 7.96l-1.37-1.37c-.4-.4-.92-.59-1.43-.59-.52 0-1.04.2-1.43.59L10.3 9.45l-7.72 7.72c-.78.78-.78 2.05 0 2.83L4 21.41c.39.39.9.59 1.41.59.51 0 1.02-.2 1.41-.59l7.78-7.78 2.81-2.81c.8-.78.8-2.07 0-2.86zM5.41 20L4 18.59l7.72-7.72 1.47 1.35L5.41 20z\"/>\n",
              "  </svg>\n",
              "      </button>\n",
              "      \n",
              "  <style>\n",
              "    .colab-df-container {\n",
              "      display:flex;\n",
              "      flex-wrap:wrap;\n",
              "      gap: 12px;\n",
              "    }\n",
              "\n",
              "    .colab-df-convert {\n",
              "      background-color: #E8F0FE;\n",
              "      border: none;\n",
              "      border-radius: 50%;\n",
              "      cursor: pointer;\n",
              "      display: none;\n",
              "      fill: #1967D2;\n",
              "      height: 32px;\n",
              "      padding: 0 0 0 0;\n",
              "      width: 32px;\n",
              "    }\n",
              "\n",
              "    .colab-df-convert:hover {\n",
              "      background-color: #E2EBFA;\n",
              "      box-shadow: 0px 1px 2px rgba(60, 64, 67, 0.3), 0px 1px 3px 1px rgba(60, 64, 67, 0.15);\n",
              "      fill: #174EA6;\n",
              "    }\n",
              "\n",
              "    [theme=dark] .colab-df-convert {\n",
              "      background-color: #3B4455;\n",
              "      fill: #D2E3FC;\n",
              "    }\n",
              "\n",
              "    [theme=dark] .colab-df-convert:hover {\n",
              "      background-color: #434B5C;\n",
              "      box-shadow: 0px 1px 3px 1px rgba(0, 0, 0, 0.15);\n",
              "      filter: drop-shadow(0px 1px 2px rgba(0, 0, 0, 0.3));\n",
              "      fill: #FFFFFF;\n",
              "    }\n",
              "  </style>\n",
              "\n",
              "      <script>\n",
              "        const buttonEl =\n",
              "          document.querySelector('#df-f2ce0321-ffbe-4c59-873d-c9098b683333 button.colab-df-convert');\n",
              "        buttonEl.style.display =\n",
              "          google.colab.kernel.accessAllowed ? 'block' : 'none';\n",
              "\n",
              "        async function convertToInteractive(key) {\n",
              "          const element = document.querySelector('#df-f2ce0321-ffbe-4c59-873d-c9098b683333');\n",
              "          const dataTable =\n",
              "            await google.colab.kernel.invokeFunction('convertToInteractive',\n",
              "                                                     [key], {});\n",
              "          if (!dataTable) return;\n",
              "\n",
              "          const docLinkHtml = 'Like what you see? Visit the ' +\n",
              "            '<a target=\"_blank\" href=https://colab.research.google.com/notebooks/data_table.ipynb>data table notebook</a>'\n",
              "            + ' to learn more about interactive tables.';\n",
              "          element.innerHTML = '';\n",
              "          dataTable['output_type'] = 'display_data';\n",
              "          await google.colab.output.renderOutput(dataTable, element);\n",
              "          const docLink = document.createElement('div');\n",
              "          docLink.innerHTML = docLinkHtml;\n",
              "          element.appendChild(docLink);\n",
              "        }\n",
              "      </script>\n",
              "    </div>\n",
              "  </div>\n",
              "  "
            ],
            "text/plain": [
              "                        Total years of experience  Yearly brutto salary\n",
              "Gender Seniority level                                                 \n",
              "NA     Senior                           11.500000          68500.000000\n",
              "       Lead                              8.750687          90000.000000\n",
              "       Middle                            3.500000          65750.000000\n",
              "Male   Head                             12.470588          88514.705882\n",
              "       Lead                             12.202216          84436.544118\n",
              "       Senior                           10.364485          72867.624230\n",
              "       Middle                            6.056426          61032.739300\n",
              "       Junior                            2.836170          49468.085106\n",
              "Female Lead                              9.555556          69177.777778\n",
              "       Senior                            7.866391          66881.034483\n",
              "       Head                              7.000000          75000.000000\n",
              "       Middle                            6.044444          56273.944444\n",
              "       Junior                            2.586957          50934.782609"
            ]
          },
          "metadata": {},
          "execution_count": 58
        }
      ]
    },
    {
      "cell_type": "code",
      "source": [
        "new_df20['Main technology'].groupby(new_df20['Main technology']).count().sort_values(ascending=False).head(10).plot.barh(title='DISTRIBUTION OF MAIN TECHNOLOGIES').invert_yaxis()"
      ],
      "metadata": {
        "id": "OK4RFnevpA27",
        "colab": {
          "base_uri": "https://localhost:8080/",
          "height": 281
        },
        "outputId": "365da9b4-f225-45a0-c2cc-68728eb60127"
      },
      "execution_count": null,
      "outputs": [
        {
          "output_type": "display_data",
          "data": {
            "image/png": "[encoded data removed]",
            "text/plain": [
              "<Figure size 432x288 with 1 Axes>"
            ]
          },
          "metadata": {}
        }
      ]
    },
    {
      "cell_type": "code",
      "source": [
        "most_5_tech = new_df20[new_df20['Main technology'].isin(['Python', 'Java', 'Javascript', 'PHP', 'C++'])]"
      ],
      "metadata": {
        "id": "73pASXf8tSBT"
      },
      "execution_count": null,
      "outputs": []
    },
    {
      "cell_type": "code",
      "source": [
        "most_5_tech['Main technology'].groupby(most_5_tech['Main technology']).count().sort_values(ascending=False).head().plot.barh(title='MOST POPULAR MAIN TECHNOLOGIES').invert_yaxis()"
      ],
      "metadata": {
        "colab": {
          "base_uri": "https://localhost:8080/",
          "height": 281
        },
        "id": "bFvWI21QXBYu",
        "outputId": "d3ff5bc0-0707-4430-d304-02f2e8c74dfa"
      },
      "execution_count": null,
      "outputs": [
        {
          "output_type": "display_data",
          "data": {
            "image/png": "[encoded data removed]",
            "text/plain": [
              "<Figure size 432x288 with 1 Axes>"
            ]
          },
          "metadata": {}
        }
      ]
    },
    {
      "cell_type": "code",
      "source": [
        "sns.boxplot(data=most_5_tech, x='Main technology', y='Yearly brutto salary', order=['C++', 'Java', 'Python', 'Javascript', 'PHP'])"
      ],
      "metadata": {
        "id": "WtPdrZ62Mcon",
        "colab": {
          "base_uri": "https://localhost:8080/",
          "height": 297
        },
        "outputId": "de33c177-a4e9-4874-80da-d6673ef0e6e8"
      },
      "execution_count": null,
      "outputs": [
        {
          "output_type": "execute_result",
          "data": {
            "text/plain": [
              "<matplotlib.axes._subplots.AxesSubplot at 0x7f7c59e6b5d0>"
            ]
          },
          "metadata": {},
          "execution_count": 62
        },
        {
          "output_type": "display_data",
          "data": {
            "image/png": "[encoded data removed]",
            "text/plain": [
              "<Figure size 432x288 with 1 Axes>"
            ]
          },
          "metadata": {}
        }
      ]
    },
    {
      "cell_type": "code",
      "source": [
        "sns.boxplot(data=most_5_tech, x='Main technology', y='Total years of experience', order=['Python', 'Javascript', 'C++', 'Java', 'PHP'])"
      ],
      "metadata": {
        "id": "AP8yt9rhMygM",
        "colab": {
          "base_uri": "https://localhost:8080/",
          "height": 297
        },
        "outputId": "ad1dc940-cde2-4c2d-83b2-21f122778007"
      },
      "execution_count": null,
      "outputs": [
        {
          "output_type": "execute_result",
          "data": {
            "text/plain": [
              "<matplotlib.axes._subplots.AxesSubplot at 0x7f7c59d98850>"
            ]
          },
          "metadata": {},
          "execution_count": 63
        },
        {
          "output_type": "display_data",
          "data": {
            "image/png": "[encoded data removed]",
            "text/plain": [
              "<Figure size 432x288 with 1 Axes>"
            ]
          },
          "metadata": {}
        }
      ]
    },
    {
      "cell_type": "markdown",
      "source": [
        "The influence of coronavirus outbreak"
      ],
      "metadata": {
        "id": "ia4blWXFFAbu"
      }
    },
    {
      "cell_type": "code",
      "source": [
        "sns.displot(new_df20['Working hours remaining weekly'], aspect=1.5).set(title='WORKING TIME UNDER KURZARBEIT')"
      ],
      "metadata": {
        "id": "p3Cn2UWmFJbC",
        "colab": {
          "base_uri": "https://localhost:8080/",
          "height": 403
        },
        "outputId": "bfcc148d-64b0-4725-8599-665272891004"
      },
      "execution_count": null,
      "outputs": [
        {
          "output_type": "execute_result",
          "data": {
            "text/plain": [
              "<seaborn.axisgrid.FacetGrid at 0x7f7c59d9e9d0>"
            ]
          },
          "metadata": {},
          "execution_count": 64
        },
        {
          "output_type": "display_data",
          "data": {
            "image/png": "[encoded data removed]",
            "text/plain": [
              "<Figure size 540x360 with 1 Axes>"
            ]
          },
          "metadata": {}
        }
      ]
    },
    {
      "cell_type": "code",
      "source": [
        "new_df20[new_df20['Working hours remaining weekly'] == 40].shape[0] / new_df20['Working hours remaining weekly'].shape[0] * 100\n",
        "\n",
        "# More than 70% of employees in this survey are not affected by the coronavirus outbreak as their total number of weekly working hours still stays the same."
      ],
      "metadata": {
        "id": "UAFamB9tGq41",
        "colab": {
          "base_uri": "https://localhost:8080/"
        },
        "outputId": "efb20b3d-7fbb-4810-956c-8381be43f998"
      },
      "execution_count": null,
      "outputs": [
        {
          "output_type": "execute_result",
          "data": {
            "text/plain": [
              "72.41673783091375"
            ]
          },
          "metadata": {},
          "execution_count": 65
        }
      ]
    },
    {
      "cell_type": "code",
      "source": [
        "new_df20[new_df20['Working hours remaining weekly'] <= 10].shape[0] / new_df20['Working hours remaining weekly'].shape[0] * 100\n",
        "\n",
        "# On the other hand, nearly 20% of employees were significantly affected by the pandemic as they just worked 10 hours per week or less. Some of them had to find a new job."
      ],
      "metadata": {
        "id": "4oJT2-enNYCe",
        "colab": {
          "base_uri": "https://localhost:8080/"
        },
        "outputId": "c7cf74b6-cba4-4795-ee8b-1dddcbce4d90"
      },
      "execution_count": null,
      "outputs": [
        {
          "output_type": "execute_result",
          "data": {
            "text/plain": [
              "16.82322801024765"
            ]
          },
          "metadata": {},
          "execution_count": 66
        }
      ]
    },
    {
      "cell_type": "code",
      "source": [
        "new_df20[['Total years of experience', 'Working hours remaining weekly']].corr()"
      ],
      "metadata": {
        "id": "LO0CWlUiErDD",
        "colab": {
          "base_uri": "https://localhost:8080/",
          "height": 112
        },
        "outputId": "b8f94b8e-7584-4bf9-eebc-b77e7fce33d6"
      },
      "execution_count": null,
      "outputs": [
        {
          "output_type": "execute_result",
          "data": {
            "text/html": [
              "\n",
              "  <div id=\"df-410af849-bc01-4cc0-abca-f06343e9f48d\">\n",
              "    <div class=\"colab-df-container\">\n",
              "      <div>\n",
              "<style scoped>\n",
              "    .dataframe tbody tr th:only-of-type {\n",
              "        vertical-align: middle;\n",
              "    }\n",
              "\n",
              "    .dataframe tbody tr th {\n",
              "        vertical-align: top;\n",
              "    }\n",
              "\n",
              "    .dataframe thead th {\n",
              "        text-align: right;\n",
              "    }\n",
              "</style>\n",
              "<table border=\"1\" class=\"dataframe\">\n",
              "  <thead>\n",
              "    <tr style=\"text-align: right;\">\n",
              "      <th></th>\n",
              "      <th>Total years of experience</th>\n",
              "      <th>Working hours remaining weekly</th>\n",
              "    </tr>\n",
              "  </thead>\n",
              "  <tbody>\n",
              "    <tr>\n",
              "      <th>Total years of experience</th>\n",
              "      <td>1.000000</td>\n",
              "      <td>-0.037881</td>\n",
              "    </tr>\n",
              "    <tr>\n",
              "      <th>Working hours remaining weekly</th>\n",
              "      <td>-0.037881</td>\n",
              "      <td>1.000000</td>\n",
              "    </tr>\n",
              "  </tbody>\n",
              "</table>\n",
              "</div>\n",
              "      <button class=\"colab-df-convert\" onclick=\"convertToInteractive('df-410af849-bc01-4cc0-abca-f06343e9f48d')\"\n",
              "              title=\"Convert this dataframe to an interactive table.\"\n",
              "              style=\"display:none;\">\n",
              "        \n",
              "  <svg xmlns=\"http://www.w3.org/2000/svg\" height=\"24px\"viewBox=\"0 0 24 24\"\n",
              "       width=\"24px\">\n",
              "    <path d=\"M0 0h24v24H0V0z\" fill=\"none\"/>\n",
              "    <path d=\"M18.56 5.44l.94 2.06.94-2.06 2.06-.94-2.06-.94-.94-2.06-.94 2.06-2.06.94zm-11 1L8.5 8.5l.94-2.06 2.06-.94-2.06-.94L8.5 2.5l-.94 2.06-2.06.94zm10 10l.94 2.06.94-2.06 2.06-.94-2.06-.94-.94-2.06-.94 2.06-2.06.94z\"/><path d=\"M17.41 7.96l-1.37-1.37c-.4-.4-.92-.59-1.43-.59-.52 0-1.04.2-1.43.59L10.3 9.45l-7.72 7.72c-.78.78-.78 2.05 0 2.83L4 21.41c.39.39.9.59 1.41.59.51 0 1.02-.2 1.41-.59l7.78-7.78 2.81-2.81c.8-.78.8-2.07 0-2.86zM5.41 20L4 18.59l7.72-7.72 1.47 1.35L5.41 20z\"/>\n",
              "  </svg>\n",
              "      </button>\n",
              "      \n",
              "  <style>\n",
              "    .colab-df-container {\n",
              "      display:flex;\n",
              "      flex-wrap:wrap;\n",
              "      gap: 12px;\n",
              "    }\n",
              "\n",
              "    .colab-df-convert {\n",
              "      background-color: #E8F0FE;\n",
              "      border: none;\n",
              "      border-radius: 50%;\n",
              "      cursor: pointer;\n",
              "      display: none;\n",
              "      fill: #1967D2;\n",
              "      height: 32px;\n",
              "      padding: 0 0 0 0;\n",
              "      width: 32px;\n",
              "    }\n",
              "\n",
              "    .colab-df-convert:hover {\n",
              "      background-color: #E2EBFA;\n",
              "      box-shadow: 0px 1px 2px rgba(60, 64, 67, 0.3), 0px 1px 3px 1px rgba(60, 64, 67, 0.15);\n",
              "      fill: #174EA6;\n",
              "    }\n",
              "\n",
              "    [theme=dark] .colab-df-convert {\n",
              "      background-color: #3B4455;\n",
              "      fill: #D2E3FC;\n",
              "    }\n",
              "\n",
              "    [theme=dark] .colab-df-convert:hover {\n",
              "      background-color: #434B5C;\n",
              "      box-shadow: 0px 1px 3px 1px rgba(0, 0, 0, 0.15);\n",
              "      filter: drop-shadow(0px 1px 2px rgba(0, 0, 0, 0.3));\n",
              "      fill: #FFFFFF;\n",
              "    }\n",
              "  </style>\n",
              "\n",
              "      <script>\n",
              "        const buttonEl =\n",
              "          document.querySelector('#df-410af849-bc01-4cc0-abca-f06343e9f48d button.colab-df-convert');\n",
              "        buttonEl.style.display =\n",
              "          google.colab.kernel.accessAllowed ? 'block' : 'none';\n",
              "\n",
              "        async function convertToInteractive(key) {\n",
              "          const element = document.querySelector('#df-410af849-bc01-4cc0-abca-f06343e9f48d');\n",
              "          const dataTable =\n",
              "            await google.colab.kernel.invokeFunction('convertToInteractive',\n",
              "                                                     [key], {});\n",
              "          if (!dataTable) return;\n",
              "\n",
              "          const docLinkHtml = 'Like what you see? Visit the ' +\n",
              "            '<a target=\"_blank\" href=https://colab.research.google.com/notebooks/data_table.ipynb>data table notebook</a>'\n",
              "            + ' to learn more about interactive tables.';\n",
              "          element.innerHTML = '';\n",
              "          dataTable['output_type'] = 'display_data';\n",
              "          await google.colab.output.renderOutput(dataTable, element);\n",
              "          const docLink = document.createElement('div');\n",
              "          docLink.innerHTML = docLinkHtml;\n",
              "          element.appendChild(docLink);\n",
              "        }\n",
              "      </script>\n",
              "    </div>\n",
              "  </div>\n",
              "  "
            ],
            "text/plain": [
              "                                Total years of experience  Working hours remaining weekly\n",
              "Total years of experience                        1.000000                       -0.037881\n",
              "Working hours remaining weekly                  -0.037881                        1.000000"
            ]
          },
          "metadata": {},
          "execution_count": 67
        }
      ]
    },
    {
      "cell_type": "markdown",
      "source": [
        "# III. Comparing some interesting features by hypothesis testings"
      ],
      "metadata": {
        "id": "rVleoB9udXno"
      }
    },
    {
      "cell_type": "markdown",
      "source": [
        "## 3.1. Between 2019 and 2020"
      ],
      "metadata": {
        "id": "uyNeQmOMX_vL"
      }
    },
    {
      "cell_type": "code",
      "source": [
        "sal_19.head()"
      ],
      "metadata": {
        "id": "rjbvlyIdeKWj",
        "colab": {
          "base_uri": "https://localhost:8080/"
        },
        "outputId": "aa9b6c83-a0e3-43cf-8e98-585e23377738"
      },
      "execution_count": null,
      "outputs": [
        {
          "output_type": "execute_result",
          "data": {
            "text/html": [
              "\n",
              "  <div id=\"df-6e01de10-fb31-4e35-af12-add11e72f6d7\">\n",
              "    <div class=\"colab-df-container\">\n",
              "      <div>\n",
              "<style scoped>\n",
              "    .dataframe tbody tr th:only-of-type {\n",
              "        vertical-align: middle;\n",
              "    }\n",
              "\n",
              "    .dataframe tbody tr th {\n",
              "        vertical-align: top;\n",
              "    }\n",
              "\n",
              "    .dataframe thead th {\n",
              "        text-align: right;\n",
              "    }\n",
              "</style>\n",
              "<table border=\"1\" class=\"dataframe\">\n",
              "  <thead>\n",
              "    <tr style=\"text-align: right;\">\n",
              "      <th></th>\n",
              "      <th>Zeitstempel</th>\n",
              "      <th>Age</th>\n",
              "      <th>Gender</th>\n",
              "      <th>City</th>\n",
              "      <th>Seniority level</th>\n",
              "      <th>Position (without seniority)</th>\n",
              "      <th>Years of experience</th>\n",
              "      <th>Your main technology / programming language</th>\n",
              "      <th>Yearly brutto salary (without bonus and stocks)</th>\n",
              "      <th>Yearly bonus</th>\n",
              "      <th>Yearly stocks</th>\n",
              "      <th>Yearly brutto salary (without bonus and stocks) one year ago. Only answer if staying in same country</th>\n",
              "      <th>Yearly bonus one year ago. Only answer if staying in same country</th>\n",
              "      <th>Yearly stocks one year ago. Only answer if staying in same country</th>\n",
              "      <th>Number of vacation days</th>\n",
              "      <th>Number of home office days per month</th>\n",
              "      <th>Main language at work</th>\n",
              "      <th>Company name</th>\n",
              "      <th>Company size</th>\n",
              "      <th>Company type</th>\n",
              "      <th>Сontract duration</th>\n",
              "      <th>Company business sector</th>\n",
              "      <th>0</th>\n",
              "    </tr>\n",
              "  </thead>\n",
              "  <tbody>\n",
              "    <tr>\n",
              "      <th>0</th>\n",
              "      <td>02.12.2019 11:18:26</td>\n",
              "      <td>33.0</td>\n",
              "      <td>Male</td>\n",
              "      <td>Berlin</td>\n",
              "      <td>Senior</td>\n",
              "      <td>Fullstack Developer</td>\n",
              "      <td>13</td>\n",
              "      <td>PHP</td>\n",
              "      <td>64000.0</td>\n",
              "      <td>1000.0</td>\n",
              "      <td>NaN</td>\n",
              "      <td>58000.0</td>\n",
              "      <td>1000.0</td>\n",
              "      <td>NaN</td>\n",
              "      <td>29.0</td>\n",
              "      <td>4.0</td>\n",
              "      <td>English</td>\n",
              "      <td>NaN</td>\n",
              "      <td>50-100</td>\n",
              "      <td>Startup</td>\n",
              "      <td>unlimited</td>\n",
              "      <td>Tourism</td>\n",
              "      <td>NaN</td>\n",
              "    </tr>\n",
              "    <tr>\n",
              "      <th>1</th>\n",
              "      <td>02.12.2019 11:18:35</td>\n",
              "      <td>29.0</td>\n",
              "      <td>Male</td>\n",
              "      <td>Berlin</td>\n",
              "      <td>Middle</td>\n",
              "      <td>Backend Developer</td>\n",
              "      <td>3</td>\n",
              "      <td>Python</td>\n",
              "      <td>55000.0</td>\n",
              "      <td>NaN</td>\n",
              "      <td>NaN</td>\n",
              "      <td>55000.0</td>\n",
              "      <td>NaN</td>\n",
              "      <td>NaN</td>\n",
              "      <td>22.0</td>\n",
              "      <td>4.0</td>\n",
              "      <td>English</td>\n",
              "      <td>NaN</td>\n",
              "      <td>10-50</td>\n",
              "      <td>Product</td>\n",
              "      <td>unlimited</td>\n",
              "      <td>Scientific Activities</td>\n",
              "      <td>NaN</td>\n",
              "    </tr>\n",
              "    <tr>\n",
              "      <th>2</th>\n",
              "      <td>02.12.2019 11:18:56</td>\n",
              "      <td>32.0</td>\n",
              "      <td>Male</td>\n",
              "      <td>Berlin</td>\n",
              "      <td>Middle</td>\n",
              "      <td>Mobile Developer</td>\n",
              "      <td>4</td>\n",
              "      <td>Kotlin</td>\n",
              "      <td>70000.0</td>\n",
              "      <td>NaN</td>\n",
              "      <td>NaN</td>\n",
              "      <td>55000.0</td>\n",
              "      <td>NaN</td>\n",
              "      <td>NaN</td>\n",
              "      <td>27.0</td>\n",
              "      <td>NaN</td>\n",
              "      <td>English</td>\n",
              "      <td>NaN</td>\n",
              "      <td>1000+</td>\n",
              "      <td>Startup</td>\n",
              "      <td>unlimited</td>\n",
              "      <td>NaN</td>\n",
              "      <td>NaN</td>\n",
              "    </tr>\n",
              "    <tr>\n",
              "      <th>3</th>\n",
              "      <td>02.12.2019 11:19:08</td>\n",
              "      <td>30.0</td>\n",
              "      <td>Male</td>\n",
              "      <td>Berlin</td>\n",
              "      <td>Senior</td>\n",
              "      <td>Backend Developer</td>\n",
              "      <td>6</td>\n",
              "      <td>PHP</td>\n",
              "      <td>63000.0</td>\n",
              "      <td>NaN</td>\n",
              "      <td>NaN</td>\n",
              "      <td>NaN</td>\n",
              "      <td>NaN</td>\n",
              "      <td>NaN</td>\n",
              "      <td>24.0</td>\n",
              "      <td>NaN</td>\n",
              "      <td>English</td>\n",
              "      <td>Auto1</td>\n",
              "      <td>100-1000</td>\n",
              "      <td>Product</td>\n",
              "      <td>unlimited</td>\n",
              "      <td>Transport</td>\n",
              "      <td>NaN</td>\n",
              "    </tr>\n",
              "    <tr>\n",
              "      <th>4</th>\n",
              "      <td>02.12.2019 11:19:37</td>\n",
              "      <td>32.0</td>\n",
              "      <td>Male</td>\n",
              "      <td>Berlin</td>\n",
              "      <td>Senior</td>\n",
              "      <td>Embedded Developer</td>\n",
              "      <td>10</td>\n",
              "      <td>C/C++</td>\n",
              "      <td>66000.0</td>\n",
              "      <td>NaN</td>\n",
              "      <td>NaN</td>\n",
              "      <td>56000.0</td>\n",
              "      <td>NaN</td>\n",
              "      <td>NaN</td>\n",
              "      <td>30.0</td>\n",
              "      <td>0.0</td>\n",
              "      <td>English</td>\n",
              "      <td>Luxoft</td>\n",
              "      <td>50-100</td>\n",
              "      <td>Product</td>\n",
              "      <td>unlimited</td>\n",
              "      <td>Automotive</td>\n",
              "      <td>NaN</td>\n",
              "    </tr>\n",
              "  </tbody>\n",
              "</table>\n",
              "</div>\n",
              "      <button class=\"colab-df-convert\" onclick=\"convertToInteractive('df-6e01de10-fb31-4e35-af12-add11e72f6d7')\"\n",
              "              title=\"Convert this dataframe to an interactive table.\"\n",
              "              style=\"display:none;\">\n",
              "        \n",
              "  <svg xmlns=\"http://www.w3.org/2000/svg\" height=\"24px\"viewBox=\"0 0 24 24\"\n",
              "       width=\"24px\">\n",
              "    <path d=\"M0 0h24v24H0V0z\" fill=\"none\"/>\n",
              "    <path d=\"M18.56 5.44l.94 2.06.94-2.06 2.06-.94-2.06-.94-.94-2.06-.94 2.06-2.06.94zm-11 1L8.5 8.5l.94-2.06 2.06-.94-2.06-.94L8.5 2.5l-.94 2.06-2.06.94zm10 10l.94 2.06.94-2.06 2.06-.94-2.06-.94-.94-2.06-.94 2.06-2.06.94z\"/><path d=\"M17.41 7.96l-1.37-1.37c-.4-.4-.92-.59-1.43-.59-.52 0-1.04.2-1.43.59L10.3 9.45l-7.72 7.72c-.78.78-.78 2.05 0 2.83L4 21.41c.39.39.9.59 1.41.59.51 0 1.02-.2 1.41-.59l7.78-7.78 2.81-2.81c.8-.78.8-2.07 0-2.86zM5.41 20L4 18.59l7.72-7.72 1.47 1.35L5.41 20z\"/>\n",
              "  </svg>\n",
              "      </button>\n",
              "      \n",
              "  <style>\n",
              "    .colab-df-container {\n",
              "      display:flex;\n",
              "      flex-wrap:wrap;\n",
              "      gap: 12px;\n",
              "    }\n",
              "\n",
              "    .colab-df-convert {\n",
              "      background-color: #E8F0FE;\n",
              "      border: none;\n",
              "      border-radius: 50%;\n",
              "      cursor: pointer;\n",
              "      display: none;\n",
              "      fill: #1967D2;\n",
              "      height: 32px;\n",
              "      padding: 0 0 0 0;\n",
              "      width: 32px;\n",
              "    }\n",
              "\n",
              "    .colab-df-convert:hover {\n",
              "      background-color: #E2EBFA;\n",
              "      box-shadow: 0px 1px 2px rgba(60, 64, 67, 0.3), 0px 1px 3px 1px rgba(60, 64, 67, 0.15);\n",
              "      fill: #174EA6;\n",
              "    }\n",
              "\n",
              "    [theme=dark] .colab-df-convert {\n",
              "      background-color: #3B4455;\n",
              "      fill: #D2E3FC;\n",
              "    }\n",
              "\n",
              "    [theme=dark] .colab-df-convert:hover {\n",
              "      background-color: #434B5C;\n",
              "      box-shadow: 0px 1px 3px 1px rgba(0, 0, 0, 0.15);\n",
              "      filter: drop-shadow(0px 1px 2px rgba(0, 0, 0, 0.3));\n",
              "      fill: #FFFFFF;\n",
              "    }\n",
              "  </style>\n",
              "\n",
              "      <script>\n",
              "        const buttonEl =\n",
              "          document.querySelector('#df-6e01de10-fb31-4e35-af12-add11e72f6d7 button.colab-df-convert');\n",
              "        buttonEl.style.display =\n",
              "          google.colab.kernel.accessAllowed ? 'block' : 'none';\n",
              "\n",
              "        async function convertToInteractive(key) {\n",
              "          const element = document.querySelector('#df-6e01de10-fb31-4e35-af12-add11e72f6d7');\n",
              "          const dataTable =\n",
              "            await google.colab.kernel.invokeFunction('convertToInteractive',\n",
              "                                                     [key], {});\n",
              "          if (!dataTable) return;\n",
              "\n",
              "          const docLinkHtml = 'Like what you see? Visit the ' +\n",
              "            '<a target=\"_blank\" href=https://colab.research.google.com/notebooks/data_table.ipynb>data table notebook</a>'\n",
              "            + ' to learn more about interactive tables.';\n",
              "          element.innerHTML = '';\n",
              "          dataTable['output_type'] = 'display_data';\n",
              "          await google.colab.output.renderOutput(dataTable, element);\n",
              "          const docLink = document.createElement('div');\n",
              "          docLink.innerHTML = docLinkHtml;\n",
              "          element.appendChild(docLink);\n",
              "        }\n",
              "      </script>\n",
              "    </div>\n",
              "  </div>\n",
              "  "
            ],
            "text/plain": [
              "           Zeitstempel   Age  ... Company business sector   0\n",
              "0  02.12.2019 11:18:26  33.0  ...                 Tourism NaN\n",
              "1  02.12.2019 11:18:35  29.0  ...   Scientific Activities NaN\n",
              "2  02.12.2019 11:18:56  32.0  ...                     NaN NaN\n",
              "3  02.12.2019 11:19:08  30.0  ...               Transport NaN\n",
              "4  02.12.2019 11:19:37  32.0  ...              Automotive NaN\n",
              "\n",
              "[5 rows x 23 columns]"
            ]
          },
          "metadata": {},
          "execution_count": 97
        }
      ]
    },
    {
      "cell_type": "code",
      "source": [
        "sal_19.info()"
      ],
      "metadata": {
        "id": "fD2-kMtOVKMI",
        "colab": {
          "base_uri": "https://localhost:8080/"
        },
        "outputId": "bd443937-f363-4950-bf82-39ec3f6dc77c"
      },
      "execution_count": null,
      "outputs": [
        {
          "output_type": "stream",
          "name": "stdout",
          "text": [
            "<class 'pandas.core.frame.DataFrame'>\n",
            "RangeIndex: 991 entries, 0 to 990\n",
            "Data columns (total 23 columns):\n",
            " #   Column                                                                                                Non-Null Count  Dtype  \n",
            "---  ------                                                                                                --------------  -----  \n",
            " 0   Zeitstempel                                                                                           991 non-null    object \n",
            " 1   Age                                                                                                   991 non-null    float64\n",
            " 2   Gender                                                                                                991 non-null    object \n",
            " 3   City                                                                                                  991 non-null    object \n",
            " 4   Seniority level                                                                                       976 non-null    object \n",
            " 5   Position (without seniority)                                                                          990 non-null    object \n",
            " 6   Years of experience                                                                                   991 non-null    int64  \n",
            " 7   Your main technology / programming language                                                           977 non-null    object \n",
            " 8   Yearly brutto salary (without bonus and stocks)                                                       990 non-null    float64\n",
            " 9   Yearly bonus                                                                                          530 non-null    float64\n",
            " 10  Yearly stocks                                                                                         203 non-null    float64\n",
            " 11  Yearly brutto salary (without bonus and stocks) one year ago. Only answer if staying in same country  603 non-null    float64\n",
            " 12  Yearly bonus one year ago. Only answer if staying in same country                                     257 non-null    float64\n",
            " 13  Yearly stocks one year ago. Only answer if staying in same country                                    139 non-null    float64\n",
            " 14  Number of vacation days                                                                               931 non-null    float64\n",
            " 15  Number of home office days per month                                                                  639 non-null    float64\n",
            " 16  Main language at work                                                                                 986 non-null    object \n",
            " 17  Company name                                                                                          257 non-null    object \n",
            " 18  Company size                                                                                          977 non-null    object \n",
            " 19  Company type                                                                                          960 non-null    object \n",
            " 20  Сontract duration                                                                                     962 non-null    object \n",
            " 21  Company business sector                                                                               846 non-null    object \n",
            " 22  0                                                                                                     0 non-null      float64\n",
            "dtypes: float64(10), int64(1), object(12)\n",
            "memory usage: 178.2+ KB\n"
          ]
        }
      ]
    },
    {
      "cell_type": "code",
      "source": [
        "sal_19['Age'].mean()"
      ],
      "metadata": {
        "id": "HmwaITd_VdJb",
        "colab": {
          "base_uri": "https://localhost:8080/"
        },
        "outputId": "a559e7d5-87d6-4571-8c12-b3f1fc4bd02e"
      },
      "execution_count": null,
      "outputs": [
        {
          "output_type": "execute_result",
          "data": {
            "text/plain": [
              "32.370332996972756"
            ]
          },
          "metadata": {},
          "execution_count": 99
        }
      ]
    },
    {
      "cell_type": "code",
      "source": [
        "sal_19['Age'] = sal_19['Age'].fillna(32)"
      ],
      "metadata": {
        "id": "Msl6ejxMVpTb"
      },
      "execution_count": null,
      "outputs": []
    },
    {
      "cell_type": "code",
      "source": [
        "df19 = sal_19[['Age', 'Gender', 'City', 'Seniority level', 'Position (without seniority)', 'Years of experience', 'Your main technology / programming language', 'Yearly brutto salary (without bonus and stocks)', 'Main language at work']]"
      ],
      "metadata": {
        "id": "Q1Np2KBSV22_"
      },
      "execution_count": null,
      "outputs": []
    },
    {
      "cell_type": "code",
      "source": [
        "df19.replace(r\"^ +| +$\", r\"\", regex=True)"
      ],
      "metadata": {
        "id": "r0M3LwelZLmg",
        "colab": {
          "base_uri": "https://localhost:8080/"
        },
        "outputId": "caa16cfc-150d-4528-e9d7-97d2adeb0c0f"
      },
      "execution_count": null,
      "outputs": [
        {
          "output_type": "execute_result",
          "data": {
            "text/html": [
              "\n",
              "  <div id=\"df-a4aa31c7-c3a1-40d7-ac28-6e11eac50e22\">\n",
              "    <div class=\"colab-df-container\">\n",
              "      <div>\n",
              "<style scoped>\n",
              "    .dataframe tbody tr th:only-of-type {\n",
              "        vertical-align: middle;\n",
              "    }\n",
              "\n",
              "    .dataframe tbody tr th {\n",
              "        vertical-align: top;\n",
              "    }\n",
              "\n",
              "    .dataframe thead th {\n",
              "        text-align: right;\n",
              "    }\n",
              "</style>\n",
              "<table border=\"1\" class=\"dataframe\">\n",
              "  <thead>\n",
              "    <tr style=\"text-align: right;\">\n",
              "      <th></th>\n",
              "      <th>Age</th>\n",
              "      <th>Gender</th>\n",
              "      <th>City</th>\n",
              "      <th>Seniority level</th>\n",
              "      <th>Position (without seniority)</th>\n",
              "      <th>Years of experience</th>\n",
              "      <th>Your main technology / programming language</th>\n",
              "      <th>Yearly brutto salary (without bonus and stocks)</th>\n",
              "      <th>Main language at work</th>\n",
              "    </tr>\n",
              "  </thead>\n",
              "  <tbody>\n",
              "    <tr>\n",
              "      <th>0</th>\n",
              "      <td>33.0</td>\n",
              "      <td>Male</td>\n",
              "      <td>Berlin</td>\n",
              "      <td>Senior</td>\n",
              "      <td>Fullstack Developer</td>\n",
              "      <td>13</td>\n",
              "      <td>PHP</td>\n",
              "      <td>64000.0</td>\n",
              "      <td>English</td>\n",
              "    </tr>\n",
              "    <tr>\n",
              "      <th>1</th>\n",
              "      <td>29.0</td>\n",
              "      <td>Male</td>\n",
              "      <td>Berlin</td>\n",
              "      <td>Middle</td>\n",
              "      <td>Backend Developer</td>\n",
              "      <td>3</td>\n",
              "      <td>Python</td>\n",
              "      <td>55000.0</td>\n",
              "      <td>English</td>\n",
              "    </tr>\n",
              "    <tr>\n",
              "      <th>2</th>\n",
              "      <td>32.0</td>\n",
              "      <td>Male</td>\n",
              "      <td>Berlin</td>\n",
              "      <td>Middle</td>\n",
              "      <td>Mobile Developer</td>\n",
              "      <td>4</td>\n",
              "      <td>Kotlin</td>\n",
              "      <td>70000.0</td>\n",
              "      <td>English</td>\n",
              "    </tr>\n",
              "    <tr>\n",
              "      <th>3</th>\n",
              "      <td>30.0</td>\n",
              "      <td>Male</td>\n",
              "      <td>Berlin</td>\n",
              "      <td>Senior</td>\n",
              "      <td>Backend Developer</td>\n",
              "      <td>6</td>\n",
              "      <td>PHP</td>\n",
              "      <td>63000.0</td>\n",
              "      <td>English</td>\n",
              "    </tr>\n",
              "    <tr>\n",
              "      <th>4</th>\n",
              "      <td>32.0</td>\n",
              "      <td>Male</td>\n",
              "      <td>Berlin</td>\n",
              "      <td>Senior</td>\n",
              "      <td>Embedded Developer</td>\n",
              "      <td>10</td>\n",
              "      <td>C/C++</td>\n",
              "      <td>66000.0</td>\n",
              "      <td>English</td>\n",
              "    </tr>\n",
              "    <tr>\n",
              "      <th>...</th>\n",
              "      <td>...</td>\n",
              "      <td>...</td>\n",
              "      <td>...</td>\n",
              "      <td>...</td>\n",
              "      <td>...</td>\n",
              "      <td>...</td>\n",
              "      <td>...</td>\n",
              "      <td>...</td>\n",
              "      <td>...</td>\n",
              "    </tr>\n",
              "    <tr>\n",
              "      <th>986</th>\n",
              "      <td>30.0</td>\n",
              "      <td>Male</td>\n",
              "      <td>Amsterdam</td>\n",
              "      <td>Senior</td>\n",
              "      <td>Backend Developer</td>\n",
              "      <td>10</td>\n",
              "      <td>Python</td>\n",
              "      <td>71000.0</td>\n",
              "      <td>English</td>\n",
              "    </tr>\n",
              "    <tr>\n",
              "      <th>987</th>\n",
              "      <td>28.0</td>\n",
              "      <td>Male</td>\n",
              "      <td>Amsterdam</td>\n",
              "      <td>Senior</td>\n",
              "      <td>Security Engineer</td>\n",
              "      <td>7</td>\n",
              "      <td>Not Relevant</td>\n",
              "      <td>72000.0</td>\n",
              "      <td>English</td>\n",
              "    </tr>\n",
              "    <tr>\n",
              "      <th>988</th>\n",
              "      <td>42.0</td>\n",
              "      <td>Male</td>\n",
              "      <td>Munich</td>\n",
              "      <td>Senior</td>\n",
              "      <td>Manager</td>\n",
              "      <td>9</td>\n",
              "      <td>Not Relevant</td>\n",
              "      <td>68000.0</td>\n",
              "      <td>English</td>\n",
              "    </tr>\n",
              "    <tr>\n",
              "      <th>989</th>\n",
              "      <td>33.0</td>\n",
              "      <td>Male</td>\n",
              "      <td>Berlin</td>\n",
              "      <td>Senior</td>\n",
              "      <td>Software Architect</td>\n",
              "      <td>15</td>\n",
              "      <td>Javascript / Typescript</td>\n",
              "      <td>100000.0</td>\n",
              "      <td>English</td>\n",
              "    </tr>\n",
              "    <tr>\n",
              "      <th>990</th>\n",
              "      <td>32.0</td>\n",
              "      <td>Male</td>\n",
              "      <td>Frankfurt</td>\n",
              "      <td>Middle</td>\n",
              "      <td>Fullstack Developer</td>\n",
              "      <td>5</td>\n",
              "      <td>Java</td>\n",
              "      <td>63000.0</td>\n",
              "      <td>Deutsch</td>\n",
              "    </tr>\n",
              "  </tbody>\n",
              "</table>\n",
              "<p>991 rows × 9 columns</p>\n",
              "</div>\n",
              "      <button class=\"colab-df-convert\" onclick=\"convertToInteractive('df-a4aa31c7-c3a1-40d7-ac28-6e11eac50e22')\"\n",
              "              title=\"Convert this dataframe to an interactive table.\"\n",
              "              style=\"display:none;\">\n",
              "        \n",
              "  <svg xmlns=\"http://www.w3.org/2000/svg\" height=\"24px\"viewBox=\"0 0 24 24\"\n",
              "       width=\"24px\">\n",
              "    <path d=\"M0 0h24v24H0V0z\" fill=\"none\"/>\n",
              "    <path d=\"M18.56 5.44l.94 2.06.94-2.06 2.06-.94-2.06-.94-.94-2.06-.94 2.06-2.06.94zm-11 1L8.5 8.5l.94-2.06 2.06-.94-2.06-.94L8.5 2.5l-.94 2.06-2.06.94zm10 10l.94 2.06.94-2.06 2.06-.94-2.06-.94-.94-2.06-.94 2.06-2.06.94z\"/><path d=\"M17.41 7.96l-1.37-1.37c-.4-.4-.92-.59-1.43-.59-.52 0-1.04.2-1.43.59L10.3 9.45l-7.72 7.72c-.78.78-.78 2.05 0 2.83L4 21.41c.39.39.9.59 1.41.59.51 0 1.02-.2 1.41-.59l7.78-7.78 2.81-2.81c.8-.78.8-2.07 0-2.86zM5.41 20L4 18.59l7.72-7.72 1.47 1.35L5.41 20z\"/>\n",
              "  </svg>\n",
              "      </button>\n",
              "      \n",
              "  <style>\n",
              "    .colab-df-container {\n",
              "      display:flex;\n",
              "      flex-wrap:wrap;\n",
              "      gap: 12px;\n",
              "    }\n",
              "\n",
              "    .colab-df-convert {\n",
              "      background-color: #E8F0FE;\n",
              "      border: none;\n",
              "      border-radius: 50%;\n",
              "      cursor: pointer;\n",
              "      display: none;\n",
              "      fill: #1967D2;\n",
              "      height: 32px;\n",
              "      padding: 0 0 0 0;\n",
              "      width: 32px;\n",
              "    }\n",
              "\n",
              "    .colab-df-convert:hover {\n",
              "      background-color: #E2EBFA;\n",
              "      box-shadow: 0px 1px 2px rgba(60, 64, 67, 0.3), 0px 1px 3px 1px rgba(60, 64, 67, 0.15);\n",
              "      fill: #174EA6;\n",
              "    }\n",
              "\n",
              "    [theme=dark] .colab-df-convert {\n",
              "      background-color: #3B4455;\n",
              "      fill: #D2E3FC;\n",
              "    }\n",
              "\n",
              "    [theme=dark] .colab-df-convert:hover {\n",
              "      background-color: #434B5C;\n",
              "      box-shadow: 0px 1px 3px 1px rgba(0, 0, 0, 0.15);\n",
              "      filter: drop-shadow(0px 1px 2px rgba(0, 0, 0, 0.3));\n",
              "      fill: #FFFFFF;\n",
              "    }\n",
              "  </style>\n",
              "\n",
              "      <script>\n",
              "        const buttonEl =\n",
              "          document.querySelector('#df-a4aa31c7-c3a1-40d7-ac28-6e11eac50e22 button.colab-df-convert');\n",
              "        buttonEl.style.display =\n",
              "          google.colab.kernel.accessAllowed ? 'block' : 'none';\n",
              "\n",
              "        async function convertToInteractive(key) {\n",
              "          const element = document.querySelector('#df-a4aa31c7-c3a1-40d7-ac28-6e11eac50e22');\n",
              "          const dataTable =\n",
              "            await google.colab.kernel.invokeFunction('convertToInteractive',\n",
              "                                                     [key], {});\n",
              "          if (!dataTable) return;\n",
              "\n",
              "          const docLinkHtml = 'Like what you see? Visit the ' +\n",
              "            '<a target=\"_blank\" href=https://colab.research.google.com/notebooks/data_table.ipynb>data table notebook</a>'\n",
              "            + ' to learn more about interactive tables.';\n",
              "          element.innerHTML = '';\n",
              "          dataTable['output_type'] = 'display_data';\n",
              "          await google.colab.output.renderOutput(dataTable, element);\n",
              "          const docLink = document.createElement('div');\n",
              "          docLink.innerHTML = docLinkHtml;\n",
              "          element.appendChild(docLink);\n",
              "        }\n",
              "      </script>\n",
              "    </div>\n",
              "  </div>\n",
              "  "
            ],
            "text/plain": [
              "      Age  ... Main language at work\n",
              "0    33.0  ...               English\n",
              "1    29.0  ...               English\n",
              "2    32.0  ...               English\n",
              "3    30.0  ...               English\n",
              "4    32.0  ...               English\n",
              "..    ...  ...                   ...\n",
              "986  30.0  ...               English\n",
              "987  28.0  ...               English\n",
              "988  42.0  ...               English\n",
              "989  33.0  ...               English\n",
              "990  32.0  ...               Deutsch\n",
              "\n",
              "[991 rows x 9 columns]"
            ]
          },
          "metadata": {},
          "execution_count": 102
        }
      ]
    },
    {
      "cell_type": "code",
      "source": [
        "df19 = df19.rename({'Position (without seniority)': 'Position',\n",
        "                    'Your main technology / programming language': 'Main technology',\n",
        "                    'Yearly brutto salary (without bonus and stocks)': 'Yearly brutto salary'}, axis=1)"
      ],
      "metadata": {
        "id": "z_-LZ5UrZkvn"
      },
      "execution_count": null,
      "outputs": []
    },
    {
      "cell_type": "code",
      "source": [
        "q1_19 = df19['Yearly brutto salary'].quantile(0.25)\n",
        "q3_19 = df19['Yearly brutto salary'].quantile(0.75)\n",
        "iqr_19 = q3_19 - q1_19\n",
        "\n",
        "upper_limit_19 = q3_19 + 1.5 * iqr_19\n",
        "lower_limit_19 = q1_19 - 1.5 * iqr_19"
      ],
      "metadata": {
        "id": "44IKEFNtaSYD"
      },
      "execution_count": null,
      "outputs": []
    },
    {
      "cell_type": "code",
      "source": [
        "new_df19 = df19[(df19['Yearly brutto salary'] < upper_limit_19) & (df19['Yearly brutto salary'] > lower_limit_19)]\n",
        "\n",
        "print('The number of outliers removed is:', df19.shape[0] - new_df19.shape[0])"
      ],
      "metadata": {
        "id": "aC32p0wJbzy8",
        "colab": {
          "base_uri": "https://localhost:8080/"
        },
        "outputId": "2173784d-8042-42f0-87d5-ed4af7a81af3"
      },
      "execution_count": null,
      "outputs": [
        {
          "output_type": "stream",
          "name": "stdout",
          "text": [
            "The number of outliers removed is: 94\n"
          ]
        }
      ]
    },
    {
      "cell_type": "code",
      "source": [
        "new_df19.info()"
      ],
      "metadata": {
        "id": "skT9ZKYNcvpT",
        "colab": {
          "base_uri": "https://localhost:8080/"
        },
        "outputId": "1e5457f5-5bcd-479c-de97-6ef147ac8108"
      },
      "execution_count": null,
      "outputs": [
        {
          "output_type": "stream",
          "name": "stdout",
          "text": [
            "<class 'pandas.core.frame.DataFrame'>\n",
            "Int64Index: 897 entries, 0 to 990\n",
            "Data columns (total 9 columns):\n",
            " #   Column                 Non-Null Count  Dtype  \n",
            "---  ------                 --------------  -----  \n",
            " 0   Age                    897 non-null    float64\n",
            " 1   Gender                 897 non-null    object \n",
            " 2   City                   897 non-null    object \n",
            " 3   Seniority level        883 non-null    object \n",
            " 4   Position               896 non-null    object \n",
            " 5   Years of experience    897 non-null    int64  \n",
            " 6   Main technology        884 non-null    object \n",
            " 7   Yearly brutto salary   897 non-null    float64\n",
            " 8   Main language at work  894 non-null    object \n",
            "dtypes: float64(2), int64(1), object(6)\n",
            "memory usage: 70.1+ KB\n"
          ]
        }
      ]
    },
    {
      "cell_type": "code",
      "source": [
        "from scipy.stats import ttest_ind"
      ],
      "metadata": {
        "id": "Gbsud8d3K2-f"
      },
      "execution_count": null,
      "outputs": []
    },
    {
      "cell_type": "code",
      "source": [
        "sal_male_19 = new_df19[new_df19['Gender'] == 'Male']['Yearly brutto salary']\n",
        "sal_female_19 = new_df19[new_df19['Gender'] == 'Female']['Yearly brutto salary']\n",
        "\n",
        "sal_male_20 = new_df20[new_df20['Gender'] == 'Male']['Yearly brutto salary']\n",
        "sal_female_20 = new_df20[new_df20['Gender'] == 'Female']['Yearly brutto salary']"
      ],
      "metadata": {
        "id": "wLWOV9vuCkV7"
      },
      "execution_count": null,
      "outputs": []
    },
    {
      "cell_type": "code",
      "source": [
        "# H0: sal_male_19 = sal_female_19\n",
        "# Ha: sal_male_19 > sal_female_19\n",
        "\n",
        "ttest_ind(sal_male_19, sal_female_19, equal_var=False, alternative='greater')\n",
        "\n",
        "# p-value < 0.05, reject H0 (i.e. sal_male_19 is significantly greater than sal_female_19)"
      ],
      "metadata": {
        "id": "Puus0oYBuU99",
        "colab": {
          "base_uri": "https://localhost:8080/"
        },
        "outputId": "342171e5-7894-4451-8426-c1087ad14fa1"
      },
      "execution_count": null,
      "outputs": [
        {
          "output_type": "execute_result",
          "data": {
            "text/plain": [
              "Ttest_indResult(statistic=8.055897332517587, pvalue=2.971291621181796e-14)"
            ]
          },
          "metadata": {},
          "execution_count": 109
        }
      ]
    },
    {
      "cell_type": "code",
      "source": [
        "ttest_ind(new_df20['Yearly brutto salary'], new_df19['Yearly brutto salary'], alternative='two-sided')"
      ],
      "metadata": {
        "colab": {
          "base_uri": "https://localhost:8080/"
        },
        "id": "eNLM8cjUyH0w",
        "outputId": "7deae455-db1f-4fff-df60-cccbc4c084ce"
      },
      "execution_count": null,
      "outputs": [
        {
          "output_type": "execute_result",
          "data": {
            "text/plain": [
              "Ttest_indResult(statistic=0.3812226463137931, pvalue=0.7030772450288582)"
            ]
          },
          "metadata": {},
          "execution_count": 110
        }
      ]
    },
    {
      "cell_type": "code",
      "source": [
        "# H0: sal_male_19 = sal_male_20\n",
        "# Ha: sal_male_19 <> sal_male_20\n",
        "\n",
        "ttest_ind(sal_male_19, sal_male_20, equal_var=False, alternative='two-sided')\n",
        "\n",
        "# p-value > 0.05, fail to reject H0 (i.e. the difference between sal_male_19 and sal_male_20 is not statistically significant)"
      ],
      "metadata": {
        "id": "44kTq1HKfZYt",
        "colab": {
          "base_uri": "https://localhost:8080/"
        },
        "outputId": "7ac1aabc-5cdc-40d1-e72a-9f6cb46ccc61"
      },
      "execution_count": null,
      "outputs": [
        {
          "output_type": "execute_result",
          "data": {
            "text/plain": [
              "Ttest_indResult(statistic=-0.3897512352625631, pvalue=0.6967707289273295)"
            ]
          },
          "metadata": {},
          "execution_count": 111
        }
      ]
    },
    {
      "cell_type": "code",
      "source": [
        "# H0: sal_female_19 = sal_female_20\n",
        "# Ha: sal_female_19 <> sal_female_20\n",
        "\n",
        "ttest_ind(sal_female_19, sal_female_20, equal_var=False, alternative='two-sided')\n",
        "\n",
        "# p-value > 0.05, fail to reject H0 (i.e. the difference between sal_female_19 and sal_female_20 is not statistically significant)"
      ],
      "metadata": {
        "id": "L2qYOxTU6cbp",
        "colab": {
          "base_uri": "https://localhost:8080/"
        },
        "outputId": "1da31812-57dc-4393-917d-e3f27430b952"
      },
      "execution_count": null,
      "outputs": [
        {
          "output_type": "execute_result",
          "data": {
            "text/plain": [
              "Ttest_indResult(statistic=0.08398695259117742, pvalue=0.9331243986630062)"
            ]
          },
          "metadata": {},
          "execution_count": 112
        }
      ]
    },
    {
      "cell_type": "code",
      "source": [
        "ber_19 = new_df19[new_df19['City'] == 'Berlin']['Yearly brutto salary']\n",
        "ber_20 = new_df20[new_df20['City'] == 'Berlin']['Yearly brutto salary']\n",
        "\n",
        "mun_19 = new_df19[new_df19['City'] == 'Munich']['Yearly brutto salary']\n",
        "mun_20 = new_df20[new_df20['City'] == 'Munich']['Yearly brutto salary']"
      ],
      "metadata": {
        "id": "ySBJLbTk3oHt"
      },
      "execution_count": null,
      "outputs": []
    },
    {
      "cell_type": "code",
      "source": [
        "ttest_ind(ber_19, ber_20, equal_var=False, alternative='less')"
      ],
      "metadata": {
        "id": "JEMUF5TZ4knf",
        "colab": {
          "base_uri": "https://localhost:8080/"
        },
        "outputId": "a010fe44-0737-4ca6-a8b2-534a16fc78a2"
      },
      "execution_count": null,
      "outputs": [
        {
          "output_type": "execute_result",
          "data": {
            "text/plain": [
              "Ttest_indResult(statistic=-0.7943152733838049, pvalue=0.2136140900710543)"
            ]
          },
          "metadata": {},
          "execution_count": 114
        }
      ]
    },
    {
      "cell_type": "code",
      "source": [
        "ttest_ind(mun_19, mun_20, equal_var=False, alternative='greater')"
      ],
      "metadata": {
        "colab": {
          "base_uri": "https://localhost:8080/"
        },
        "id": "Tn2vcNbtWqGv",
        "outputId": "64258dca-7831-43d8-bdf4-0e59a1e39e61"
      },
      "execution_count": null,
      "outputs": [
        {
          "output_type": "execute_result",
          "data": {
            "text/plain": [
              "Ttest_indResult(statistic=-1.448487285714475, pvalue=0.9258914432157012)"
            ]
          },
          "metadata": {},
          "execution_count": 115
        }
      ]
    },
    {
      "cell_type": "markdown",
      "source": [
        "## 3.2. Among the different technologies (2020)"
      ],
      "metadata": {
        "id": "bl0aaZeaYR35"
      }
    },
    {
      "cell_type": "code",
      "source": [
        "exp_python = most_5_tech[most_5_tech['Main technology'] == 'Python']['Total years of experience']\n",
        "exp_cplus2 = most_5_tech[most_5_tech['Main technology'] == 'C++']['Total years of experience']\n",
        "exp_java = most_5_tech[most_5_tech['Main technology'] == 'Java']['Total years of experience']\n",
        "\n",
        "sal_python = most_5_tech[most_5_tech['Main technology'] == 'Python']['Yearly brutto salary']\n",
        "sal_cplus2 = most_5_tech[most_5_tech['Main technology'] == 'C++']['Yearly brutto salary']\n",
        "sal_java = most_5_tech[most_5_tech['Main technology'] == 'Java']['Yearly brutto salary']"
      ],
      "metadata": {
        "id": "-bI8IpBv8MGe"
      },
      "execution_count": null,
      "outputs": []
    },
    {
      "cell_type": "code",
      "source": [
        "from scipy.stats import f_oneway"
      ],
      "metadata": {
        "id": "zmHbkrCAFhBw"
      },
      "execution_count": null,
      "outputs": []
    },
    {
      "cell_type": "code",
      "source": [
        "f_oneway(sal_python, sal_cplus2, sal_java)"
      ],
      "metadata": {
        "colab": {
          "base_uri": "https://localhost:8080/"
        },
        "id": "t4DfynsRFsCk",
        "outputId": "5f0a8ce0-1c71-41ad-dd69-b274699aba41"
      },
      "execution_count": null,
      "outputs": [
        {
          "output_type": "execute_result",
          "data": {
            "text/plain": [
              "F_onewayResult(statistic=0.2881688947439776, pvalue=0.7497735093330564)"
            ]
          },
          "metadata": {},
          "execution_count": 118
        }
      ]
    },
    {
      "cell_type": "code",
      "source": [
        "f_oneway(exp_python, exp_cplus2, exp_java)"
      ],
      "metadata": {
        "colab": {
          "base_uri": "https://localhost:8080/"
        },
        "id": "HytLUuA8GVRh",
        "outputId": "9fa5c0b5-d0a9-4502-bb37-c90aa8fa4511"
      },
      "execution_count": null,
      "outputs": [
        {
          "output_type": "execute_result",
          "data": {
            "text/plain": [
              "F_onewayResult(statistic=19.269242285824024, pvalue=9.360624352926254e-09)"
            ]
          },
          "metadata": {},
          "execution_count": 119
        }
      ]
    },
    {
      "cell_type": "code",
      "source": [
        "# H0: sal_python = sal_cplus2\n",
        "# Ha: sal_python <> sal_cplus2\n",
        "\n",
        "ttest_ind(sal_python, sal_cplus2, equal_var=False, alternative='two-sided')"
      ],
      "metadata": {
        "id": "FQFGbRfl9qXC",
        "colab": {
          "base_uri": "https://localhost:8080/"
        },
        "outputId": "83e1244f-89e0-44bf-8d9c-0a4838b4e8db"
      },
      "execution_count": null,
      "outputs": [
        {
          "output_type": "execute_result",
          "data": {
            "text/plain": [
              "Ttest_indResult(statistic=-0.6349998625989036, pvalue=0.5280445386055574)"
            ]
          },
          "metadata": {},
          "execution_count": 120
        }
      ]
    },
    {
      "cell_type": "code",
      "source": [
        "# H0: exp_python = exp_cplus2\n",
        "# Ha: exp_python < exp_cplus2\n",
        "\n",
        "ttest_ind(exp_python, exp_cplus2, equal_var=False, alternative='less')"
      ],
      "metadata": {
        "id": "nRNxYWJn9bS0",
        "colab": {
          "base_uri": "https://localhost:8080/"
        },
        "outputId": "e6f36961-2a71-4a7c-f9d4-74e14d4c57bc"
      },
      "execution_count": null,
      "outputs": [
        {
          "output_type": "execute_result",
          "data": {
            "text/plain": [
              "Ttest_indResult(statistic=-3.9000559125414305, pvalue=0.00014374493031240872)"
            ]
          },
          "metadata": {},
          "execution_count": 121
        }
      ]
    },
    {
      "cell_type": "code",
      "source": [
        "# H0: sal_python = sal_java\n",
        "# Ha: sal_python <> sal_java\n",
        "\n",
        "ttest_ind(sal_python, sal_java, equal_var=False, alternative='two-sided')"
      ],
      "metadata": {
        "colab": {
          "base_uri": "https://localhost:8080/"
        },
        "id": "7ccTBM6JV9Dr",
        "outputId": "8f1d63a0-d73f-413c-ad14-e531bf0b51fd"
      },
      "execution_count": null,
      "outputs": [
        {
          "output_type": "execute_result",
          "data": {
            "text/plain": [
              "Ttest_indResult(statistic=-0.3503962972282538, pvalue=0.726223925825083)"
            ]
          },
          "metadata": {},
          "execution_count": 122
        }
      ]
    },
    {
      "cell_type": "code",
      "source": [
        "# H0: exp_python = exp_java\n",
        "# Ha: exp_python < exp_java\n",
        "\n",
        "ttest_ind(exp_python, exp_java, equal_var=False, alternative='less')"
      ],
      "metadata": {
        "colab": {
          "base_uri": "https://localhost:8080/"
        },
        "id": "hwWxmrF9WGOT",
        "outputId": "8aa26791-77c8-4a6e-f85c-57c1b156163a"
      },
      "execution_count": null,
      "outputs": [
        {
          "output_type": "execute_result",
          "data": {
            "text/plain": [
              "Ttest_indResult(statistic=-5.166268422021613, pvalue=1.8882547861883987e-07)"
            ]
          },
          "metadata": {},
          "execution_count": 123
        }
      ]
    },
    {
      "cell_type": "markdown",
      "source": [
        "# IV. Conclusions/Recommendations\n",
        "\n",
        "* The survey was **focused on German employees**, so it didn’t give us an overall picture of the IT sector in the EU. Berlin and Munich are the most distributed cities\n",
        "* It looks like **IT sector was barely influenced by the coronavirus** pandemic\n",
        "* If you want to **make more money** in relatively **less time**, you can **consider Python as your expertise** rather than other technologies"
      ],
      "metadata": {
        "id": "rYhg5plGhETn"
      }
    }
  ]
}